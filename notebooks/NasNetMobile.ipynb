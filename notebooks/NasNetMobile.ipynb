{
 "cells": [
  {
   "cell_type": "markdown",
   "metadata": {},
   "source": [
    "## EasyLabel!\n",
    "\n",
    "In am going to start by generating automatically the file config.xml which contains the configuration that the Label \n",
    "Studio program will consider."
   ]
  },
  {
   "cell_type": "code",
   "execution_count": 1,
   "metadata": {},
   "outputs": [],
   "source": [
    "import xml.etree.ElementTree as ET\n",
    "\n",
    "## This function takes as input the name of the different classes\n",
    "## It creates the file config.xml in the output directory.\n",
    "## list_of_labels is a list of strings\n",
    "def creat_config_xml_image_classification(list_of_labels):\n",
    "    # I am going to start by sorting list_of_labels\n",
    "    list_of_labels.sort()\n",
    "    tree = ET.parse('./configuration/prepare_conf.xml')\n",
    "    root = tree.getroot()\n",
    "    Choices = root.getchildren()[1]\n",
    "    for label in list_of_labels:\n",
    "        data = ET.Element(\"Choice\", {\"value\": label})\n",
    "        Choices.append(data)        \n",
    "    tree.write('config.xml')"
   ]
  },
  {
   "cell_type": "code",
   "execution_count": 2,
   "metadata": {},
   "outputs": [],
   "source": [
    "list_of_labels = [\"Back\",\"Discard\",\"Front\",\"Left\",\"Right\"]"
   ]
  },
  {
   "cell_type": "code",
   "execution_count": 3,
   "metadata": {},
   "outputs": [
    {
     "name": "stderr",
     "output_type": "stream",
     "text": [
      "/c/Users/yfakihan/workspace/POC/POC1/.venv/lib/python3.7/site-packages/ipykernel_launcher.py:11: DeprecationWarning: This method will be removed in future versions.  Use 'list(elem)' or iteration over elem instead.\n",
      "  # This is added back by InteractiveShellApp.init_path()\n"
     ]
    }
   ],
   "source": [
    "creat_config_xml_image_classification(list_of_labels)"
   ]
  },
  {
   "cell_type": "markdown",
   "metadata": {},
   "source": [
    "So we get a file named config.xml that we will use it to configure label studio.\n",
    "\n",
    "In this classification problem, the number of classes is:"
   ]
  },
  {
   "cell_type": "code",
   "execution_count": 4,
   "metadata": {},
   "outputs": [
    {
     "name": "stdout",
     "output_type": "stream",
     "text": [
      "5\n"
     ]
    }
   ],
   "source": [
    "num_class = len(list_of_labels)\n",
    "print(num_class)"
   ]
  },
  {
   "cell_type": "markdown",
   "metadata": {},
   "source": [
    "Nos let’s create the Keras model that will use the Neural Architecture Search Network (NASNet) models:\n",
    "There are two main types of models available in Keras: The sequential model, and the Model class used with the functional API. \n",
    "\n",
    "In the functional API, given some input tensor(s) and output tensor(s), the model will include all layers required to do the computation.\n",
    "\n",
    "And in the sequential model, the model is a linear stack of layers. We can create a Sequential model by passing a list of layers to the constructor. \n",
    "\n",
    "In our classification problem, since our model will not have a very difficult architecture and specially that it will use an already pre-trained model, I am going to use the Sequential model because it seems to be well adapted to this problem.  \n",
    "\n",
    "Furthermore, to better solve this problem, I am going to use the transfer learning method that focuses on storing knowledge gained from a problem met in the past and adapt it to the actual one.\n",
    "\n",
    "In our case, we use the NASNet model, with weights pre-trained on ImageNet. \n"
   ]
  },
  {
   "cell_type": "code",
   "execution_count": 5,
   "metadata": {},
   "outputs": [
    {
     "name": "stderr",
     "output_type": "stream",
     "text": [
      "Using TensorFlow backend.\n"
     ]
    }
   ],
   "source": [
    "from keras.models import Sequential\n",
    "from keras.applications.nasnet import NASNetMobile\n",
    "from keras.layers import Dense\n",
    "from keras.optimizers import SGD\n",
    "\n",
    "def creat_compiled_model():\n",
    "    model = Sequential()\n",
    "    model.add(NASNetMobile(input_shape=(224, 224, 3), include_top=False,\n",
    "                           weights='imagenet', pooling='avg'))\n",
    "    model.add(Dense(num_class,activation='softmax'))\n",
    "    model.layers[0].trainable = True\n",
    "    model.layers[1].trainable = True\n",
    "    sgd = SGD(learning_rate=0.01, momentum=0.01, nesterov=False)\n",
    "    model.compile(optimizer=sgd, loss='hinge',  metrics=['accuracy'])\n",
    "    return model    "
   ]
  },
  {
   "cell_type": "markdown",
   "metadata": {},
   "source": [
    "The function above creates the model that we want to fit. I started by creating an instance of the class sequential. Then, I added two layers to this instance, the first one is the NASNet Mobile model already pre-trained on the Imagenet data set. The second layer is the one representing the output of this model.\n",
    "\n",
    "Finally, to configure the model for training, I make use of the compile function. To that purpose, I choose the Stochastic Gradient Descent as an optimizer, the Hinge loss as a loss function and finally the accuracy as a metric to be evaluated by the model during training and testing. \n"
   ]
  },
  {
   "cell_type": "code",
   "execution_count": 6,
   "metadata": {},
   "outputs": [],
   "source": [
    "model = creat_compiled_model()"
   ]
  },
  {
   "cell_type": "markdown",
   "metadata": {},
   "source": [
    "From now on, the variable model represents our model. And it is ready to be trained. \n",
    "\n",
    "Of course, the configuration/choice of parameters of the different methods used in the function creat_compiled_model is little bit arbitrary. \n",
    "At this point of this project, I can not say what is the best configuration that I must use, but later I am going to do a lot of tests to choose the best combination of parameters. For example, in the future I may use the open source hyperparameter optimization framework ‘Optuna’ to choose these parameters. \n",
    "\n",
    "As we did in the notebook named keras_tensorflow, we can use the result exported from Label Studio representing the labels of the elements of our data set to fit our model, so we will be able to predict the label of some new elements.\n",
    "\n",
    "But this time we are going to do better 😉 ! \n",
    "\n",
    "Indeed, we are going to use the option called Machine Learning backend of Label Studio to do what they call the “Pre-labeling” and the “Online Learning”. Thanks to these two options which are very similar, we can use our model predictions for pre-labeling and to simultaneously update (retrain) our model while new annotations are coming. So, at the end of the labeling task our model will be already trained and ready! "
   ]
  },
  {
   "cell_type": "code",
   "execution_count": null,
   "metadata": {},
   "outputs": [],
   "source": []
  },
  {
   "cell_type": "code",
   "execution_count": null,
   "metadata": {},
   "outputs": [],
   "source": []
  },
  {
   "cell_type": "code",
   "execution_count": null,
   "metadata": {},
   "outputs": [],
   "source": []
  },
  {
   "cell_type": "code",
   "execution_count": null,
   "metadata": {},
   "outputs": [],
   "source": []
  },
  {
   "cell_type": "code",
   "execution_count": null,
   "metadata": {},
   "outputs": [],
   "source": []
  },
  {
   "cell_type": "code",
   "execution_count": null,
   "metadata": {},
   "outputs": [],
   "source": []
  },
  {
   "cell_type": "code",
   "execution_count": null,
   "metadata": {},
   "outputs": [],
   "source": []
  },
  {
   "cell_type": "code",
   "execution_count": null,
   "metadata": {},
   "outputs": [],
   "source": []
  },
  {
   "cell_type": "code",
   "execution_count": null,
   "metadata": {},
   "outputs": [],
   "source": []
  },
  {
   "cell_type": "code",
   "execution_count": null,
   "metadata": {},
   "outputs": [],
   "source": []
  },
  {
   "cell_type": "code",
   "execution_count": null,
   "metadata": {},
   "outputs": [],
   "source": []
  },
  {
   "cell_type": "code",
   "execution_count": null,
   "metadata": {},
   "outputs": [],
   "source": []
  },
  {
   "cell_type": "code",
   "execution_count": null,
   "metadata": {},
   "outputs": [],
   "source": []
  },
  {
   "cell_type": "code",
   "execution_count": null,
   "metadata": {},
   "outputs": [],
   "source": []
  }
 ],
 "metadata": {
  "kernelspec": {
   "display_name": "python3.7 (poc1_vision)",
   "language": "python",
   "name": "poc1_vision"
  },
  "language_info": {
   "codemirror_mode": {
    "name": "ipython",
    "version": 3
   },
   "file_extension": ".py",
   "mimetype": "text/x-python",
   "name": "python",
   "nbconvert_exporter": "python",
   "pygments_lexer": "ipython3",
   "version": "3.7.7"
  }
 },
 "nbformat": 4,
 "nbformat_minor": 4
}
