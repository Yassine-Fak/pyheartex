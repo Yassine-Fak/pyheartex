{
 "cells": [
  {
   "cell_type": "code",
   "execution_count": 1,
   "metadata": {},
   "outputs": [],
   "source": [
    "from tensorflow.keras.models import load_model\n",
    "from tensorflow.keras.preprocessing.image import load_img\n",
    "from tensorflow.keras.preprocessing.image import img_to_array\n",
    "from tensorflow.keras.models import Sequential\n",
    "from tensorflow.keras.applications.nasnet import NASNetMobile\n",
    "from tensorflow.keras.layers import Dense\n",
    "from tensorflow.keras.optimizers import SGD\n",
    "import numpy as np"
   ]
  },
  {
   "cell_type": "code",
   "execution_count": null,
   "metadata": {
    "scrolled": true
   },
   "outputs": [],
   "source": [
    "!pip install tensorflow==2.2.0rc2"
   ]
  },
  {
   "cell_type": "code",
   "execution_count": 27,
   "metadata": {},
   "outputs": [
    {
     "name": "stdout",
     "output_type": "stream",
     "text": [
      "2.1.0\n"
     ]
    }
   ],
   "source": [
    "import tensorflow as tf\n",
    "print(tf.__version__)"
   ]
  },
  {
   "cell_type": "code",
   "execution_count": 3,
   "metadata": {},
   "outputs": [],
   "source": [
    "num_class = 5\n",
    "def creat_compiled_model():\n",
    "    model = Sequential()\n",
    "    model.add(NASNetMobile(input_shape=(224, 224, 3), include_top=False,\n",
    "                           weights='imagenet', pooling='avg'))\n",
    "    model.add(Dense(num_class, activation='softmax'))\n",
    "    model.layers[0].trainable = True\n",
    "    model.layers[1].trainable = True\n",
    "    sgd = SGD(learning_rate=0.01, momentum=0.01, nesterov=False)\n",
    "    model.compile(optimizer=sgd, loss='hinge',  metrics=['accuracy'])\n",
    "    return model"
   ]
  },
  {
   "cell_type": "code",
   "execution_count": 4,
   "metadata": {},
   "outputs": [],
   "source": [
    "model3 = creat_compiled_model()"
   ]
  },
  {
   "cell_type": "code",
   "execution_count": 5,
   "metadata": {},
   "outputs": [],
   "source": [
    "from tensorflow.keras.applications.resnet50 import preprocess_input\n",
    "from tensorflow.keras.preprocessing.image import ImageDataGenerator"
   ]
  },
  {
   "cell_type": "code",
   "execution_count": 6,
   "metadata": {},
   "outputs": [],
   "source": [
    "# https://www.tensorflow.org/api_docs/python/tf/keras/Model#fit_generator\n",
    "train_datagen = ImageDataGenerator(rescale=1./255, preprocessing_function=preprocess_input)"
   ]
  },
  {
   "cell_type": "code",
   "execution_count": 7,
   "metadata": {},
   "outputs": [
    {
     "name": "stdout",
     "output_type": "stream",
     "text": [
      "Found 99 images belonging to 5 classes.\n",
      "WARNING:tensorflow:sample_weight modes were coerced from\n",
      "  ...\n",
      "    to  \n",
      "  ['...']\n",
      "Train for 3 steps\n",
      "Epoch 1/3\n",
      "3/3 [==============================] - 36s 12s/step - loss: 1.1261 - accuracy: 0.1667\n",
      "Epoch 2/3\n",
      "3/3 [==============================] - 4s 1s/step - loss: 1.1180 - accuracy: 0.2500\n",
      "Epoch 3/3\n",
      "3/3 [==============================] - 4s 1s/step - loss: 1.0644 - accuracy: 0.4167\n"
     ]
    },
    {
     "data": {
      "text/plain": [
       "<tensorflow.python.keras.callbacks.History at 0x7fa2ba438150>"
      ]
     },
     "execution_count": 7,
     "metadata": {},
     "output_type": "execute_result"
    }
   ],
   "source": [
    "train_generator = train_datagen.flow_from_directory('labelled_data', batch_size=4)\n",
    "model3.fit(train_generator, epochs=3, steps_per_epoch=3)"
   ]
  },
  {
   "cell_type": "code",
   "execution_count": 8,
   "metadata": {},
   "outputs": [
    {
     "name": "stdout",
     "output_type": "stream",
     "text": [
      "[9.9915600e-01 5.7631783e-04 6.7334477e-05 1.7033714e-04 3.0036743e-05]\n",
      "['Back']\n",
      "[0.9991559982299805]\n"
     ]
    }
   ],
   "source": [
    "#del image\n",
    "image = load_img('./labelled_data/Front/00035.jpg', target_size=(224, 224))\n",
    "#print(image)\n",
    "image = img_to_array(image)\n",
    "#print(image)\n",
    "image = image.reshape((1, image.shape[0], image.shape[1], image.shape[2]))\n",
    "#print(image)\n",
    "# cette ligne a verifier le self?\n",
    "probs = model3.predict(image)[0]\n",
    "pred_labels, pred_scores = [], []\n",
    "print(probs)\n",
    "list_of_labels = [\"Back\", \"Discard\", \"Front\", \"Left\", \"Right\"]\n",
    "label_idx = np.argmax(probs)\n",
    "label = list_of_labels[label_idx]\n",
    "score = probs[label_idx]\n",
    "pred_labels.append(label)\n",
    "pred_scores.append(score.item())\n",
    "print(pred_labels)\n",
    "print(pred_scores)"
   ]
  },
  {
   "cell_type": "code",
   "execution_count": 9,
   "metadata": {
    "scrolled": true
   },
   "outputs": [
    {
     "name": "stdout",
     "output_type": "stream",
     "text": [
      "0\n",
      "0 <class 'int'>\n",
      "5 <class 'int'>\n"
     ]
    }
   ],
   "source": [
    "image = load_img('./labelled_data/Right/07944.jpg', target_size=(224, 224))\n",
    "image = img_to_array(image)\n",
    "image = image.reshape((1, image.shape[0], image.shape[1], image.shape[2]))\n",
    "print(model3.predict_classes(image)[0])\n",
    "x = int(model3.predict_classes(image)[0])\n",
    "print(x, type(x))\n",
    "y = 5\n",
    "print(y, type(y))"
   ]
  },
  {
   "cell_type": "code",
   "execution_count": 10,
   "metadata": {},
   "outputs": [],
   "source": [
    "sgd = SGD(learning_rate=0.01, momentum=0.01, nesterov=False)\n",
    "model3.compile(optimizer=sgd, loss='hinge', metrics=['accuracy'])"
   ]
  },
  {
   "cell_type": "code",
   "execution_count": 11,
   "metadata": {},
   "outputs": [],
   "source": [
    "model3.save(\"./labelled_data/trained_model\", save_format='h5')"
   ]
  },
  {
   "cell_type": "code",
   "execution_count": 12,
   "metadata": {},
   "outputs": [],
   "source": [
    "loaded_model = load_model(\"./labelled_data/trained_model\")"
   ]
  },
  {
   "cell_type": "code",
   "execution_count": null,
   "metadata": {},
   "outputs": [],
   "source": []
  },
  {
   "cell_type": "code",
   "execution_count": null,
   "metadata": {},
   "outputs": [],
   "source": []
  },
  {
   "cell_type": "code",
   "execution_count": null,
   "metadata": {},
   "outputs": [],
   "source": []
  },
  {
   "cell_type": "code",
   "execution_count": null,
   "metadata": {},
   "outputs": [],
   "source": []
  }
 ],
 "metadata": {
  "kernelspec": {
   "display_name": "python3.7 (poc1_vision)",
   "language": "python",
   "name": "poc1_vision"
  },
  "language_info": {
   "codemirror_mode": {
    "name": "ipython",
    "version": 3
   },
   "file_extension": ".py",
   "mimetype": "text/x-python",
   "name": "python",
   "nbconvert_exporter": "python",
   "pygments_lexer": "ipython3",
   "version": "3.7.7"
  }
 },
 "nbformat": 4,
 "nbformat_minor": 4
}
