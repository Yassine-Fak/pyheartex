{
 "cells": [
  {
   "cell_type": "code",
   "execution_count": 1,
   "metadata": {},
   "outputs": [],
   "source": [
    "from tensorflow.keras.models import load_model\n",
    "from tensorflow.keras.preprocessing.image import load_img\n",
    "from tensorflow.keras.preprocessing.image import img_to_array\n",
    "from tensorflow.keras.models import Sequential\n",
    "from tensorflow.keras.applications.nasnet import NASNetMobile\n",
    "from tensorflow.keras.layers import Dense\n",
    "from tensorflow.keras.optimizers import SGD\n",
    "import numpy as np"
   ]
  },
  {
   "cell_type": "code",
   "execution_count": null,
   "metadata": {
    "scrolled": true
   },
   "outputs": [],
   "source": [
    "!pip install tensorflow==2.2.0rc2"
   ]
  },
  {
   "cell_type": "code",
   "execution_count": 2,
   "metadata": {},
   "outputs": [
    {
     "name": "stdout",
     "output_type": "stream",
     "text": [
      "2.2.0-rc2\n"
     ]
    }
   ],
   "source": [
    "import tensorflow as tf\n",
    "print(tf.__version__)"
   ]
  },
  {
   "cell_type": "code",
   "execution_count": 4,
   "metadata": {},
   "outputs": [],
   "source": [
    "num_class = 5\n",
    "def creat_compiled_model():\n",
    "    model = Sequential()\n",
    "    model.add(NASNetMobile(input_shape=(224, 224, 3), include_top=False,\n",
    "                           weights='imagenet', pooling='avg'))\n",
    "    model.add(Dense(num_class, activation='softmax'))\n",
    "    model.layers[0].trainable = True\n",
    "    model.layers[1].trainable = True\n",
    "    sgd = SGD(learning_rate=0.01, momentum=0.01, nesterov=False)\n",
    "    model.compile(optimizer=sgd, loss='hinge',  metrics=['accuracy'])\n",
    "    return model\n",
    "\n",
    "model2 = creat_compiled_model()\n",
    "model3 = creat_compiled_model()"
   ]
  },
  {
   "cell_type": "code",
   "execution_count": 5,
   "metadata": {},
   "outputs": [],
   "source": [
    "from tensorflow.keras.applications.resnet50 import preprocess_input\n",
    "from tensorflow.keras.preprocessing.image import ImageDataGenerator"
   ]
  },
  {
   "cell_type": "code",
   "execution_count": 9,
   "metadata": {},
   "outputs": [
    {
     "name": "stdout",
     "output_type": "stream",
     "text": [
      "Found 99 images belonging to 5 classes.\n",
      "Epoch 1/2\n",
      "2/2 [==============================] - 1s 315ms/step - loss: 1.0970 - accuracy: 0.6250\n",
      "Epoch 2/2\n",
      "2/2 [==============================] - 1s 360ms/step - loss: 1.1270 - accuracy: 0.1250\n"
     ]
    },
    {
     "data": {
      "text/plain": [
       "<tensorflow.python.keras.callbacks.History at 0x7f7f74cbe908>"
      ]
     },
     "execution_count": 9,
     "metadata": {},
     "output_type": "execute_result"
    }
   ],
   "source": [
    "# https://www.tensorflow.org/api_docs/python/tf/keras/Model#fit_generator\n",
    "train_datagen = ImageDataGenerator(rescale=1./255, preprocessing_function=preprocess_input)\n",
    "train_generator = train_datagen.flow_from_directory('labelled_data', batch_size=4)\n",
    "model3.fit(x=train_generator,epochs=2, steps_per_epoch=2 )"
   ]
  },
  {
   "cell_type": "code",
   "execution_count": 7,
   "metadata": {},
   "outputs": [
    {
     "name": "stdout",
     "output_type": "stream",
     "text": [
      "[1.2880607e-06 1.8086722e-03 1.3093783e-06 9.9807203e-01 1.1667530e-04]\n",
      "['Left']\n",
      "[0.9980720281600952]\n"
     ]
    }
   ],
   "source": [
    "pred_labels, pred_scores = [], []\n",
    "list_of_labels = [\"Back\", \"Discard\", \"Front\", \"Left\", \"Right\"]\n",
    "image = load_img('./labelled_data/Front/00036.jpg', target_size=(224, 224))\n",
    "image = img_to_array(image)\n",
    "image = image.reshape((1, image.shape[0], image.shape[1], image.shape[2]))\n",
    "# cette ligne a verifier le self?\n",
    "probs = model3.predict(image)[0]\n",
    "print(probs)\n",
    "label_idx = np.argmax(probs)\n",
    "label = list_of_labels[label_idx]\n",
    "score = probs[label_idx]\n",
    "pred_labels.append(label)\n",
    "pred_scores.append(score.item())\n",
    "print(pred_labels)\n",
    "print(pred_scores)"
   ]
  },
  {
   "cell_type": "code",
   "execution_count": null,
   "metadata": {},
   "outputs": [],
   "source": [
    "model3.layers[2].trainable = False"
   ]
  },
  {
   "cell_type": "code",
   "execution_count": 11,
   "metadata": {},
   "outputs": [
    {
     "name": "stdout",
     "output_type": "stream",
     "text": [
      "WARNING:tensorflow:From /home/yassine/.local/lib/python3.6/site-packages/tensorflow/python/ops/resource_variable_ops.py:1817: calling BaseResourceVariable.__init__ (from tensorflow.python.ops.resource_variable_ops) with constraint is deprecated and will be removed in a future version.\n",
      "Instructions for updating:\n",
      "If using Keras pass *_constraint arguments to layers.\n",
      "INFO:tensorflow:Assets written to: labelled_data/trained_model/assets\n"
     ]
    }
   ],
   "source": [
    "import os \n",
    "path = os.path.join(\"labelled_data\", \"trained_model\")\n",
    "#model3.layers[0].trainable = False\n",
    "#model3.layers[1].trainable = False\n",
    "model3.save(path,save_format=\"tf\")"
   ]
  },
  {
   "cell_type": "code",
   "execution_count": 12,
   "metadata": {},
   "outputs": [],
   "source": [
    "import os \n",
    "path = os.path.join(\"labelled_data\", \"trained_model\")\n",
    "loaded_model = load_model(path)"
   ]
  },
  {
   "cell_type": "code",
   "execution_count": 13,
   "metadata": {},
   "outputs": [
    {
     "name": "stdout",
     "output_type": "stream",
     "text": [
      "[1.2880607e-06 1.8086722e-03 1.3093783e-06 9.9807203e-01 1.1667530e-04]\n",
      "['Left']\n",
      "[0.9980720281600952]\n"
     ]
    }
   ],
   "source": [
    "pred_labels, pred_scores = [], []\n",
    "list_of_labels = [\"Back\", \"Discard\", \"Front\", \"Left\", \"Right\"]\n",
    "image = load_img('./labelled_data/Front/00036.jpg', target_size=(224, 224))\n",
    "image = img_to_array(image)\n",
    "image = image.reshape((1, image.shape[0], image.shape[1], image.shape[2]))\n",
    "# cette ligne a verifier le self?\n",
    "probs = loaded_model.predict(image)[0]\n",
    "print(probs)\n",
    "label_idx = np.argmax(probs)\n",
    "label = list_of_labels[label_idx]\n",
    "score = probs[label_idx]\n",
    "pred_labels.append(label)\n",
    "pred_scores.append(score.item())\n",
    "print(pred_labels)\n",
    "print(pred_scores)"
   ]
  },
  {
   "cell_type": "code",
   "execution_count": 11,
   "metadata": {},
   "outputs": [
    {
     "name": "stdout",
     "output_type": "stream",
     "text": [
      "Model: \"sequential_1\"\n",
      "_________________________________________________________________\n",
      "Layer (type)                 Output Shape              Param #   \n",
      "=================================================================\n",
      "NASNet (Model)               (None, 1056)              4269716   \n",
      "_________________________________________________________________\n",
      "dense_1 (Dense)              (None, 5)                 5285      \n",
      "=================================================================\n",
      "Total params: 4,275,001\n",
      "Trainable params: 4,238,263\n",
      "Non-trainable params: 36,738\n",
      "_________________________________________________________________\n"
     ]
    }
   ],
   "source": [
    "model3.summary()\n",
    "mm = model3.layers[0]"
   ]
  },
  {
   "cell_type": "code",
   "execution_count": null,
   "metadata": {},
   "outputs": [],
   "source": []
  },
  {
   "cell_type": "code",
   "execution_count": null,
   "metadata": {},
   "outputs": [],
   "source": []
  },
  {
   "cell_type": "code",
   "execution_count": null,
   "metadata": {},
   "outputs": [],
   "source": []
  },
  {
   "cell_type": "code",
   "execution_count": null,
   "metadata": {},
   "outputs": [],
   "source": []
  },
  {
   "cell_type": "code",
   "execution_count": null,
   "metadata": {},
   "outputs": [],
   "source": []
  },
  {
   "cell_type": "code",
   "execution_count": null,
   "metadata": {},
   "outputs": [],
   "source": []
  },
  {
   "cell_type": "code",
   "execution_count": null,
   "metadata": {},
   "outputs": [],
   "source": []
  },
  {
   "cell_type": "code",
   "execution_count": 61,
   "metadata": {},
   "outputs": [],
   "source": [
    "import os \n",
    "path = os.path.join(\"labelled_data\", \"model\")\n",
    "model3.save(path, overwrite=True, include_optimizer=False,save_format='h5')"
   ]
  },
  {
   "cell_type": "markdown",
   "metadata": {},
   "source": [
    "https://www.tensorflow.org/api_docs/python/tf/keras/Model#save"
   ]
  },
  {
   "cell_type": "code",
   "execution_count": 62,
   "metadata": {},
   "outputs": [],
   "source": [
    "mod = load_model(\"labelled_data/model\",compile=False)\n",
    "#mod.summary()\n"
   ]
  },
  {
   "cell_type": "code",
   "execution_count": 63,
   "metadata": {},
   "outputs": [
    {
     "name": "stdout",
     "output_type": "stream",
     "text": [
      "[3.0930175e-06 7.0649298e-07 1.0134218e-07 9.9999607e-01 3.4672703e-12]\n",
      "['Left']\n",
      "[0.9999960660934448]\n"
     ]
    }
   ],
   "source": [
    "pred_labels, pred_scores = [], []\n",
    "list_of_labels = [\"Back\", \"Discard\", \"Front\", \"Left\", \"Right\"]\n",
    "image = load_img('./labelled_data/Front/00044.jpg', target_size=(224, 224))\n",
    "image = img_to_array(image)\n",
    "image = image.reshape((1, image.shape[0], image.shape[1], image.shape[2]))\n",
    "# cette ligne a verifier le self?\n",
    "probs = mod.predict(image)[0]\n",
    "print(probs)\n",
    "label_idx = np.argmax(probs)\n",
    "label = list_of_labels[label_idx]\n",
    "score = probs[label_idx]\n",
    "pred_labels.append(label)\n",
    "pred_scores.append(score.item())\n",
    "print(pred_labels)\n",
    "print(pred_scores)"
   ]
  },
  {
   "cell_type": "code",
   "execution_count": 64,
   "metadata": {},
   "outputs": [
    {
     "name": "stdout",
     "output_type": "stream",
     "text": [
      "[3.0930175e-06 7.0649298e-07 1.0134218e-07 9.9999607e-01 3.4672703e-12]\n",
      "['Left']\n",
      "[0.9999960660934448]\n"
     ]
    }
   ],
   "source": [
    "pred_labels, pred_scores = [], []\n",
    "list_of_labels = [\"Back\", \"Discard\", \"Front\", \"Left\", \"Right\"]\n",
    "image = load_img('./labelled_data/Front/00044.jpg', target_size=(224, 224))\n",
    "image = img_to_array(image)\n",
    "image = image.reshape((1, image.shape[0], image.shape[1], image.shape[2]))\n",
    "# cette ligne a verifier le self?\n",
    "probs = model3.predict(image)[0]\n",
    "print(probs)\n",
    "label_idx = np.argmax(probs)\n",
    "label = list_of_labels[label_idx]\n",
    "score = probs[label_idx]\n",
    "pred_labels.append(label)\n",
    "pred_scores.append(score.item())\n",
    "print(pred_labels)\n",
    "print(pred_scores)"
   ]
  },
  {
   "cell_type": "code",
   "execution_count": 29,
   "metadata": {},
   "outputs": [
    {
     "name": "stdout",
     "output_type": "stream",
     "text": [
      "{'name': 'SGD', 'learning_rate': 0.01, 'decay': 0.0, 'momentum': 0.01, 'nesterov': False}\n"
     ]
    },
    {
     "ename": "NameError",
     "evalue": "name 'loss' is not defined",
     "output_type": "error",
     "traceback": [
      "\u001b[0;31m---------------------------------------------------------------------------\u001b[0m",
      "\u001b[0;31mNameError\u001b[0m                                 Traceback (most recent call last)",
      "\u001b[0;32m<ipython-input-29-cdbbc468e712>\u001b[0m in \u001b[0;36m<module>\u001b[0;34m()\u001b[0m\n\u001b[1;32m      1\u001b[0m \u001b[0mprint\u001b[0m\u001b[0;34m(\u001b[0m\u001b[0mmodel3\u001b[0m\u001b[0;34m.\u001b[0m\u001b[0moptimizer\u001b[0m\u001b[0;34m.\u001b[0m\u001b[0mget_config\u001b[0m\u001b[0;34m(\u001b[0m\u001b[0;34m)\u001b[0m\u001b[0;34m)\u001b[0m\u001b[0;34m\u001b[0m\u001b[0;34m\u001b[0m\u001b[0m\n\u001b[0;32m----> 2\u001b[0;31m \u001b[0mprint\u001b[0m\u001b[0;34m(\u001b[0m\u001b[0mmod\u001b[0m\u001b[0;34m.\u001b[0m\u001b[0moptimizer\u001b[0m\u001b[0;34m.\u001b[0m\u001b[0mget_gradients\u001b[0m\u001b[0;34m(\u001b[0m\u001b[0mloss\u001b[0m\u001b[0;34m)\u001b[0m\u001b[0;34m)\u001b[0m\u001b[0;34m\u001b[0m\u001b[0;34m\u001b[0m\u001b[0m\n\u001b[0m",
      "\u001b[0;31mNameError\u001b[0m: name 'loss' is not defined"
     ]
    }
   ],
   "source": [
    "print(model3.optimizer.get_config())\n"
   ]
  },
  {
   "cell_type": "code",
   "execution_count": 26,
   "metadata": {},
   "outputs": [
    {
     "name": "stdout",
     "output_type": "stream",
     "text": [
      "True\n"
     ]
    },
    {
     "ename": "TypeError",
     "evalue": "get_gradients() missing 2 required positional arguments: 'loss' and 'params'",
     "output_type": "error",
     "traceback": [
      "\u001b[0;31m---------------------------------------------------------------------------\u001b[0m",
      "\u001b[0;31mTypeError\u001b[0m                                 Traceback (most recent call last)",
      "\u001b[0;32m<ipython-input-26-adef296ab7fb>\u001b[0m in \u001b[0;36m<module>\u001b[0;34m()\u001b[0m\n\u001b[1;32m      1\u001b[0m \u001b[0mprint\u001b[0m\u001b[0;34m(\u001b[0m\u001b[0mmod\u001b[0m\u001b[0;34m.\u001b[0m\u001b[0moptimizer\u001b[0m\u001b[0;34m.\u001b[0m\u001b[0mget_config\u001b[0m\u001b[0;34m(\u001b[0m\u001b[0;34m)\u001b[0m \u001b[0;34m==\u001b[0m \u001b[0mmodel3\u001b[0m\u001b[0;34m.\u001b[0m\u001b[0moptimizer\u001b[0m\u001b[0;34m.\u001b[0m\u001b[0mget_config\u001b[0m\u001b[0;34m(\u001b[0m\u001b[0;34m)\u001b[0m\u001b[0;34m)\u001b[0m\u001b[0;34m\u001b[0m\u001b[0;34m\u001b[0m\u001b[0m\n\u001b[0;32m----> 2\u001b[0;31m \u001b[0mprint\u001b[0m\u001b[0;34m(\u001b[0m\u001b[0mmod\u001b[0m\u001b[0;34m.\u001b[0m\u001b[0moptimizer\u001b[0m\u001b[0;34m.\u001b[0m\u001b[0mget_gradients\u001b[0m\u001b[0;34m(\u001b[0m\u001b[0;34m)\u001b[0m \u001b[0;34m==\u001b[0m \u001b[0mmodel3\u001b[0m\u001b[0;34m.\u001b[0m\u001b[0moptimizer\u001b[0m\u001b[0;34m.\u001b[0m\u001b[0mget_gradients\u001b[0m\u001b[0;34m(\u001b[0m\u001b[0;34m)\u001b[0m\u001b[0;34m)\u001b[0m\u001b[0;34m\u001b[0m\u001b[0;34m\u001b[0m\u001b[0m\n\u001b[0m",
      "\u001b[0;31mTypeError\u001b[0m: get_gradients() missing 2 required positional arguments: 'loss' and 'params'"
     ]
    }
   ],
   "source": [
    "print(mod.optimizer.get_config() == model3.optimizer.get_config())\n",
    "print(mod.optimizer.get_gradients() == model3.optimizer.get_gradients())"
   ]
  },
  {
   "cell_type": "code",
   "execution_count": null,
   "metadata": {},
   "outputs": [],
   "source": []
  },
  {
   "cell_type": "code",
   "execution_count": null,
   "metadata": {},
   "outputs": [],
   "source": []
  },
  {
   "cell_type": "code",
   "execution_count": null,
   "metadata": {},
   "outputs": [],
   "source": []
  },
  {
   "cell_type": "code",
   "execution_count": null,
   "metadata": {},
   "outputs": [],
   "source": []
  },
  {
   "cell_type": "code",
   "execution_count": null,
   "metadata": {},
   "outputs": [],
   "source": [
    "tf.saved_model.save(model3,\"labelled_data\")"
   ]
  },
  {
   "cell_type": "code",
   "execution_count": null,
   "metadata": {},
   "outputs": [],
   "source": []
  },
  {
   "cell_type": "code",
   "execution_count": null,
   "metadata": {},
   "outputs": [],
   "source": [
    "loaded = tf.saved_model.load(\"labelled_data\")\n",
    "modd = build_model(loaded)\n"
   ]
  },
  {
   "cell_type": "code",
   "execution_count": null,
   "metadata": {},
   "outputs": [],
   "source": [
    "pred_labels, pred_scores = [], []\n",
    "list_of_labels = [\"Back\", \"Discard\", \"Front\", \"Left\", \"Right\"]\n",
    "image = load_img('./labelled_data/Front/00036.jpg', target_size=(224, 224))\n",
    "image = img_to_array(image)\n",
    "image = image.reshape((1, image.shape[0], image.shape[1], image.shape[2]))\n",
    "# cette ligne a verifier le self?\n",
    "probs = modd.predict(image)[0]\n",
    "print(probs)\n",
    "label_idx = np.argmax(probs)\n",
    "label = list_of_labels[label_idx]\n",
    "score = probs[label_idx]\n",
    "pred_labels.append(label)\n",
    "pred_scores.append(score.item())\n",
    "print(pred_labels)\n",
    "print(pred_scores)"
   ]
  },
  {
   "cell_type": "code",
   "execution_count": null,
   "metadata": {},
   "outputs": [],
   "source": []
  },
  {
   "cell_type": "code",
   "execution_count": null,
   "metadata": {},
   "outputs": [],
   "source": []
  },
  {
   "cell_type": "code",
   "execution_count": null,
   "metadata": {},
   "outputs": [],
   "source": []
  },
  {
   "cell_type": "code",
   "execution_count": null,
   "metadata": {},
   "outputs": [],
   "source": []
  },
  {
   "cell_type": "code",
   "execution_count": null,
   "metadata": {},
   "outputs": [],
   "source": []
  },
  {
   "cell_type": "code",
   "execution_count": null,
   "metadata": {},
   "outputs": [],
   "source": []
  },
  {
   "cell_type": "code",
   "execution_count": null,
   "metadata": {},
   "outputs": [],
   "source": []
  },
  {
   "cell_type": "code",
   "execution_count": null,
   "metadata": {},
   "outputs": [],
   "source": []
  },
  {
   "cell_type": "code",
   "execution_count": null,
   "metadata": {},
   "outputs": [],
   "source": [
    "loaded_model = load_model(path)"
   ]
  },
  {
   "cell_type": "code",
   "execution_count": null,
   "metadata": {},
   "outputs": [],
   "source": [
    "pred_labels, pred_scores = [], []\n",
    "list_of_labels = [\"Back\", \"Discard\", \"Front\", \"Left\", \"Right\"]\n",
    "image = load_img('./labelled_data/Front/00036.jpg', target_size=(224, 224))\n",
    "image = img_to_array(image)\n",
    "image = image.reshape((1, image.shape[0], image.shape[1], image.shape[2]))\n",
    "# cette ligne a verifier le self?\n",
    "probs = loaded_model.predict(image)[0]\n",
    "print(probs)\n",
    "label_idx = np.argmax(probs)\n",
    "label = list_of_labels[label_idx]\n",
    "score = probs[label_idx]\n",
    "pred_labels.append(label)\n",
    "pred_scores.append(score.item())\n",
    "print(pred_labels)\n",
    "print(pred_scores)"
   ]
  },
  {
   "cell_type": "code",
   "execution_count": null,
   "metadata": {},
   "outputs": [],
   "source": [
    "loaded_model = load_model(path)"
   ]
  },
  {
   "cell_type": "code",
   "execution_count": null,
   "metadata": {},
   "outputs": [],
   "source": [
    "loaded_model = load_model(path, compile=False)\n",
    "pred_labels, pred_scores = [], []\n",
    "list_of_labels = [\"Back\", \"Discard\", \"Front\", \"Left\", \"Right\"]\n",
    "image = load_img('/c/Users/yfakihan/workspace/POC/POC1/car_dataset/cars_test/00025.jpg', target_size=(224, 224))\n",
    "image = img_to_array(image)\n",
    "image = image.reshape((1, image.shape[0], image.shape[1], image.shape[2]))\n",
    "# cette ligne a verifier le self?\n",
    "probs = loaded_model.predict(image)[0]\n",
    "print(probs)\n",
    "label_idx = np.argmax(probs)\n",
    "label = list_of_labels[label_idx]\n",
    "score = probs[label_idx]\n",
    "pred_labels.append(label)\n",
    "pred_scores.append(score.item())\n",
    "print(pred_labels)\n",
    "print(pred_scores)"
   ]
  },
  {
   "cell_type": "code",
   "execution_count": null,
   "metadata": {},
   "outputs": [],
   "source": [
    "print(loaded_model)"
   ]
  },
  {
   "cell_type": "code",
   "execution_count": null,
   "metadata": {},
   "outputs": [],
   "source": []
  },
  {
   "cell_type": "code",
   "execution_count": null,
   "metadata": {
    "scrolled": false
   },
   "outputs": [],
   "source": []
  },
  {
   "cell_type": "code",
   "execution_count": null,
   "metadata": {},
   "outputs": [],
   "source": [
    "import tensorflow as tf\n",
    "print(tf.__version__)"
   ]
  },
  {
   "cell_type": "code",
   "execution_count": null,
   "metadata": {},
   "outputs": [],
   "source": []
  },
  {
   "cell_type": "code",
   "execution_count": null,
   "metadata": {},
   "outputs": [],
   "source": []
  },
  {
   "cell_type": "code",
   "execution_count": null,
   "metadata": {},
   "outputs": [],
   "source": []
  }
 ],
 "metadata": {
  "kernelspec": {
   "display_name": "Python 3",
   "language": "python",
   "name": "python3"
  },
  "language_info": {
   "codemirror_mode": {
    "name": "ipython",
    "version": 3
   },
   "file_extension": ".py",
   "mimetype": "text/x-python",
   "name": "python",
   "nbconvert_exporter": "python",
   "pygments_lexer": "ipython3",
   "version": "3.6.9"
  }
 },
 "nbformat": 4,
 "nbformat_minor": 4
}
