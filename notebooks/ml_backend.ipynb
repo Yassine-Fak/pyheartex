{
 "cells": [
  {
   "cell_type": "code",
   "execution_count": 1,
   "metadata": {},
   "outputs": [],
   "source": [
    "from tensorflow.keras.models import load_model\n",
    "from tensorflow.keras.preprocessing.image import load_img\n",
    "from tensorflow.keras.preprocessing.image import img_to_array\n",
    "from tensorflow.keras.models import Sequential\n",
    "from tensorflow.keras.applications.nasnet import NASNetMobile\n",
    "from tensorflow.keras.layers import Dense\n",
    "from tensorflow.keras.optimizers import SGD\n",
    "import numpy as np"
   ]
  },
  {
   "cell_type": "code",
   "execution_count": 33,
   "metadata": {
    "scrolled": true
   },
   "outputs": [
    {
     "name": "stdout",
     "output_type": "stream",
     "text": [
      "Defaulting to user installation because normal site-packages is not writeable\n",
      "Requirement already satisfied: tensorflow==2.2.0rc2 in /home/yfakihan/.local/lib/python3.7/site-packages (2.2.0rc2)\n",
      "Requirement already satisfied: numpy<2.0,>=1.16.0 in /home/yfakihan/.local/lib/python3.7/site-packages (from tensorflow==2.2.0rc2) (1.17.4)\n",
      "Requirement already satisfied: keras-preprocessing>=1.1.0 in /home/yfakihan/.local/lib/python3.7/site-packages (from tensorflow==2.2.0rc2) (1.1.0)\n",
      "Requirement already satisfied: tensorflow-estimator<2.3.0,>=2.2.0rc0 in /home/yfakihan/.local/lib/python3.7/site-packages (from tensorflow==2.2.0rc2) (2.2.0rc0)\n",
      "Requirement already satisfied: wheel>=0.26; python_version >= \"3\" in /home/yfakihan/.local/lib/python3.7/site-packages (from tensorflow==2.2.0rc2) (0.34.2)\n",
      "Requirement already satisfied: scipy==1.4.1; python_version >= \"3\" in /home/yfakihan/.local/lib/python3.7/site-packages (from tensorflow==2.2.0rc2) (1.4.1)\n",
      "Requirement already satisfied: termcolor>=1.1.0 in /home/yfakihan/.local/lib/python3.7/site-packages (from tensorflow==2.2.0rc2) (1.1.0)\n",
      "Requirement already satisfied: opt-einsum>=2.3.2 in /home/yfakihan/.local/lib/python3.7/site-packages (from tensorflow==2.2.0rc2) (3.2.0)\n",
      "Requirement already satisfied: tensorboard<2.3.0,>=2.2.0 in /home/yfakihan/.local/lib/python3.7/site-packages (from tensorflow==2.2.0rc2) (2.2.0)\n",
      "Requirement already satisfied: protobuf>=3.8.0 in /home/yfakihan/.local/lib/python3.7/site-packages (from tensorflow==2.2.0rc2) (3.11.3)\n",
      "Requirement already satisfied: astunparse==1.6.3 in /home/yfakihan/.local/lib/python3.7/site-packages (from tensorflow==2.2.0rc2) (1.6.3)\n",
      "Requirement already satisfied: h5py<2.11.0,>=2.10.0 in /home/yfakihan/.local/lib/python3.7/site-packages (from tensorflow==2.2.0rc2) (2.10.0)\n",
      "Requirement already satisfied: gast==0.3.3 in /home/yfakihan/.local/lib/python3.7/site-packages (from tensorflow==2.2.0rc2) (0.3.3)\n",
      "Requirement already satisfied: absl-py>=0.7.0 in /home/yfakihan/.local/lib/python3.7/site-packages (from tensorflow==2.2.0rc2) (0.9.0)\n",
      "Requirement already satisfied: google-pasta>=0.1.8 in /home/yfakihan/.local/lib/python3.7/site-packages (from tensorflow==2.2.0rc2) (0.2.0)\n",
      "Requirement already satisfied: wrapt>=1.11.1 in /home/yfakihan/.local/lib/python3.7/site-packages (from tensorflow==2.2.0rc2) (1.12.1)\n",
      "Requirement already satisfied: grpcio>=1.8.6 in /home/yfakihan/.local/lib/python3.7/site-packages (from tensorflow==2.2.0rc2) (1.27.2)\n",
      "Requirement already satisfied: six>=1.12.0 in /home/yfakihan/.local/lib/python3.7/site-packages (from tensorflow==2.2.0rc2) (1.14.0)\n",
      "Requirement already satisfied: markdown>=2.6.8 in /home/yfakihan/.local/lib/python3.7/site-packages (from tensorboard<2.3.0,>=2.2.0->tensorflow==2.2.0rc2) (3.2.1)\n",
      "Requirement already satisfied: werkzeug>=0.11.15 in /home/yfakihan/.local/lib/python3.7/site-packages (from tensorboard<2.3.0,>=2.2.0->tensorflow==2.2.0rc2) (0.16.0)\n",
      "Requirement already satisfied: setuptools>=41.0.0 in /home/yfakihan/.local/lib/python3.7/site-packages (from tensorboard<2.3.0,>=2.2.0->tensorflow==2.2.0rc2) (45.2.0)\n",
      "Requirement already satisfied: tensorboard-plugin-wit>=1.6.0 in /home/yfakihan/.local/lib/python3.7/site-packages (from tensorboard<2.3.0,>=2.2.0->tensorflow==2.2.0rc2) (1.6.0.post2)\n",
      "Requirement already satisfied: google-auth<2,>=1.6.3 in /home/yfakihan/.local/lib/python3.7/site-packages (from tensorboard<2.3.0,>=2.2.0->tensorflow==2.2.0rc2) (1.12.0)\n",
      "Requirement already satisfied: requests<3,>=2.21.0 in /home/yfakihan/.local/lib/python3.7/site-packages (from tensorboard<2.3.0,>=2.2.0->tensorflow==2.2.0rc2) (2.23.0)\n",
      "Requirement already satisfied: google-auth-oauthlib<0.5,>=0.4.1 in /home/yfakihan/.local/lib/python3.7/site-packages (from tensorboard<2.3.0,>=2.2.0->tensorflow==2.2.0rc2) (0.4.1)\n",
      "Requirement already satisfied: cachetools<5.0,>=2.0.0 in /home/yfakihan/.local/lib/python3.7/site-packages (from google-auth<2,>=1.6.3->tensorboard<2.3.0,>=2.2.0->tensorflow==2.2.0rc2) (4.0.0)\n",
      "Requirement already satisfied: pyasn1-modules>=0.2.1 in /usr/lib/python3/dist-packages (from google-auth<2,>=1.6.3->tensorboard<2.3.0,>=2.2.0->tensorflow==2.2.0rc2) (0.2.1)\n",
      "Requirement already satisfied: rsa<4.1,>=3.1.4 in /home/yfakihan/.local/lib/python3.7/site-packages (from google-auth<2,>=1.6.3->tensorboard<2.3.0,>=2.2.0->tensorflow==2.2.0rc2) (4.0)\n",
      "Requirement already satisfied: urllib3!=1.25.0,!=1.25.1,<1.26,>=1.21.1 in /home/yfakihan/.local/lib/python3.7/site-packages (from requests<3,>=2.21.0->tensorboard<2.3.0,>=2.2.0->tensorflow==2.2.0rc2) (1.25.8)\n",
      "Requirement already satisfied: certifi>=2017.4.17 in /home/yfakihan/.local/lib/python3.7/site-packages (from requests<3,>=2.21.0->tensorboard<2.3.0,>=2.2.0->tensorflow==2.2.0rc2) (2019.11.28)\n",
      "Requirement already satisfied: idna<3,>=2.5 in /home/yfakihan/.local/lib/python3.7/site-packages (from requests<3,>=2.21.0->tensorboard<2.3.0,>=2.2.0->tensorflow==2.2.0rc2) (2.9)\n",
      "Requirement already satisfied: chardet<4,>=3.0.2 in /home/yfakihan/.local/lib/python3.7/site-packages (from requests<3,>=2.21.0->tensorboard<2.3.0,>=2.2.0->tensorflow==2.2.0rc2) (3.0.4)\n",
      "Requirement already satisfied: requests-oauthlib>=0.7.0 in /home/yfakihan/.local/lib/python3.7/site-packages (from google-auth-oauthlib<0.5,>=0.4.1->tensorboard<2.3.0,>=2.2.0->tensorflow==2.2.0rc2) (1.3.0)\n",
      "Requirement already satisfied: pyasn1>=0.1.3 in /usr/lib/python3/dist-packages (from rsa<4.1,>=3.1.4->google-auth<2,>=1.6.3->tensorboard<2.3.0,>=2.2.0->tensorflow==2.2.0rc2) (0.4.2)\n",
      "Requirement already satisfied: oauthlib>=3.0.0 in /home/yfakihan/.local/lib/python3.7/site-packages (from requests-oauthlib>=0.7.0->google-auth-oauthlib<0.5,>=0.4.1->tensorboard<2.3.0,>=2.2.0->tensorflow==2.2.0rc2) (3.1.0)\n"
     ]
    }
   ],
   "source": [
    "!pip install tensorflow==2.2.0rc2"
   ]
  },
  {
   "cell_type": "code",
   "execution_count": 32,
   "metadata": {},
   "outputs": [
    {
     "name": "stdout",
     "output_type": "stream",
     "text": [
      "Defaulting to user installation because normal site-packages is not writeable\n",
      "\u001b[31mERROR: Could not find a version that satisfies the requirement tensorflow==2.2.8 (from versions: 1.13.0rc1, 1.13.0rc2, 1.13.1, 1.13.2, 1.14.0rc0, 1.14.0rc1, 1.14.0, 1.15.0rc0, 1.15.0rc1, 1.15.0rc2, 1.15.0rc3, 1.15.0, 1.15.2, 2.0.0a0, 2.0.0b0, 2.0.0b1, 2.0.0rc0, 2.0.0rc1, 2.0.0rc2, 2.0.0, 2.0.1, 2.1.0rc0, 2.1.0rc1, 2.1.0rc2, 2.1.0, 2.2.0rc0, 2.2.0rc1, 2.2.0rc2)\u001b[0m\n",
      "\u001b[31mERROR: No matching distribution found for tensorflow==2.2.8\u001b[0m\n"
     ]
    }
   ],
   "source": [
    "!pip install tensorflow==2.2.8"
   ]
  },
  {
   "cell_type": "code",
   "execution_count": 2,
   "metadata": {},
   "outputs": [
    {
     "name": "stdout",
     "output_type": "stream",
     "text": [
      "2.2.0-rc2\n"
     ]
    }
   ],
   "source": [
    "import tensorflow as tf\n",
    "print(tf.__version__)"
   ]
  },
  {
   "cell_type": "code",
   "execution_count": 3,
   "metadata": {},
   "outputs": [
    {
     "name": "stdout",
     "output_type": "stream",
     "text": [
      "Num GPUs Available:  0\n"
     ]
    }
   ],
   "source": [
    "import tensorflow as tf\n",
    "print(\"Num GPUs Available: \", len(tf.config.experimental.list_physical_devices('GPU')))"
   ]
  },
  {
   "cell_type": "code",
   "execution_count": null,
   "metadata": {},
   "outputs": [],
   "source": []
  },
  {
   "cell_type": "code",
   "execution_count": null,
   "metadata": {},
   "outputs": [],
   "source": []
  },
  {
   "cell_type": "code",
   "execution_count": null,
   "metadata": {},
   "outputs": [],
   "source": []
  },
  {
   "cell_type": "code",
   "execution_count": 3,
   "metadata": {},
   "outputs": [],
   "source": [
    "num_class = 5\n",
    "def creat_compiled_model():\n",
    "    model = Sequential()\n",
    "    model.add(NASNetMobile(input_shape=(224, 224, 3), include_top=False,\n",
    "                           weights='imagenet', pooling='avg'))\n",
    "    model.add(Dense(num_class, activation='softmax'))\n",
    "    model.layers[0].trainable = True\n",
    "    model.layers[1].trainable = True\n",
    "    sgd = SGD(learning_rate=0.01, momentum=0.01, nesterov=False)\n",
    "    model.compile(optimizer=sgd, loss='hinge',  metrics=['accuracy'])\n",
    "    return model"
   ]
  },
  {
   "cell_type": "code",
   "execution_count": 4,
   "metadata": {},
   "outputs": [],
   "source": [
    "model3 = creat_compiled_model()"
   ]
  },
  {
   "cell_type": "code",
   "execution_count": 5,
   "metadata": {},
   "outputs": [],
   "source": [
    "from tensorflow.keras.applications.resnet50 import preprocess_input\n",
    "from tensorflow.keras.preprocessing.image import ImageDataGenerator"
   ]
  },
  {
   "cell_type": "code",
   "execution_count": 6,
   "metadata": {},
   "outputs": [],
   "source": [
    "# https://www.tensorflow.org/api_docs/python/tf/keras/Model#fit_generator\n",
    "train_datagen = ImageDataGenerator(rescale=1./255, preprocessing_function=preprocess_input)"
   ]
  },
  {
   "cell_type": "code",
   "execution_count": 7,
   "metadata": {},
   "outputs": [
    {
     "name": "stdout",
     "output_type": "stream",
     "text": [
      "Found 99 images belonging to 5 classes.\n"
     ]
    }
   ],
   "source": [
    "train_generator = train_datagen.flow_from_directory('labelled_data', batch_size=4)"
   ]
  },
  {
   "cell_type": "code",
   "execution_count": 8,
   "metadata": {},
   "outputs": [
    {
     "name": "stdout",
     "output_type": "stream",
     "text": [
      "Epoch 1/3\n",
      "3/3 [==============================] - 3s 921ms/step - loss: 1.1059 - accuracy: 0.2500\n",
      "Epoch 2/3\n",
      "3/3 [==============================] - 2s 737ms/step - loss: 1.1246 - accuracy: 0.0833\n",
      "Epoch 3/3\n",
      "3/3 [==============================] - 2s 784ms/step - loss: 1.1287 - accuracy: 0.0000e+00\n"
     ]
    },
    {
     "data": {
      "text/plain": [
       "<tensorflow.python.keras.callbacks.History at 0x7f9a8f72c550>"
      ]
     },
     "execution_count": 8,
     "metadata": {},
     "output_type": "execute_result"
    }
   ],
   "source": [
    "model3.fit(train_generator, epochs=3, steps_per_epoch=3)"
   ]
  },
  {
   "cell_type": "markdown",
   "metadata": {},
   "source": [
    "Je remarque que lorsque j'utilise la version 2.2.0rc2 de tensorflow, le warning suivant:  WARNING:tensorflow:sample_weight modes were coerced from disparait"
   ]
  },
  {
   "cell_type": "code",
   "execution_count": 9,
   "metadata": {},
   "outputs": [
    {
     "name": "stdout",
     "output_type": "stream",
     "text": [
      "[7.7625276e-03 6.5549631e-03 4.1621615e-04 5.2657235e-02 9.3260908e-01]\n",
      "['Right']\n",
      "[0.9326090812683105]\n"
     ]
    }
   ],
   "source": [
    "#del image\n",
    "image = load_img('./labelled_data/Front/00035.jpg', target_size=(224, 224))\n",
    "#print(image)\n",
    "image = img_to_array(image)\n",
    "#print(image)\n",
    "image = image.reshape((1, image.shape[0], image.shape[1], image.shape[2]))\n",
    "#print(image)\n",
    "# cette ligne a verifier le self?\n",
    "probs = model3.predict(image)[0]\n",
    "pred_labels, pred_scores = [], []\n",
    "print(probs)\n",
    "list_of_labels = [\"Back\", \"Discard\", \"Front\", \"Left\", \"Right\"]\n",
    "label_idx = np.argmax(probs)\n",
    "label = list_of_labels[label_idx]\n",
    "score = probs[label_idx]\n",
    "pred_labels.append(label)\n",
    "pred_scores.append(score.item())\n",
    "print(pred_labels)\n",
    "print(pred_scores)"
   ]
  },
  {
   "cell_type": "code",
   "execution_count": 10,
   "metadata": {},
   "outputs": [
    {
     "name": "stdout",
     "output_type": "stream",
     "text": [
      "INFO:tensorflow:Enabled check-numerics callback in thread MainThread\n"
     ]
    }
   ],
   "source": [
    "tf.debugging.enable_check_numerics()"
   ]
  },
  {
   "cell_type": "code",
   "execution_count": 10,
   "metadata": {
    "scrolled": true
   },
   "outputs": [
    {
     "name": "stdout",
     "output_type": "stream",
     "text": [
      "2\n",
      "2 <class 'int'>\n",
      "5 <class 'int'>\n"
     ]
    }
   ],
   "source": [
    "image = load_img('./labelled_data/Right/07944.jpg', target_size=(224, 224))\n",
    "image = img_to_array(image)\n",
    "image = image.reshape((1, image.shape[0], image.shape[1], image.shape[2]))\n",
    "print(model3.predict_classes(image)[0])\n",
    "x = int(model3.predict_classes(image)[0])\n",
    "print(x, type(x))\n",
    "y = 5\n",
    "print(y, type(y))"
   ]
  },
  {
   "cell_type": "code",
   "execution_count": 11,
   "metadata": {},
   "outputs": [],
   "source": [
    "sgd = SGD(learning_rate=0.01, momentum=0.01, nesterov=False)\n",
    "model3.compile(optimizer=sgd, loss='hinge', metrics=['accuracy'])"
   ]
  },
  {
   "cell_type": "code",
   "execution_count": 12,
   "metadata": {},
   "outputs": [],
   "source": [
    "model3.save(\"./labelled_data/trained_model\", save_format='h5')"
   ]
  },
  {
   "cell_type": "code",
   "execution_count": 20,
   "metadata": {},
   "outputs": [],
   "source": [
    "del loaded_model"
   ]
  },
  {
   "cell_type": "code",
   "execution_count": 21,
   "metadata": {},
   "outputs": [
    {
     "ename": "NameError",
     "evalue": "name 'loaded_model' is not defined",
     "output_type": "error",
     "traceback": [
      "\u001b[0;31m---------------------------------------------------------------------------\u001b[0m",
      "\u001b[0;31mNameError\u001b[0m                                 Traceback (most recent call last)",
      "\u001b[0;32m<ipython-input-21-c39212b3b0d9>\u001b[0m in \u001b[0;36m<module>\u001b[0;34m\u001b[0m\n\u001b[0;32m----> 1\u001b[0;31m \u001b[0mloaded_model\u001b[0m\u001b[0;34m\u001b[0m\u001b[0;34m\u001b[0m\u001b[0m\n\u001b[0m",
      "\u001b[0;31mNameError\u001b[0m: name 'loaded_model' is not defined"
     ]
    }
   ],
   "source": [
    "loaded_model"
   ]
  },
  {
   "cell_type": "code",
   "execution_count": 24,
   "metadata": {},
   "outputs": [],
   "source": [
    "loaded_model = load_model(\"./labelled_data/trained_model\")"
   ]
  },
  {
   "cell_type": "code",
   "execution_count": 25,
   "metadata": {},
   "outputs": [
    {
     "name": "stdout",
     "output_type": "stream",
     "text": [
      "[0.21155082 0.01376094 0.20672642 0.51296175 0.05500011]\n",
      "['Left']\n",
      "[0.512961745262146]\n"
     ]
    }
   ],
   "source": [
    "#del image\n",
    "image = load_img('./labelled_data/Front/00035.jpg', target_size=(224, 224))\n",
    "#print(image)\n",
    "image = img_to_array(image)\n",
    "#print(image)\n",
    "image = image.reshape((1, image.shape[0], image.shape[1], image.shape[2]))\n",
    "#print(image)\n",
    "# cette ligne a verifier le self?\n",
    "probs = loaded_model.predict(image)[0]\n",
    "pred_labels, pred_scores = [], []\n",
    "print(probs)\n",
    "list_of_labels = [\"Back\", \"Discard\", \"Front\", \"Left\", \"Right\"]\n",
    "label_idx = np.argmax(probs)\n",
    "label = list_of_labels[label_idx]\n",
    "score = probs[label_idx]\n",
    "pred_labels.append(label)\n",
    "pred_scores.append(score.item())\n",
    "print(pred_labels)\n",
    "print(pred_scores)"
   ]
  },
  {
   "cell_type": "markdown",
   "metadata": {},
   "source": [
    "J'ai copié un modèle entrainé du conteneur vers le host, et ce modèle marche très bien, i.e. j'arrive à prédire le label des nouveau éléments sans problème. "
   ]
  },
  {
   "cell_type": "markdown",
   "metadata": {},
   "source": [
    "*** Operational MODE: single process ***\n",
    "2020-04-06 09:49:34.143034: W tensorflow/stream_executor/platform/default/dso_loader.cc:55] Could not load dynamic library 'libnvinfer.so.6'; dlerror: libnvinfer.so.6: cannot open shared object file: No such file or directory\n",
    "2020-04-06 09:49:34.144535: W tensorflow/stream_executor/platform/default/dso_loader.cc:55] Could not load dynamic library 'libnvinfer_plugin.so.6'; \n",
    "dlerror: libnvinfer_plugin.so.6: cannot open shared object file: No such file or directory\n",
    "2020-04-06 09:49:34.144656: W tensorflow/compiler/tf2tensorrt/utils/py_utils.cc:30] Cannot dlopen some TensorRT libraries. If you would like to use Nvidia GPU with TensorRT, please make sure the missing libraries mentioned above are installed properly.\n",
    "2020-04-06 09:49:38.238807: W tensorflow/stream_executor/platform/default/dso_loader.cc:55] Could not load dynamic library 'libcuda.so.1'; dlerror: libcuda.so.1: cannot open shared object file: No such file or directory\n",
    "2020-04-06 09:49:38.239027: E tensorflow/stream_executor/cuda/cuda_driver.cc:351] failed call to cuInit: UNKNOWN ERROR (303)\n",
    "2020-04-06 09:49:38.239132: I tensorflow/stream_executor/cuda/cuda_diagnostics.cc:156] kernel driver does not appear to be running on this host (3a785cd41c35): /proc/driver/nvidia/version does not exist\n",
    "2020-04-06 09:49:38.239537: I tensorflow/core/platform/cpu_feature_guard.cc:142] Your CPU supports instructions that this TensorFlow binary was not compiled to use: AVX2 FMA\n",
    "2020-04-06 09:49:38.253783: I tensorflow/core/platform/profile_utils/cpu_utils.cc:94] CPU Frequency: 2711995000 Hz\n",
    "2020-04-06 09:49:38.254100: I tensorflow/compiler/xla/service/service.cc:168] XLA service 0x559c84c64b90 initialized for platform Host (this does not guarantee that XLA will be used). Devices:\n",
    "2020-04-06 09:49:38.254182: I tensorflow/compiler/xla/service/service.cc:176]   StreamExecutor device (0): Host, Default Version\n",
    "\n"
   ]
  },
  {
   "cell_type": "code",
   "execution_count": null,
   "metadata": {},
   "outputs": [],
   "source": []
  }
 ],
 "metadata": {
  "kernelspec": {
   "display_name": "Python 3",
   "language": "python",
   "name": "python3"
  },
  "language_info": {
   "codemirror_mode": {
    "name": "ipython",
    "version": 3
   },
   "file_extension": ".py",
   "mimetype": "text/x-python",
   "name": "python",
   "nbconvert_exporter": "python",
   "pygments_lexer": "ipython3",
   "version": "3.7.7"
  }
 },
 "nbformat": 4,
 "nbformat_minor": 4
}
