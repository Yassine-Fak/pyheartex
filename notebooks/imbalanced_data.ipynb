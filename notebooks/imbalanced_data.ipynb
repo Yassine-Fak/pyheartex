{
 "cells": [
  {
   "cell_type": "markdown",
   "metadata": {
    "colab_type": "text",
    "id": "dUeKVCYTbcyT"
   },
   "source": [
    "#### Copyright 2019 The TensorFlow Authors."
   ]
  },
  {
   "cell_type": "code",
   "execution_count": 1,
   "metadata": {
    "cellView": "form",
    "colab": {},
    "colab_type": "code",
    "id": "4ellrPx7tdxq"
   },
   "outputs": [],
   "source": [
    "#@title Licensed under the Apache License, Version 2.0 (the \"License\");\n",
    "# you may not use this file except in compliance with the License.\n",
    "# You may obtain a copy of the License at\n",
    "#\n",
    "# https://www.apache.org/licenses/LICENSE-2.0\n",
    "#\n",
    "# Unless required by applicable law or agreed to in writing, software\n",
    "# distributed under the License is distributed on an \"AS IS\" BASIS,\n",
    "# WITHOUT WARRANTIES OR CONDITIONS OF ANY KIND, either express or implied.\n",
    "# See the License for the specific language governing permissions and\n",
    "# limitations under the License."
   ]
  },
  {
   "cell_type": "markdown",
   "metadata": {
    "colab_type": "text",
    "id": "7JfLUlawto_D"
   },
   "source": [
    "# Classification on imbalanced data"
   ]
  },
  {
   "cell_type": "markdown",
   "metadata": {
    "colab_type": "text",
    "id": "DwdpaTKJOoPu"
   },
   "source": [
    "<table class=\"tfo-notebook-buttons\" align=\"left\">\n",
    "  <td>\n",
    "    <a target=\"_blank\" href=\"https://www.tensorflow.org/tutorials/structured_data/imbalanced_data\"><img src=\"https://www.tensorflow.org/images/tf_logo_32px.png\" />View on TensorFlow.org</a>\n",
    "  </td>\n",
    "  <td>\n",
    "    <a target=\"_blank\" href=\"https://colab.research.google.com/github/tensorflow/docs/blob/master/site/en/tutorials/structured_data/imbalanced_data.ipynb\"><img src=\"https://www.tensorflow.org/images/colab_logo_32px.png\" />Run in Google Colab</a>\n",
    "  </td>\n",
    "  <td>\n",
    "    <a target=\"_blank\" href=\"https://github.com/tensorflow/docs/blob/master/site/en/tutorials/structured_data/imbalanced_data.ipynb\"><img src=\"https://www.tensorflow.org/images/GitHub-Mark-32px.png\" />View source on GitHub</a>\n",
    "  </td>\n",
    "  <td>\n",
    "    <a href=\"https://storage.googleapis.com/tensorflow_docs/docs/site/en/tutorials/structured_data/imbalanced_data.ipynb\"><img src=\"https://www.tensorflow.org/images/download_logo_32px.png\" />Download notebook</a>\n",
    "  </td>\n",
    "</table>"
   ]
  },
  {
   "cell_type": "markdown",
   "metadata": {
    "colab_type": "text",
    "id": "mthoSGBAOoX-"
   },
   "source": [
    "This tutorial demonstrates how to classify a highly imbalanced dataset in which the number of examples in one class greatly outnumbers the examples in another. You will work with the [Credit Card Fraud Detection](https://www.kaggle.com/mlg-ulb/creditcardfraud) dataset hosted on Kaggle. The aim is to detect a mere 492 fraudulent transactions from 284,807 transactions in total. You will use [Keras](../../guide/keras/overview.ipynb) to define the model and [class weights](https://www.tensorflow.org/versions/r2.0/api_docs/python/tf/keras/Model) to help the model learn from the imbalanced data. .\n",
    "\n",
    "This tutorial contains complete code to:\n",
    "\n",
    "* Load a CSV file using Pandas.\n",
    "* Create train, validation, and test sets.\n",
    "* Define and train a model using Keras (including setting class weights).\n",
    "* Evaluate the model using various metrics (including precision and recall).\n",
    "* Try common tecniques for dealing with imbalanced data like:\n",
    "    * Class weighting \n",
    "    * Oversampling\n"
   ]
  },
  {
   "cell_type": "markdown",
   "metadata": {
    "colab_type": "text",
    "id": "kRHmSyHxEIhN"
   },
   "source": [
    "## Setup"
   ]
  },
  {
   "cell_type": "code",
   "execution_count": 4,
   "metadata": {
    "colab": {},
    "colab_type": "code",
    "id": "JM7hDSNClfoK"
   },
   "outputs": [],
   "source": [
    "import tensorflow as tf\n",
    "from tensorflow import keras\n",
    "\n",
    "import os\n",
    "import tempfile\n",
    "\n",
    "import matplotlib as mpl\n",
    "import matplotlib.pyplot as plt\n",
    "import numpy as np\n",
    "import pandas as pd\n",
    "import seaborn as sns\n",
    "\n",
    "import sklearn\n",
    "from sklearn.metrics import confusion_matrix\n",
    "from sklearn.model_selection import train_test_split\n",
    "from sklearn.preprocessing import StandardScaler"
   ]
  },
  {
   "cell_type": "code",
   "execution_count": 3,
   "metadata": {
    "scrolled": true
   },
   "outputs": [
    {
     "name": "stdout",
     "output_type": "stream",
     "text": [
      "Defaulting to user installation because normal site-packages is not writeable\n",
      "Collecting sklearn\n",
      "  Downloading sklearn-0.0.tar.gz (1.1 kB)\n",
      "Collecting scikit-learn\n",
      "  Downloading scikit_learn-0.22.2.post1-cp37-cp37m-manylinux1_x86_64.whl (7.1 MB)\n",
      "\u001b[K     |████████████████████████████████| 7.1 MB 2.1 MB/s eta 0:00:01\n",
      "\u001b[?25hRequirement already satisfied: joblib>=0.11 in /home/yfakihan/.local/lib/python3.7/site-packages (from scikit-learn->sklearn) (0.14.1)\n",
      "Requirement already satisfied: scipy>=0.17.0 in /home/yfakihan/.local/lib/python3.7/site-packages (from scikit-learn->sklearn) (1.4.1)\n",
      "Requirement already satisfied: numpy>=1.11.0 in /home/yfakihan/.local/lib/python3.7/site-packages (from scikit-learn->sklearn) (1.17.4)\n",
      "Building wheels for collected packages: sklearn\n",
      "  Building wheel for sklearn (setup.py) ... \u001b[?25ldone\n",
      "\u001b[?25h  Created wheel for sklearn: filename=sklearn-0.0-py2.py3-none-any.whl size=1315 sha256=35b61221f763a25cc605cefe6069ce66621972c0b6a2e5fda76ceecdf3e24519\n",
      "  Stored in directory: /home/yfakihan/.cache/pip/wheels/46/ef/c3/157e41f5ee1372d1be90b09f74f82b10e391eaacca8f22d33e\n",
      "Successfully built sklearn\n",
      "Installing collected packages: scikit-learn, sklearn\n",
      "Successfully installed scikit-learn-0.22.2.post1 sklearn-0.0\n"
     ]
    }
   ],
   "source": [
    "!pip install sklearn"
   ]
  },
  {
   "cell_type": "code",
   "execution_count": 5,
   "metadata": {
    "colab": {},
    "colab_type": "code",
    "id": "c8o1FHzD-_y_"
   },
   "outputs": [],
   "source": [
    "mpl.rcParams['figure.figsize'] = (12, 10)\n",
    "colors = plt.rcParams['axes.prop_cycle'].by_key()['color']"
   ]
  },
  {
   "cell_type": "markdown",
   "metadata": {
    "colab_type": "text",
    "id": "Z3iZVjziKHmX"
   },
   "source": [
    "## Data processing and exploration"
   ]
  },
  {
   "cell_type": "markdown",
   "metadata": {
    "colab_type": "text",
    "id": "4sA9WOcmzH2D"
   },
   "source": [
    "### Download the Kaggle Credit Card Fraud data set\n",
    "\n",
    "Pandas is a Python library with many helpful utilities for loading and working with structured data and can be used to download CSVs into a dataframe.\n",
    "\n",
    "Note: This dataset has been collected and analysed during a research collaboration of Worldline and the [Machine Learning Group](http://mlg.ulb.ac.be) of ULB (Université Libre de Bruxelles) on big data mining and fraud detection. More details on current and past projects on related topics are available [here](https://www.researchgate.net/project/Fraud-detection-5) and the page of the [DefeatFraud](https://mlg.ulb.ac.be/wordpress/portfolio_page/defeatfraud-assessment-and-validation-of-deep-feature-engineering-and-learning-solutions-for-fraud-detection/) project"
   ]
  },
  {
   "cell_type": "code",
   "execution_count": 6,
   "metadata": {
    "colab": {},
    "colab_type": "code",
    "id": "pR_SnbMArXr7"
   },
   "outputs": [
    {
     "data": {
      "text/html": [
       "<div>\n",
       "<style scoped>\n",
       "    .dataframe tbody tr th:only-of-type {\n",
       "        vertical-align: middle;\n",
       "    }\n",
       "\n",
       "    .dataframe tbody tr th {\n",
       "        vertical-align: top;\n",
       "    }\n",
       "\n",
       "    .dataframe thead th {\n",
       "        text-align: right;\n",
       "    }\n",
       "</style>\n",
       "<table border=\"1\" class=\"dataframe\">\n",
       "  <thead>\n",
       "    <tr style=\"text-align: right;\">\n",
       "      <th></th>\n",
       "      <th>Time</th>\n",
       "      <th>V1</th>\n",
       "      <th>V2</th>\n",
       "      <th>V3</th>\n",
       "      <th>V4</th>\n",
       "      <th>V5</th>\n",
       "      <th>V6</th>\n",
       "      <th>V7</th>\n",
       "      <th>V8</th>\n",
       "      <th>V9</th>\n",
       "      <th>...</th>\n",
       "      <th>V21</th>\n",
       "      <th>V22</th>\n",
       "      <th>V23</th>\n",
       "      <th>V24</th>\n",
       "      <th>V25</th>\n",
       "      <th>V26</th>\n",
       "      <th>V27</th>\n",
       "      <th>V28</th>\n",
       "      <th>Amount</th>\n",
       "      <th>Class</th>\n",
       "    </tr>\n",
       "  </thead>\n",
       "  <tbody>\n",
       "    <tr>\n",
       "      <th>0</th>\n",
       "      <td>0.0</td>\n",
       "      <td>-1.359807</td>\n",
       "      <td>-0.072781</td>\n",
       "      <td>2.536347</td>\n",
       "      <td>1.378155</td>\n",
       "      <td>-0.338321</td>\n",
       "      <td>0.462388</td>\n",
       "      <td>0.239599</td>\n",
       "      <td>0.098698</td>\n",
       "      <td>0.363787</td>\n",
       "      <td>...</td>\n",
       "      <td>-0.018307</td>\n",
       "      <td>0.277838</td>\n",
       "      <td>-0.110474</td>\n",
       "      <td>0.066928</td>\n",
       "      <td>0.128539</td>\n",
       "      <td>-0.189115</td>\n",
       "      <td>0.133558</td>\n",
       "      <td>-0.021053</td>\n",
       "      <td>149.62</td>\n",
       "      <td>0</td>\n",
       "    </tr>\n",
       "    <tr>\n",
       "      <th>1</th>\n",
       "      <td>0.0</td>\n",
       "      <td>1.191857</td>\n",
       "      <td>0.266151</td>\n",
       "      <td>0.166480</td>\n",
       "      <td>0.448154</td>\n",
       "      <td>0.060018</td>\n",
       "      <td>-0.082361</td>\n",
       "      <td>-0.078803</td>\n",
       "      <td>0.085102</td>\n",
       "      <td>-0.255425</td>\n",
       "      <td>...</td>\n",
       "      <td>-0.225775</td>\n",
       "      <td>-0.638672</td>\n",
       "      <td>0.101288</td>\n",
       "      <td>-0.339846</td>\n",
       "      <td>0.167170</td>\n",
       "      <td>0.125895</td>\n",
       "      <td>-0.008983</td>\n",
       "      <td>0.014724</td>\n",
       "      <td>2.69</td>\n",
       "      <td>0</td>\n",
       "    </tr>\n",
       "    <tr>\n",
       "      <th>2</th>\n",
       "      <td>1.0</td>\n",
       "      <td>-1.358354</td>\n",
       "      <td>-1.340163</td>\n",
       "      <td>1.773209</td>\n",
       "      <td>0.379780</td>\n",
       "      <td>-0.503198</td>\n",
       "      <td>1.800499</td>\n",
       "      <td>0.791461</td>\n",
       "      <td>0.247676</td>\n",
       "      <td>-1.514654</td>\n",
       "      <td>...</td>\n",
       "      <td>0.247998</td>\n",
       "      <td>0.771679</td>\n",
       "      <td>0.909412</td>\n",
       "      <td>-0.689281</td>\n",
       "      <td>-0.327642</td>\n",
       "      <td>-0.139097</td>\n",
       "      <td>-0.055353</td>\n",
       "      <td>-0.059752</td>\n",
       "      <td>378.66</td>\n",
       "      <td>0</td>\n",
       "    </tr>\n",
       "    <tr>\n",
       "      <th>3</th>\n",
       "      <td>1.0</td>\n",
       "      <td>-0.966272</td>\n",
       "      <td>-0.185226</td>\n",
       "      <td>1.792993</td>\n",
       "      <td>-0.863291</td>\n",
       "      <td>-0.010309</td>\n",
       "      <td>1.247203</td>\n",
       "      <td>0.237609</td>\n",
       "      <td>0.377436</td>\n",
       "      <td>-1.387024</td>\n",
       "      <td>...</td>\n",
       "      <td>-0.108300</td>\n",
       "      <td>0.005274</td>\n",
       "      <td>-0.190321</td>\n",
       "      <td>-1.175575</td>\n",
       "      <td>0.647376</td>\n",
       "      <td>-0.221929</td>\n",
       "      <td>0.062723</td>\n",
       "      <td>0.061458</td>\n",
       "      <td>123.50</td>\n",
       "      <td>0</td>\n",
       "    </tr>\n",
       "    <tr>\n",
       "      <th>4</th>\n",
       "      <td>2.0</td>\n",
       "      <td>-1.158233</td>\n",
       "      <td>0.877737</td>\n",
       "      <td>1.548718</td>\n",
       "      <td>0.403034</td>\n",
       "      <td>-0.407193</td>\n",
       "      <td>0.095921</td>\n",
       "      <td>0.592941</td>\n",
       "      <td>-0.270533</td>\n",
       "      <td>0.817739</td>\n",
       "      <td>...</td>\n",
       "      <td>-0.009431</td>\n",
       "      <td>0.798278</td>\n",
       "      <td>-0.137458</td>\n",
       "      <td>0.141267</td>\n",
       "      <td>-0.206010</td>\n",
       "      <td>0.502292</td>\n",
       "      <td>0.219422</td>\n",
       "      <td>0.215153</td>\n",
       "      <td>69.99</td>\n",
       "      <td>0</td>\n",
       "    </tr>\n",
       "  </tbody>\n",
       "</table>\n",
       "<p>5 rows × 31 columns</p>\n",
       "</div>"
      ],
      "text/plain": [
       "   Time        V1        V2        V3        V4        V5        V6        V7  \\\n",
       "0   0.0 -1.359807 -0.072781  2.536347  1.378155 -0.338321  0.462388  0.239599   \n",
       "1   0.0  1.191857  0.266151  0.166480  0.448154  0.060018 -0.082361 -0.078803   \n",
       "2   1.0 -1.358354 -1.340163  1.773209  0.379780 -0.503198  1.800499  0.791461   \n",
       "3   1.0 -0.966272 -0.185226  1.792993 -0.863291 -0.010309  1.247203  0.237609   \n",
       "4   2.0 -1.158233  0.877737  1.548718  0.403034 -0.407193  0.095921  0.592941   \n",
       "\n",
       "         V8        V9  ...       V21       V22       V23       V24       V25  \\\n",
       "0  0.098698  0.363787  ... -0.018307  0.277838 -0.110474  0.066928  0.128539   \n",
       "1  0.085102 -0.255425  ... -0.225775 -0.638672  0.101288 -0.339846  0.167170   \n",
       "2  0.247676 -1.514654  ...  0.247998  0.771679  0.909412 -0.689281 -0.327642   \n",
       "3  0.377436 -1.387024  ... -0.108300  0.005274 -0.190321 -1.175575  0.647376   \n",
       "4 -0.270533  0.817739  ... -0.009431  0.798278 -0.137458  0.141267 -0.206010   \n",
       "\n",
       "        V26       V27       V28  Amount  Class  \n",
       "0 -0.189115  0.133558 -0.021053  149.62      0  \n",
       "1  0.125895 -0.008983  0.014724    2.69      0  \n",
       "2 -0.139097 -0.055353 -0.059752  378.66      0  \n",
       "3 -0.221929  0.062723  0.061458  123.50      0  \n",
       "4  0.502292  0.219422  0.215153   69.99      0  \n",
       "\n",
       "[5 rows x 31 columns]"
      ]
     },
     "execution_count": 6,
     "metadata": {},
     "output_type": "execute_result"
    }
   ],
   "source": [
    "file = tf.keras.utils\n",
    "raw_df = pd.read_csv('https://storage.googleapis.com/download.tensorflow.org/data/creditcard.csv')\n",
    "raw_df.head()"
   ]
  },
  {
   "cell_type": "code",
   "execution_count": 7,
   "metadata": {
    "scrolled": true
   },
   "outputs": [
    {
     "name": "stdout",
     "output_type": "stream",
     "text": [
      "<module 'tensorflow.keras.utils' from '/home/yfakihan/.local/lib/python3.7/site-packages/tensorflow/keras/utils/__init__.py'>\n",
      "            Time         V1         V2        V3        V4        V5  \\\n",
      "0            0.0  -1.359807  -0.072781  2.536347  1.378155 -0.338321   \n",
      "1            0.0   1.191857   0.266151  0.166480  0.448154  0.060018   \n",
      "2            1.0  -1.358354  -1.340163  1.773209  0.379780 -0.503198   \n",
      "3            1.0  -0.966272  -0.185226  1.792993 -0.863291 -0.010309   \n",
      "4            2.0  -1.158233   0.877737  1.548718  0.403034 -0.407193   \n",
      "...          ...        ...        ...       ...       ...       ...   \n",
      "284802  172786.0 -11.881118  10.071785 -9.834783 -2.066656 -5.364473   \n",
      "284803  172787.0  -0.732789  -0.055080  2.035030 -0.738589  0.868229   \n",
      "284804  172788.0   1.919565  -0.301254 -3.249640 -0.557828  2.630515   \n",
      "284805  172788.0  -0.240440   0.530483  0.702510  0.689799 -0.377961   \n",
      "284806  172792.0  -0.533413  -0.189733  0.703337 -0.506271 -0.012546   \n",
      "\n",
      "              V6        V7        V8        V9  ...       V21       V22  \\\n",
      "0       0.462388  0.239599  0.098698  0.363787  ... -0.018307  0.277838   \n",
      "1      -0.082361 -0.078803  0.085102 -0.255425  ... -0.225775 -0.638672   \n",
      "2       1.800499  0.791461  0.247676 -1.514654  ...  0.247998  0.771679   \n",
      "3       1.247203  0.237609  0.377436 -1.387024  ... -0.108300  0.005274   \n",
      "4       0.095921  0.592941 -0.270533  0.817739  ... -0.009431  0.798278   \n",
      "...          ...       ...       ...       ...  ...       ...       ...   \n",
      "284802 -2.606837 -4.918215  7.305334  1.914428  ...  0.213454  0.111864   \n",
      "284803  1.058415  0.024330  0.294869  0.584800  ...  0.214205  0.924384   \n",
      "284804  3.031260 -0.296827  0.708417  0.432454  ...  0.232045  0.578229   \n",
      "284805  0.623708 -0.686180  0.679145  0.392087  ...  0.265245  0.800049   \n",
      "284806 -0.649617  1.577006 -0.414650  0.486180  ...  0.261057  0.643078   \n",
      "\n",
      "             V23       V24       V25       V26       V27       V28  Amount  \\\n",
      "0      -0.110474  0.066928  0.128539 -0.189115  0.133558 -0.021053  149.62   \n",
      "1       0.101288 -0.339846  0.167170  0.125895 -0.008983  0.014724    2.69   \n",
      "2       0.909412 -0.689281 -0.327642 -0.139097 -0.055353 -0.059752  378.66   \n",
      "3      -0.190321 -1.175575  0.647376 -0.221929  0.062723  0.061458  123.50   \n",
      "4      -0.137458  0.141267 -0.206010  0.502292  0.219422  0.215153   69.99   \n",
      "...          ...       ...       ...       ...       ...       ...     ...   \n",
      "284802  1.014480 -0.509348  1.436807  0.250034  0.943651  0.823731    0.77   \n",
      "284803  0.012463 -1.016226 -0.606624 -0.395255  0.068472 -0.053527   24.79   \n",
      "284804 -0.037501  0.640134  0.265745 -0.087371  0.004455 -0.026561   67.88   \n",
      "284805 -0.163298  0.123205 -0.569159  0.546668  0.108821  0.104533   10.00   \n",
      "284806  0.376777  0.008797 -0.473649 -0.818267 -0.002415  0.013649  217.00   \n",
      "\n",
      "        Class  \n",
      "0           0  \n",
      "1           0  \n",
      "2           0  \n",
      "3           0  \n",
      "4           0  \n",
      "...       ...  \n",
      "284802      0  \n",
      "284803      0  \n",
      "284804      0  \n",
      "284805      0  \n",
      "284806      0  \n",
      "\n",
      "[284807 rows x 31 columns]\n"
     ]
    }
   ],
   "source": [
    "print(file)\n",
    "print(raw_df)"
   ]
  },
  {
   "cell_type": "code",
   "execution_count": 8,
   "metadata": {
    "colab": {},
    "colab_type": "code",
    "id": "-fgdQgmwUFuj"
   },
   "outputs": [
    {
     "data": {
      "text/html": [
       "<div>\n",
       "<style scoped>\n",
       "    .dataframe tbody tr th:only-of-type {\n",
       "        vertical-align: middle;\n",
       "    }\n",
       "\n",
       "    .dataframe tbody tr th {\n",
       "        vertical-align: top;\n",
       "    }\n",
       "\n",
       "    .dataframe thead th {\n",
       "        text-align: right;\n",
       "    }\n",
       "</style>\n",
       "<table border=\"1\" class=\"dataframe\">\n",
       "  <thead>\n",
       "    <tr style=\"text-align: right;\">\n",
       "      <th></th>\n",
       "      <th>Time</th>\n",
       "      <th>V1</th>\n",
       "      <th>V2</th>\n",
       "      <th>V3</th>\n",
       "      <th>V4</th>\n",
       "      <th>V5</th>\n",
       "      <th>V26</th>\n",
       "      <th>V27</th>\n",
       "      <th>V28</th>\n",
       "      <th>Amount</th>\n",
       "      <th>Class</th>\n",
       "    </tr>\n",
       "  </thead>\n",
       "  <tbody>\n",
       "    <tr>\n",
       "      <th>count</th>\n",
       "      <td>284807.000000</td>\n",
       "      <td>2.848070e+05</td>\n",
       "      <td>2.848070e+05</td>\n",
       "      <td>2.848070e+05</td>\n",
       "      <td>2.848070e+05</td>\n",
       "      <td>2.848070e+05</td>\n",
       "      <td>2.848070e+05</td>\n",
       "      <td>2.848070e+05</td>\n",
       "      <td>2.848070e+05</td>\n",
       "      <td>284807.000000</td>\n",
       "      <td>284807.000000</td>\n",
       "    </tr>\n",
       "    <tr>\n",
       "      <th>mean</th>\n",
       "      <td>94813.859575</td>\n",
       "      <td>3.919560e-15</td>\n",
       "      <td>5.688174e-16</td>\n",
       "      <td>-8.769071e-15</td>\n",
       "      <td>2.782312e-15</td>\n",
       "      <td>-1.552563e-15</td>\n",
       "      <td>1.699104e-15</td>\n",
       "      <td>-3.660161e-16</td>\n",
       "      <td>-1.206049e-16</td>\n",
       "      <td>88.349619</td>\n",
       "      <td>0.001727</td>\n",
       "    </tr>\n",
       "    <tr>\n",
       "      <th>std</th>\n",
       "      <td>47488.145955</td>\n",
       "      <td>1.958696e+00</td>\n",
       "      <td>1.651309e+00</td>\n",
       "      <td>1.516255e+00</td>\n",
       "      <td>1.415869e+00</td>\n",
       "      <td>1.380247e+00</td>\n",
       "      <td>4.822270e-01</td>\n",
       "      <td>4.036325e-01</td>\n",
       "      <td>3.300833e-01</td>\n",
       "      <td>250.120109</td>\n",
       "      <td>0.041527</td>\n",
       "    </tr>\n",
       "    <tr>\n",
       "      <th>min</th>\n",
       "      <td>0.000000</td>\n",
       "      <td>-5.640751e+01</td>\n",
       "      <td>-7.271573e+01</td>\n",
       "      <td>-4.832559e+01</td>\n",
       "      <td>-5.683171e+00</td>\n",
       "      <td>-1.137433e+02</td>\n",
       "      <td>-2.604551e+00</td>\n",
       "      <td>-2.256568e+01</td>\n",
       "      <td>-1.543008e+01</td>\n",
       "      <td>0.000000</td>\n",
       "      <td>0.000000</td>\n",
       "    </tr>\n",
       "    <tr>\n",
       "      <th>25%</th>\n",
       "      <td>54201.500000</td>\n",
       "      <td>-9.203734e-01</td>\n",
       "      <td>-5.985499e-01</td>\n",
       "      <td>-8.903648e-01</td>\n",
       "      <td>-8.486401e-01</td>\n",
       "      <td>-6.915971e-01</td>\n",
       "      <td>-3.269839e-01</td>\n",
       "      <td>-7.083953e-02</td>\n",
       "      <td>-5.295979e-02</td>\n",
       "      <td>5.600000</td>\n",
       "      <td>0.000000</td>\n",
       "    </tr>\n",
       "    <tr>\n",
       "      <th>50%</th>\n",
       "      <td>84692.000000</td>\n",
       "      <td>1.810880e-02</td>\n",
       "      <td>6.548556e-02</td>\n",
       "      <td>1.798463e-01</td>\n",
       "      <td>-1.984653e-02</td>\n",
       "      <td>-5.433583e-02</td>\n",
       "      <td>-5.213911e-02</td>\n",
       "      <td>1.342146e-03</td>\n",
       "      <td>1.124383e-02</td>\n",
       "      <td>22.000000</td>\n",
       "      <td>0.000000</td>\n",
       "    </tr>\n",
       "    <tr>\n",
       "      <th>75%</th>\n",
       "      <td>139320.500000</td>\n",
       "      <td>1.315642e+00</td>\n",
       "      <td>8.037239e-01</td>\n",
       "      <td>1.027196e+00</td>\n",
       "      <td>7.433413e-01</td>\n",
       "      <td>6.119264e-01</td>\n",
       "      <td>2.409522e-01</td>\n",
       "      <td>9.104512e-02</td>\n",
       "      <td>7.827995e-02</td>\n",
       "      <td>77.165000</td>\n",
       "      <td>0.000000</td>\n",
       "    </tr>\n",
       "    <tr>\n",
       "      <th>max</th>\n",
       "      <td>172792.000000</td>\n",
       "      <td>2.454930e+00</td>\n",
       "      <td>2.205773e+01</td>\n",
       "      <td>9.382558e+00</td>\n",
       "      <td>1.687534e+01</td>\n",
       "      <td>3.480167e+01</td>\n",
       "      <td>3.517346e+00</td>\n",
       "      <td>3.161220e+01</td>\n",
       "      <td>3.384781e+01</td>\n",
       "      <td>25691.160000</td>\n",
       "      <td>1.000000</td>\n",
       "    </tr>\n",
       "  </tbody>\n",
       "</table>\n",
       "</div>"
      ],
      "text/plain": [
       "                Time            V1            V2            V3            V4  \\\n",
       "count  284807.000000  2.848070e+05  2.848070e+05  2.848070e+05  2.848070e+05   \n",
       "mean    94813.859575  3.919560e-15  5.688174e-16 -8.769071e-15  2.782312e-15   \n",
       "std     47488.145955  1.958696e+00  1.651309e+00  1.516255e+00  1.415869e+00   \n",
       "min         0.000000 -5.640751e+01 -7.271573e+01 -4.832559e+01 -5.683171e+00   \n",
       "25%     54201.500000 -9.203734e-01 -5.985499e-01 -8.903648e-01 -8.486401e-01   \n",
       "50%     84692.000000  1.810880e-02  6.548556e-02  1.798463e-01 -1.984653e-02   \n",
       "75%    139320.500000  1.315642e+00  8.037239e-01  1.027196e+00  7.433413e-01   \n",
       "max    172792.000000  2.454930e+00  2.205773e+01  9.382558e+00  1.687534e+01   \n",
       "\n",
       "                 V5           V26           V27           V28         Amount  \\\n",
       "count  2.848070e+05  2.848070e+05  2.848070e+05  2.848070e+05  284807.000000   \n",
       "mean  -1.552563e-15  1.699104e-15 -3.660161e-16 -1.206049e-16      88.349619   \n",
       "std    1.380247e+00  4.822270e-01  4.036325e-01  3.300833e-01     250.120109   \n",
       "min   -1.137433e+02 -2.604551e+00 -2.256568e+01 -1.543008e+01       0.000000   \n",
       "25%   -6.915971e-01 -3.269839e-01 -7.083953e-02 -5.295979e-02       5.600000   \n",
       "50%   -5.433583e-02 -5.213911e-02  1.342146e-03  1.124383e-02      22.000000   \n",
       "75%    6.119264e-01  2.409522e-01  9.104512e-02  7.827995e-02      77.165000   \n",
       "max    3.480167e+01  3.517346e+00  3.161220e+01  3.384781e+01   25691.160000   \n",
       "\n",
       "               Class  \n",
       "count  284807.000000  \n",
       "mean        0.001727  \n",
       "std         0.041527  \n",
       "min         0.000000  \n",
       "25%         0.000000  \n",
       "50%         0.000000  \n",
       "75%         0.000000  \n",
       "max         1.000000  "
      ]
     },
     "execution_count": 8,
     "metadata": {},
     "output_type": "execute_result"
    }
   ],
   "source": [
    "raw_df[['Time', 'V1', 'V2', 'V3', 'V4', 'V5', 'V26', 'V27', 'V28', 'Amount', 'Class']].describe()"
   ]
  },
  {
   "cell_type": "markdown",
   "metadata": {
    "colab_type": "text",
    "id": "xWKB_CVZFLpB"
   },
   "source": [
    "### Examine the class label imbalance\n",
    "\n",
    "Let's look at the dataset imbalance:"
   ]
  },
  {
   "cell_type": "code",
   "execution_count": 9,
   "metadata": {
    "colab": {},
    "colab_type": "code",
    "id": "HCJFrtuY2iLF"
   },
   "outputs": [
    {
     "name": "stdout",
     "output_type": "stream",
     "text": [
      "Examples:\n",
      "    Total: 284807\n",
      "    Positive: 492 (0.17% of total)\n",
      "\n",
      "The number of elements in the negative class is: 284315\n"
     ]
    }
   ],
   "source": [
    "neg, pos = np.bincount(raw_df['Class'])\n",
    "total = neg + pos\n",
    "print('Examples:\\n    Total: {}\\n    Positive: {} ({:.2f}% of total)\\n'.format(\n",
    "    total, pos, 100 * pos / total))\n",
    "print(f\"The number of elements in the negative class is: {neg}\")"
   ]
  },
  {
   "cell_type": "markdown",
   "metadata": {
    "colab_type": "text",
    "id": "KnLKFQDsCBUg"
   },
   "source": [
    "This shows the small fraction of positive samples.\n",
    "\n",
    "This means that wa have an imbalanced data set... "
   ]
  },
  {
   "cell_type": "markdown",
   "metadata": {
    "colab_type": "text",
    "id": "6qox6ryyzwdr"
   },
   "source": [
    "### Clean, split and normalize the data\n",
    "\n",
    "The raw data has a few issues. First the `Time` and `Amount` columns are too variable to use directly. Drop the `Time` column (since it's not clear what it means) and take the log of the `Amount` column to reduce its range."
   ]
  },
  {
   "cell_type": "code",
   "execution_count": 10,
   "metadata": {
    "colab": {},
    "colab_type": "code",
    "id": "Ef42jTuxEjnj"
   },
   "outputs": [],
   "source": [
    "cleaned_df = raw_df.copy()\n",
    "\n",
    "# You don't want the `Time` column.\n",
    "cleaned_df.pop('Time')\n",
    "\n",
    "# The `Amount` column covers a huge range. Convert to log-space.\n",
    "eps=0.001 # 0 => 0.1¢\n",
    "cleaned_df['Log Ammount'] = np.log(cleaned_df.pop('Amount')+eps)"
   ]
  },
  {
   "cell_type": "markdown",
   "metadata": {
    "colab_type": "text",
    "id": "uSNgdQFFFQ6u"
   },
   "source": [
    "Split the dataset into train, validation, and test sets. The validation set is used during the model fitting to evaluate the loss and any metrics, however the model is not fit with this data. The test set is completely unused during the training phase and is only used at the end to evaluate how well the model generalizes to new data. This is especially important with imbalanced datasets where [overfitting](https://developers.google.com/machine-learning/crash-course/generalization/peril-of-overfitting) is a significant concern from the lack of training data."
   ]
  },
  {
   "cell_type": "markdown",
   "metadata": {},
   "source": [
    "Je comprend de ce que je viens de lire que le validation set sert à calculer l'accuracy et le loss pendant l'entrainement. the training set sert à entrainer le modèle. Le test set sert à voir si notre modèle peut bien générer sur d'autres exemple.\n",
    "Finalment, dans ce genre de problème dans lesquels on an imbalanced data set. c'est très important d'avoir un test set car cela va nous permettre de mieux avoir si on a le overfitting."
   ]
  },
  {
   "cell_type": "code",
   "execution_count": 11,
   "metadata": {
    "colab": {},
    "colab_type": "code",
    "id": "xfxhKg7Yr1-b"
   },
   "outputs": [],
   "source": [
    "# Use a utility from sklearn to split and shuffle our dataset.\n",
    "train_df, test_df = train_test_split(cleaned_df, test_size=0.2)\n",
    "train_df, val_df = train_test_split(train_df, test_size=0.2)\n",
    "\n",
    "# Form np arrays of labels and features.\n",
    "train_labels = np.array(train_df.pop('Class'))\n",
    "bool_train_labels = train_labels != 0\n",
    "val_labels = np.array(val_df.pop('Class'))\n",
    "test_labels = np.array(test_df.pop('Class'))\n",
    "\n",
    "train_features = np.array(train_df)\n",
    "val_features = np.array(val_df)\n",
    "test_features = np.array(test_df)"
   ]
  },
  {
   "cell_type": "code",
   "execution_count": 12,
   "metadata": {
    "scrolled": true
   },
   "outputs": [
    {
     "name": "stdout",
     "output_type": "stream",
     "text": [
      "              V1        V2        V3        V4        V5        V6        V7  \\\n",
      "170001 -0.130796  0.896565 -0.099684  1.138297  3.353437  1.675036  2.287961   \n",
      "245128  2.053000 -0.067232 -1.068655  0.410157 -0.121949 -1.131514  0.163250   \n",
      "84781   1.122684 -0.091919  1.490527  1.478529 -1.352003 -0.543861 -0.637501   \n",
      "17318  -3.736432  3.370888 -5.460398  1.954062 -1.960729 -2.208190 -1.171518   \n",
      "110046  1.209445  0.085729 -0.048025 -0.093705 -0.082630 -0.772552  0.312481   \n",
      "...          ...       ...       ...       ...       ...       ...       ...   \n",
      "165565 -0.093998 -0.290088  0.319849 -1.968223 -0.360249 -0.586599 -0.119039   \n",
      "214088  2.054728  0.169285 -1.724465  0.408345  0.493916 -0.828741  0.250818   \n",
      "202765  0.334903  0.197113 -0.931929 -1.870665  0.561643 -1.653177  1.052605   \n",
      "28263   1.267098 -0.580711 -0.023009 -2.132691 -0.519093 -0.424441 -0.297961   \n",
      "118909  1.200922 -0.266508  0.770704  0.483118 -0.469783  0.687773 -0.731115   \n",
      "\n",
      "              V8        V9       V10  ...       V20       V21       V22  \\\n",
      "170001 -1.346907 -0.546798  2.242411  ...  0.411617  0.222421  1.787127   \n",
      "245128 -0.303252  0.555845  0.067798  ... -0.237018 -0.284478 -0.684144   \n",
      "84781   0.126677  1.043260 -0.164019  ... -0.240078 -0.044152  0.026796   \n",
      "17318   2.659153 -0.284688 -0.983157  ... -0.019174 -0.099896 -0.543020   \n",
      "110046 -0.204233 -0.431900 -0.007521  ...  0.075008 -0.382016 -1.233709   \n",
      "...          ...       ...       ...  ...       ...       ...       ...   \n",
      "165565  0.223138 -0.510044 -0.617145  ...  0.008385  0.301287  0.581080   \n",
      "214088 -0.277909  0.385707 -0.405445  ... -0.081570 -0.352036 -0.901469   \n",
      "202765 -0.377564 -1.704284  0.500728  ... -0.173676  0.584559  1.581809   \n",
      "28263  -0.071344  2.143893 -1.679457  ... -0.018700  0.008180  0.343629   \n",
      "118909  0.284779  0.734256 -0.077270  ... -0.024744 -0.109298 -0.168379   \n",
      "\n",
      "             V23       V24       V25       V26       V27       V28  \\\n",
      "170001 -0.858527 -0.849740  0.230873  0.094501 -1.476704 -1.155874   \n",
      "245128  0.348034 -0.016080 -0.317061  0.201393 -0.068280 -0.060689   \n",
      "84781   0.079739  0.881540  0.303215 -0.437044  0.065998  0.040193   \n",
      "17318  -0.040642  0.052004 -0.120554 -0.379438  0.136217 -0.237987   \n",
      "110046  0.113683  0.047808  0.127829  0.618242 -0.107038 -0.001501   \n",
      "...          ...       ...       ...       ...       ...       ...   \n",
      "165565 -0.124803 -0.523249  0.089653 -0.168520 -0.045798 -0.029312   \n",
      "214088  0.313230  0.502590 -0.230972  0.171165 -0.060403 -0.027211   \n",
      "202765 -0.469847  0.119083  0.400332  0.207693 -0.037253 -0.012195   \n",
      "28263  -0.218593 -0.578732  0.771258 -0.665717  0.098494  0.020269   \n",
      "118909 -0.135892 -0.798168  0.379484  0.370468  0.010387  0.007195   \n",
      "\n",
      "        Log Ammount  \n",
      "170001     0.001000  \n",
      "245128     0.683602  \n",
      "84781      1.607636  \n",
      "17318      4.499710  \n",
      "110046     3.795062  \n",
      "...             ...  \n",
      "165565     4.174249  \n",
      "214088     2.673528  \n",
      "202765     0.582774  \n",
      "28263      3.401231  \n",
      "118909     2.950264  \n",
      "\n",
      "[182276 rows x 29 columns]\n",
      "    \n",
      "[[-1.30796398e-01  8.96564570e-01 -9.96838744e-02 ... -1.47670372e+00\n",
      "  -1.15587424e+00  9.99500333e-04]\n",
      " [ 2.05299990e+00 -6.72316867e-02 -1.06865498e+00 ... -6.82795136e-02\n",
      "  -6.06894181e-02  6.83601768e-01]\n",
      " [ 1.12268361e+00 -9.19193699e-02  1.49052691e+00 ...  6.59975867e-02\n",
      "   4.01931282e-02  1.60763629e+00]\n",
      " ...\n",
      " [ 3.34903166e-01  1.97113394e-01 -9.31928739e-01 ... -3.72532177e-02\n",
      "  -1.21949962e-02  5.82774123e-01]\n",
      " [ 1.26709776e+00 -5.80710518e-01 -2.30087794e-02 ...  9.84935432e-02\n",
      "   2.02692925e-02  3.40123071e+00]\n",
      " [ 1.20092207e+00 -2.66508313e-01  7.70703772e-01 ...  1.03874838e-02\n",
      "   7.19544614e-03  2.95026409e+00]] (182276, 29)\n"
     ]
    }
   ],
   "source": [
    "print(train_df)\n",
    "print(\"    \")\n",
    "print(train_features, train_features.shape)"
   ]
  },
  {
   "cell_type": "code",
   "execution_count": 14,
   "metadata": {},
   "outputs": [
    {
     "data": {
      "text/plain": [
       "array([[-1.30796398e-01,  8.96564570e-01, -9.96838744e-02, ...,\n",
       "        -1.47670372e+00, -1.15587424e+00,  9.99500333e-04],\n",
       "       [ 2.05299990e+00, -6.72316867e-02, -1.06865498e+00, ...,\n",
       "        -6.82795136e-02, -6.06894181e-02,  6.83601768e-01],\n",
       "       [ 1.12268361e+00, -9.19193699e-02,  1.49052691e+00, ...,\n",
       "         6.59975867e-02,  4.01931282e-02,  1.60763629e+00],\n",
       "       ...,\n",
       "       [ 3.34903166e-01,  1.97113394e-01, -9.31928739e-01, ...,\n",
       "        -3.72532177e-02, -1.21949962e-02,  5.82774123e-01],\n",
       "       [ 1.26709776e+00, -5.80710518e-01, -2.30087794e-02, ...,\n",
       "         9.84935432e-02,  2.02692925e-02,  3.40123071e+00],\n",
       "       [ 1.20092207e+00, -2.66508313e-01,  7.70703772e-01, ...,\n",
       "         1.03874838e-02,  7.19544614e-03,  2.95026409e+00]])"
      ]
     },
     "execution_count": 14,
     "metadata": {},
     "output_type": "execute_result"
    }
   ],
   "source": [
    "train_features"
   ]
  },
  {
   "cell_type": "markdown",
   "metadata": {
    "colab_type": "text",
    "id": "8a_Z_kBmr7Oh"
   },
   "source": [
    "Normalize the input features using the sklearn StandardScaler.\n",
    "This will set the mean to 0 and standard deviation to 1.\n",
    "\n",
    "Note: The `StandardScaler` is only fit using the `train_features` to be sure the model is not peeking at the validation or test sets. "
   ]
  },
  {
   "cell_type": "code",
   "execution_count": 15,
   "metadata": {
    "colab": {},
    "colab_type": "code",
    "id": "IO-qEUmJ5JQg"
   },
   "outputs": [
    {
     "name": "stdout",
     "output_type": "stream",
     "text": [
      "Training labels shape: (182276,)\n",
      "Validation labels shape: (45569,)\n",
      "Test labels shape: (56962,)\n",
      "\n",
      "Training features shape: (182276, 29)\n",
      "Validation features shape: (45569, 29)\n",
      "Test features shape: (56962, 29)\n"
     ]
    }
   ],
   "source": [
    "scaler = StandardScaler()\n",
    "train_features = scaler.fit_transform(train_features)\n",
    "\n",
    "val_features = scaler.transform(val_features)\n",
    "test_features = scaler.transform(test_features)\n",
    "\n",
    "train_features = np.clip(train_features, -5, 5)\n",
    "val_features = np.clip(val_features, -5, 5)\n",
    "test_features = np.clip(test_features, -5, 5)\n",
    "\n",
    "\n",
    "print('Training labels shape:', train_labels.shape)\n",
    "print('Validation labels shape:', val_labels.shape)\n",
    "print('Test labels shape:', test_labels.shape)\n",
    "print(\"\")\n",
    "print('Training features shape:', train_features.shape)\n",
    "print('Validation features shape:', val_features.shape)\n",
    "print('Test features shape:', test_features.shape)\n"
   ]
  },
  {
   "cell_type": "code",
   "execution_count": 17,
   "metadata": {},
   "outputs": [
    {
     "data": {
      "text/plain": [
       "array([[-6.67148437e-02,  5.39973979e-01, -6.74086120e-02, ...,\n",
       "        -3.68614534e+00, -3.44217925e+00, -1.45523726e+00],\n",
       "       [ 1.04675890e+00, -3.99118713e-02, -7.08991318e-01, ...,\n",
       "        -1.68672165e-01, -1.83478528e-01, -1.11771522e+00],\n",
       "       [ 5.72409370e-01, -5.47656728e-02,  9.85514153e-01, ...,\n",
       "         1.66678574e-01,  1.16695487e-01, -6.60813687e-01],\n",
       "       ...,\n",
       "       [ 1.70735985e-01,  1.19136238e-01, -6.18461073e-01, ...,\n",
       "        -9.11854514e-02, -3.91843374e-02, -1.16757083e+00],\n",
       "       [ 6.46043234e-01, -3.48855911e-01, -1.66399001e-02, ...,\n",
       "         2.47835696e-01,  5.74125096e-02,  2.26053652e-01],\n",
       "       [ 6.12301582e-01, -1.59810341e-01,  5.08899245e-01, ...,\n",
       "         2.77949589e-02,  1.85115391e-02,  3.06702290e-03]])"
      ]
     },
     "execution_count": 17,
     "metadata": {},
     "output_type": "execute_result"
    }
   ],
   "source": [
    "train_features"
   ]
  },
  {
   "cell_type": "code",
   "execution_count": 18,
   "metadata": {},
   "outputs": [
    {
     "data": {
      "text/plain": [
       "0.9185369402923952"
      ]
     },
     "execution_count": 18,
     "metadata": {},
     "output_type": "execute_result"
    }
   ],
   "source": [
    "train_features.std()"
   ]
  },
  {
   "cell_type": "markdown",
   "metadata": {
    "colab_type": "text",
    "id": "XF2nNfWKJ33w"
   },
   "source": [
    "Caution: If you want to deploy a model, it's critical that you preserve the preprocessing calculations. The easiest way to implement them as layers, and attach them to your model before export.\n"
   ]
  },
  {
   "cell_type": "markdown",
   "metadata": {
    "colab_type": "text",
    "id": "uQ7m9nqDC3W6"
   },
   "source": [
    "### Look at the data distribution\n",
    "\n",
    "Next compare the distributions of the positive and negative examples over a few features. Good questions to ask yourself at this point are:\n",
    "\n",
    "* Do these distributions make sense? \n",
    "    * Yes. You've normalized the input and these are mostly concentrated in the `+/- 2` range.\n",
    "* Can you see the difference between the ditributions?\n",
    "    * Yes the positive examples contain a much higher rate of extreme values."
   ]
  },
  {
   "cell_type": "code",
   "execution_count": null,
   "metadata": {},
   "outputs": [],
   "source": []
  },
  {
   "cell_type": "code",
   "execution_count": 19,
   "metadata": {
    "colab": {},
    "colab_type": "code",
    "id": "raK7hyjd_vf6"
   },
   "outputs": [
    {
     "data": {
      "image/png": "[encoded data removed]",
      "text/plain": [
       "<Figure size 432x432 with 3 Axes>"
      ]
     },
     "metadata": {
      "needs_background": "light"
     },
     "output_type": "display_data"
    },
    {
     "data": {
      "image/png": "[encoded data removed]",
      "text/plain": [
       "<Figure size 432x432 with 3 Axes>"
      ]
     },
     "metadata": {
      "needs_background": "light"
     },
     "output_type": "display_data"
    }
   ],
   "source": [
    "pos_df = pd.DataFrame(train_features[ bool_train_labels], columns = train_df.columns)\n",
    "neg_df = pd.DataFrame(train_features[~bool_train_labels], columns = train_df.columns)\n",
    "\n",
    "sns.jointplot(pos_df['V5'], pos_df['V6'],\n",
    "              kind='hex', xlim = (-5,5), ylim = (-5,5))\n",
    "plt.suptitle(\"Positive distribution\")\n",
    "\n",
    "sns.jointplot(neg_df['V5'], neg_df['V6'],\n",
    "              kind='hex', xlim = (-5,5), ylim = (-5,5))\n",
    "_ = plt.suptitle(\"Negative distribution\")"
   ]
  },
  {
   "cell_type": "markdown",
   "metadata": {
    "colab_type": "text",
    "id": "qFK1u4JX16D8"
   },
   "source": [
    "## Define the model and metrics\n",
    "\n",
    "Define a function that creates a simple neural network with a densly connected hidden layer, a [dropout](https://developers.google.com/machine-learning/glossary/#dropout_regularization) layer to reduce overfitting, and an output sigmoid layer that returns the probability of a transaction being fraudulent: "
   ]
  },
  {
   "cell_type": "code",
   "execution_count": 20,
   "metadata": {
    "colab": {},
    "colab_type": "code",
    "id": "3JQDzUqT3UYG"
   },
   "outputs": [],
   "source": [
    "METRICS = [\n",
    "      keras.metrics.TruePositives(name='tp'),\n",
    "      keras.metrics.FalsePositives(name='fp'),\n",
    "      keras.metrics.TrueNegatives(name='tn'),\n",
    "      keras.metrics.FalseNegatives(name='fn'), \n",
    "      keras.metrics.BinaryAccuracy(name='accuracy'),\n",
    "      keras.metrics.Precision(name='precision'),\n",
    "      keras.metrics.Recall(name='recall'),\n",
    "      keras.metrics.AUC(name='auc'),\n",
    "]\n",
    "\n",
    "def make_model(metrics = METRICS, output_bias=None):\n",
    "  if output_bias is not None:\n",
    "    output_bias = tf.keras.initializers.Constant(output_bias)\n",
    "  model = keras.Sequential([\n",
    "      keras.layers.Dense(\n",
    "          16, activation='relu',\n",
    "          input_shape=(train_features.shape[-1],)),\n",
    "      keras.layers.Dropout(0.5),\n",
    "      keras.layers.Dense(1, activation='sigmoid',\n",
    "                         bias_initializer=output_bias),\n",
    "  ])\n",
    "\n",
    "  model.compile(\n",
    "      optimizer=keras.optimizers.Adam(lr=1e-3),\n",
    "      loss=keras.losses.BinaryCrossentropy(),\n",
    "      metrics=metrics)\n",
    "\n",
    "  return model"
   ]
  },
  {
   "cell_type": "markdown",
   "metadata": {
    "colab_type": "text",
    "id": "SU0GX6E6mieP"
   },
   "source": [
    "### Understanding useful metrics\n",
    "\n",
    "Notice that there are a few metrics defined above that can be computed by the model that will be helpful when evaluating the performance.\n",
    "\n",
    "\n",
    "\n",
    "*   **False** negatives and **false** positives are samples that were **incorrectly** classified\n",
    "*   **True** negatives and **true** positives are samples that were **correctly** classified\n",
    "*   **Accuracy** is the percentage of examples correctly classified\n",
    ">   $\\frac{\\text{true samples}}{\\text{total samples}}$\n",
    "*   **Precision** is the percentage of **predicted** positives that were correctly classified\n",
    ">   $\\frac{\\text{true positives}}{\\text{true positives + false positives}}$\n",
    "*   **Recall** is the percentage of **actual** positives that were correctly classified\n",
    ">   $\\frac{\\text{true positives}}{\\text{true positives + false negatives}}$\n",
    "*   **AUC** refers to the Area Under the Curve of a Receiver Operating Characteristic curve (ROC-AUC). This metric is equal to the probability that a classifier will rank a random positive sample higher than than a random negative sample.\n",
    "\n",
    "Note: Accuracy is not a helpful metric for this task. You can 99.8%+ accuracy on this task by predicting False all the time.  \n",
    "\n",
    "Read more:\n",
    "*  [True vs. False and Positive vs. Negative](https://developers.google.com/machine-learning/crash-course/classification/true-false-positive-negative)\n",
    "*  [Accuracy](https://developers.google.com/machine-learning/crash-course/classification/accuracy)\n",
    "*   [Precision and Recall](https://developers.google.com/machine-learning/crash-course/classification/precision-and-recall)\n",
    "*   [ROC-AUC](https://developers.google.com/machine-learning/crash-course/classification/roc-and-auc)"
   ]
  },
  {
   "cell_type": "markdown",
   "metadata": {},
   "source": [
    "Je comprend de la derniere ligne que je peux ajouter bcp de metrique le moment de la compilation. \n",
    "\n",
    "Et que le truc le plus importat est que lorsque on an imbalanced data set, le accuracy ne sert pas a grand chose, car on peut avoir 99% de reussite mais preire faux tt le temps :( "
   ]
  },
  {
   "cell_type": "markdown",
   "metadata": {
    "colab_type": "text",
    "id": "FYdhSAoaF_TK"
   },
   "source": [
    "## Baseline model"
   ]
  },
  {
   "cell_type": "markdown",
   "metadata": {
    "colab_type": "text",
    "id": "IDbltVPg2m2q"
   },
   "source": [
    "### Build the model\n",
    "\n",
    "Now create and train your model using the function that was defined earlier. Notice that the model is fit using a larger than default batch size of 2048, this is important to ensure that each batch has a decent chance of containing a few positive samples. If the batch size was too small, they would likely have no fraudulent transactions to learn from.\n",
    "\n",
    "\n",
    "Note: this model will not handle the class imbalance well. You will improve it later in this tutorial."
   ]
  },
  {
   "cell_type": "markdown",
   "metadata": {},
   "source": [
    "Si le batch size est tres petit, y'a moyen qu'il n'aura aucun transaction fauduleuse pour apprendre "
   ]
  },
  {
   "cell_type": "code",
   "execution_count": 21,
   "metadata": {
    "colab": {},
    "colab_type": "code",
    "id": "ouUkwPcGQsy3"
   },
   "outputs": [],
   "source": [
    "EPOCHS = 100\n",
    "BATCH_SIZE = 2048\n",
    "\n",
    "early_stopping = tf.keras.callbacks.EarlyStopping(\n",
    "    monitor='val_auc', \n",
    "    verbose=1,\n",
    "    patience=10,\n",
    "    mode='max',\n",
    "    restore_best_weights=True)"
   ]
  },
  {
   "cell_type": "code",
   "execution_count": 22,
   "metadata": {
    "colab": {},
    "colab_type": "code",
    "id": "1xlR_dekzw7C"
   },
   "outputs": [
    {
     "name": "stdout",
     "output_type": "stream",
     "text": [
      "Model: \"sequential\"\n",
      "_________________________________________________________________\n",
      "Layer (type)                 Output Shape              Param #   \n",
      "=================================================================\n",
      "dense (Dense)                (None, 16)                480       \n",
      "_________________________________________________________________\n",
      "dropout (Dropout)            (None, 16)                0         \n",
      "_________________________________________________________________\n",
      "dense_1 (Dense)              (None, 1)                 17        \n",
      "=================================================================\n",
      "Total params: 497\n",
      "Trainable params: 497\n",
      "Non-trainable params: 0\n",
      "_________________________________________________________________\n"
     ]
    }
   ],
   "source": [
    "model = make_model()\n",
    "model.summary()"
   ]
  },
  {
   "cell_type": "markdown",
   "metadata": {
    "colab_type": "text",
    "id": "Wx7ND3_SqckO"
   },
   "source": [
    "Test run the model:"
   ]
  },
  {
   "cell_type": "code",
   "execution_count": 23,
   "metadata": {
    "colab": {},
    "colab_type": "code",
    "id": "LopSd-yQqO3a"
   },
   "outputs": [
    {
     "data": {
      "text/plain": [
       "array([[0.4279715 ],\n",
       "       [0.70915794],\n",
       "       [0.715033  ],\n",
       "       [0.80995965],\n",
       "       [0.66025347],\n",
       "       [0.68496865],\n",
       "       [0.6249493 ],\n",
       "       [0.6374997 ],\n",
       "       [0.5113633 ],\n",
       "       [0.8199116 ]], dtype=float32)"
      ]
     },
     "execution_count": 23,
     "metadata": {},
     "output_type": "execute_result"
    }
   ],
   "source": [
    "model.predict(train_features[:10])"
   ]
  },
  {
   "cell_type": "markdown",
   "metadata": {
    "colab_type": "text",
    "id": "YKIgWqHms_03"
   },
   "source": [
    "### Optional: Set the correct initial bias."
   ]
  },
  {
   "cell_type": "markdown",
   "metadata": {
    "colab_type": "text",
    "id": "qk_3Ry6EoYDq"
   },
   "source": [
    "These are initial guesses are not great. You know the dataset is imbalanced. Set the output layer's bias to reflect that (See: [A Recipe for Training Neural Networks: \"init well\"](http://karpathy.github.io/2019/04/25/recipe/#2-set-up-the-end-to-end-trainingevaluation-skeleton--get-dumb-baselines)). This can help with initial convergence."
   ]
  },
  {
   "cell_type": "markdown",
   "metadata": {
    "colab_type": "text",
    "id": "PdbfWDuVpo6k"
   },
   "source": [
    "With the default bias initialization the loss should be about `math.log(2) = 0.69314` "
   ]
  },
  {
   "cell_type": "code",
   "execution_count": 25,
   "metadata": {
    "colab": {},
    "colab_type": "code",
    "id": "H-oPqh3SoGXk"
   },
   "outputs": [
    {
     "name": "stdout",
     "output_type": "stream",
     "text": [
      "Loss: 1.1393\n"
     ]
    }
   ],
   "source": [
    "results = model.evaluate(train_features, train_labels, batch_size=BATCH_SIZE, verbose=0)\n",
    "print(\"Loss: {:0.4f}\".format(results[0]))"
   ]
  },
  {
   "cell_type": "markdown",
   "metadata": {
    "colab_type": "text",
    "id": "hE-JRzfKqfhB"
   },
   "source": [
    "The correct bias to set can be derived from:\n",
    "\n",
    "$$ p_0 = pos/(pos + neg) = 1/(1+e^{-b_0}) $$\n",
    "$$ b_0 = -log_e(1/p_0 - 1) $$\n",
    "$$ b_0 = log_e(pos/neg)$$"
   ]
  },
  {
   "cell_type": "code",
   "execution_count": 26,
   "metadata": {
    "colab": {},
    "colab_type": "code",
    "id": "F5KWPSjjstUS"
   },
   "outputs": [
    {
     "data": {
      "text/plain": [
       "array([-6.35935934])"
      ]
     },
     "execution_count": 26,
     "metadata": {},
     "output_type": "execute_result"
    }
   ],
   "source": [
    "initial_bias = np.log([pos/neg])\n",
    "initial_bias"
   ]
  },
  {
   "cell_type": "markdown",
   "metadata": {
    "colab_type": "text",
    "id": "d1juXI9yY1KD"
   },
   "source": [
    "Set that as the initial bias, and the model will give much more reasonable initial guesses. \n",
    "\n",
    "It should be near: `pos/total = 0.0018`"
   ]
  },
  {
   "cell_type": "code",
   "execution_count": 27,
   "metadata": {
    "colab": {},
    "colab_type": "code",
    "id": "50oyu1uss0i-"
   },
   "outputs": [
    {
     "data": {
      "text/plain": [
       "array([[0.00013483],\n",
       "       [0.00148007],\n",
       "       [0.00201443],\n",
       "       [0.00025684],\n",
       "       [0.00183246],\n",
       "       [0.00256121],\n",
       "       [0.00256291],\n",
       "       [0.00261465],\n",
       "       [0.00133629],\n",
       "       [0.00237808]], dtype=float32)"
      ]
     },
     "execution_count": 27,
     "metadata": {},
     "output_type": "execute_result"
    }
   ],
   "source": [
    "model = make_model(output_bias = initial_bias)\n",
    "model.predict(train_features[:10])"
   ]
  },
  {
   "cell_type": "markdown",
   "metadata": {
    "colab_type": "text",
    "id": "4xqFYb2KqRHQ"
   },
   "source": [
    "With this initialization the initial loss should be approximately:\n",
    "\n",
    "$$-p_0log(p_0)-(1-p_0)log(1-p_0) = 0.01317$$"
   ]
  },
  {
   "cell_type": "code",
   "execution_count": 18,
   "metadata": {
    "colab": {},
    "colab_type": "code",
    "id": "xVDqCWXDqHSc"
   },
   "outputs": [
    {
     "name": "stdout",
     "output_type": "stream",
     "text": [
      "Loss: 0.0129\n"
     ]
    }
   ],
   "source": [
    "results = model.evaluate(train_features, train_labels, batch_size=BATCH_SIZE, verbose=0)\n",
    "print(\"Loss: {:0.4f}\".format(results[0]))"
   ]
  },
  {
   "cell_type": "markdown",
   "metadata": {
    "colab_type": "text",
    "id": "FrDC8hvNr9yw"
   },
   "source": [
    "This initial loss is about 50 times less than if would have been with naive initilization.\n",
    "\n",
    "This way the model doesn't need to spend the first few epochs just learning that positive examples are unlikely. This also makes it easier to read plots of the loss during training."
   ]
  },
  {
   "cell_type": "markdown",
   "metadata": {
    "colab_type": "text",
    "id": "0EJj9ixKVBMT"
   },
   "source": [
    "### Checkpoint the initial weights\n",
    "\n",
    "To make the various training runs more comparable, keep this initial model's weights in a checkpoint file, and load them into each model before training."
   ]
  },
  {
   "cell_type": "code",
   "execution_count": 28,
   "metadata": {
    "colab": {},
    "colab_type": "code",
    "id": "_tSUm4yAVIif"
   },
   "outputs": [],
   "source": [
    "initial_weights = os.path.join(tempfile.mkdtemp(),'initial_weights')\n",
    "model.save_weights(initial_weights)"
   ]
  },
  {
   "cell_type": "markdown",
   "metadata": {
    "colab_type": "text",
    "id": "EVXiLyqyZ8AX"
   },
   "source": [
    "### Confirm that the bias fix helps\n",
    "\n",
    "Before moving on, confirm quick that the careful bias initialization actually helped.\n",
    "\n",
    "Train the model for 20 epochs, with and without this careful initialization, and compare the losses: "
   ]
  },
  {
   "cell_type": "code",
   "execution_count": 29,
   "metadata": {
    "colab": {},
    "colab_type": "code",
    "id": "Dm4-4K5RZ63Q"
   },
   "outputs": [],
   "source": [
    "model = make_model()\n",
    "model.load_weights(initial_weights)\n",
    "model.layers[-1].bias.assign([0.0])\n",
    "zero_bias_history = model.fit(\n",
    "    train_features,\n",
    "    train_labels,\n",
    "    batch_size=BATCH_SIZE,\n",
    "    epochs=20,\n",
    "    validation_data=(val_features, val_labels), \n",
    "    verbose=0)"
   ]
  },
  {
   "cell_type": "code",
   "execution_count": 32,
   "metadata": {
    "colab": {},
    "colab_type": "code",
    "id": "j8DsLXHQaSql"
   },
   "outputs": [],
   "source": [
    "model = make_model()\n",
    "model.load_weights(initial_weights)\n",
    "careful_bias_history = model.fit(\n",
    "    train_features,\n",
    "    train_labels,\n",
    "    batch_size=BATCH_SIZE,\n",
    "    epochs=20,\n",
    "    validation_data=(val_features, val_labels), \n",
    "    verbose=0)"
   ]
  },
  {
   "cell_type": "code",
   "execution_count": 34,
   "metadata": {
    "colab": {},
    "colab_type": "code",
    "id": "E3XsMBjhauFV"
   },
   "outputs": [],
   "source": [
    "def plot_loss(history, label, n):\n",
    "  # Use a log scale to show the wide range of values.\n",
    "  plt.semilogy(history.epoch,  history.history['loss'],\n",
    "               color=colors[n], label='Train '+label)\n",
    "  plt.semilogy(history.epoch,  history.history['val_loss'],\n",
    "          color=colors[n], label='Val '+label,\n",
    "          linestyle=\"--\")\n",
    "  plt.xlabel('Epoch')\n",
    "  plt.ylabel('Loss')\n",
    "  \n",
    "  plt.legend()"
   ]
  },
  {
   "cell_type": "code",
   "execution_count": 35,
   "metadata": {
    "colab": {},
    "colab_type": "code",
    "id": "dxFaskm7beC7"
   },
   "outputs": [
    {
     "data": {
      "image/png": "[encoded data removed]",
      "text/plain": [
       "<Figure size 864x720 with 1 Axes>"
      ]
     },
     "metadata": {
      "needs_background": "light"
     },
     "output_type": "display_data"
    }
   ],
   "source": [
    "plot_loss(zero_bias_history, \"Zero Bias\", 0)\n",
    "plot_loss(careful_bias_history, \"Careful Bias\", 1)"
   ]
  },
  {
   "cell_type": "markdown",
   "metadata": {
    "colab_type": "text",
    "id": "fKMioV0ddG3R"
   },
   "source": [
    "The above figure makes it clear: In terms of validation loss, on this problem, this careful initialization gives a clear advantage. "
   ]
  },
  {
   "cell_type": "markdown",
   "metadata": {
    "colab_type": "text",
    "id": "RsA_7SEntRaV"
   },
   "source": [
    "### Train the model"
   ]
  },
  {
   "cell_type": "code",
   "execution_count": 36,
   "metadata": {
    "colab": {},
    "colab_type": "code",
    "id": "yZKAc8NCDnoR",
    "scrolled": true
   },
   "outputs": [
    {
     "name": "stdout",
     "output_type": "stream",
     "text": [
      "Epoch 1/100\n",
      "90/90 [==============================] - 1s 16ms/step - loss: 0.0130 - tp: 72.0000 - fp: 45.0000 - tn: 227397.0000 - fn: 331.0000 - accuracy: 0.9983 - precision: 0.6154 - recall: 0.1787 - auc: 0.7263 - val_loss: 0.0074 - val_tp: 0.0000e+00 - val_fp: 0.0000e+00 - val_tn: 45494.0000 - val_fn: 75.0000 - val_accuracy: 0.9984 - val_precision: 0.0000e+00 - val_recall: 0.0000e+00 - val_auc: 0.9249\n",
      "Epoch 2/100\n",
      "90/90 [==============================] - 1s 8ms/step - loss: 0.0076 - tp: 97.0000 - fp: 17.0000 - tn: 181931.0000 - fn: 231.0000 - accuracy: 0.9986 - precision: 0.8509 - recall: 0.2957 - auc: 0.8859 - val_loss: 0.0040 - val_tp: 44.0000 - val_fp: 8.0000 - val_tn: 45486.0000 - val_fn: 31.0000 - val_accuracy: 0.9991 - val_precision: 0.8462 - val_recall: 0.5867 - val_auc: 0.9528\n",
      "Epoch 3/100\n",
      "90/90 [==============================] - 1s 9ms/step - loss: 0.0060 - tp: 164.0000 - fp: 26.0000 - tn: 181922.0000 - fn: 164.0000 - accuracy: 0.9990 - precision: 0.8632 - recall: 0.5000 - auc: 0.8998 - val_loss: 0.0036 - val_tp: 53.0000 - val_fp: 8.0000 - val_tn: 45486.0000 - val_fn: 22.0000 - val_accuracy: 0.9993 - val_precision: 0.8689 - val_recall: 0.7067 - val_auc: 0.9530\n",
      "Epoch 4/100\n",
      "90/90 [==============================] - 1s 10ms/step - loss: 0.0057 - tp: 181.0000 - fp: 24.0000 - tn: 181924.0000 - fn: 147.0000 - accuracy: 0.9991 - precision: 0.8829 - recall: 0.5518 - auc: 0.9125 - val_loss: 0.0033 - val_tp: 53.0000 - val_fp: 8.0000 - val_tn: 45486.0000 - val_fn: 22.0000 - val_accuracy: 0.9993 - val_precision: 0.8689 - val_recall: 0.7067 - val_auc: 0.9530\n",
      "Epoch 5/100\n",
      "90/90 [==============================] - 1s 10ms/step - loss: 0.0053 - tp: 176.0000 - fp: 25.0000 - tn: 181923.0000 - fn: 152.0000 - accuracy: 0.9990 - precision: 0.8756 - recall: 0.5366 - auc: 0.9146 - val_loss: 0.0032 - val_tp: 59.0000 - val_fp: 8.0000 - val_tn: 45486.0000 - val_fn: 16.0000 - val_accuracy: 0.9995 - val_precision: 0.8806 - val_recall: 0.7867 - val_auc: 0.9530\n",
      "Epoch 6/100\n",
      "90/90 [==============================] - 1s 13ms/step - loss: 0.0051 - tp: 186.0000 - fp: 29.0000 - tn: 181919.0000 - fn: 142.0000 - accuracy: 0.9991 - precision: 0.8651 - recall: 0.5671 - auc: 0.9239 - val_loss: 0.0031 - val_tp: 61.0000 - val_fp: 9.0000 - val_tn: 45485.0000 - val_fn: 14.0000 - val_accuracy: 0.9995 - val_precision: 0.8714 - val_recall: 0.8133 - val_auc: 0.9530\n",
      "Epoch 7/100\n",
      "90/90 [==============================] - 1s 10ms/step - loss: 0.0048 - tp: 194.0000 - fp: 24.0000 - tn: 181924.0000 - fn: 134.0000 - accuracy: 0.9991 - precision: 0.8899 - recall: 0.5915 - auc: 0.9212 - val_loss: 0.0029 - val_tp: 61.0000 - val_fp: 8.0000 - val_tn: 45486.0000 - val_fn: 14.0000 - val_accuracy: 0.9995 - val_precision: 0.8841 - val_recall: 0.8133 - val_auc: 0.9530\n",
      "Epoch 8/100\n",
      "90/90 [==============================] - 1s 9ms/step - loss: 0.0047 - tp: 206.0000 - fp: 22.0000 - tn: 181926.0000 - fn: 122.0000 - accuracy: 0.9992 - precision: 0.9035 - recall: 0.6280 - auc: 0.9212 - val_loss: 0.0028 - val_tp: 61.0000 - val_fp: 8.0000 - val_tn: 45486.0000 - val_fn: 14.0000 - val_accuracy: 0.9995 - val_precision: 0.8841 - val_recall: 0.8133 - val_auc: 0.9531\n",
      "Epoch 9/100\n",
      "90/90 [==============================] - 1s 9ms/step - loss: 0.0043 - tp: 198.0000 - fp: 29.0000 - tn: 181919.0000 - fn: 130.0000 - accuracy: 0.9991 - precision: 0.8722 - recall: 0.6037 - auc: 0.9274 - val_loss: 0.0028 - val_tp: 62.0000 - val_fp: 9.0000 - val_tn: 45485.0000 - val_fn: 13.0000 - val_accuracy: 0.9995 - val_precision: 0.8732 - val_recall: 0.8267 - val_auc: 0.9531\n",
      "Epoch 10/100\n",
      "90/90 [==============================] - 1s 10ms/step - loss: 0.0042 - tp: 210.0000 - fp: 25.0000 - tn: 181923.0000 - fn: 118.0000 - accuracy: 0.9992 - precision: 0.8936 - recall: 0.6402 - auc: 0.9275 - val_loss: 0.0026 - val_tp: 62.0000 - val_fp: 9.0000 - val_tn: 45485.0000 - val_fn: 13.0000 - val_accuracy: 0.9995 - val_precision: 0.8732 - val_recall: 0.8267 - val_auc: 0.9531\n",
      "Epoch 11/100\n",
      "90/90 [==============================] - 1s 12ms/step - loss: 0.0043 - tp: 212.0000 - fp: 27.0000 - tn: 181921.0000 - fn: 116.0000 - accuracy: 0.9992 - precision: 0.8870 - recall: 0.6463 - auc: 0.9336 - val_loss: 0.0026 - val_tp: 62.0000 - val_fp: 8.0000 - val_tn: 45486.0000 - val_fn: 13.0000 - val_accuracy: 0.9995 - val_precision: 0.8857 - val_recall: 0.8267 - val_auc: 0.9531\n",
      "Epoch 12/100\n",
      "90/90 [==============================] - 1s 10ms/step - loss: 0.0041 - tp: 206.0000 - fp: 30.0000 - tn: 181918.0000 - fn: 122.0000 - accuracy: 0.9992 - precision: 0.8729 - recall: 0.6280 - auc: 0.9229 - val_loss: 0.0024 - val_tp: 61.0000 - val_fp: 8.0000 - val_tn: 45486.0000 - val_fn: 14.0000 - val_accuracy: 0.9995 - val_precision: 0.8841 - val_recall: 0.8133 - val_auc: 0.9531\n",
      "Epoch 13/100\n",
      "90/90 [==============================] - 1s 8ms/step - loss: 0.0040 - tp: 207.0000 - fp: 20.0000 - tn: 181928.0000 - fn: 121.0000 - accuracy: 0.9992 - precision: 0.9119 - recall: 0.6311 - auc: 0.9275 - val_loss: 0.0025 - val_tp: 64.0000 - val_fp: 9.0000 - val_tn: 45485.0000 - val_fn: 11.0000 - val_accuracy: 0.9996 - val_precision: 0.8767 - val_recall: 0.8533 - val_auc: 0.9531\n",
      "Epoch 14/100\n",
      "90/90 [==============================] - 1s 8ms/step - loss: 0.0039 - tp: 211.0000 - fp: 28.0000 - tn: 181920.0000 - fn: 117.0000 - accuracy: 0.9992 - precision: 0.8828 - recall: 0.6433 - auc: 0.9351 - val_loss: 0.0025 - val_tp: 64.0000 - val_fp: 9.0000 - val_tn: 45485.0000 - val_fn: 11.0000 - val_accuracy: 0.9996 - val_precision: 0.8767 - val_recall: 0.8533 - val_auc: 0.9532\n",
      "Epoch 15/100\n",
      "90/90 [==============================] - 1s 8ms/step - loss: 0.0041 - tp: 212.0000 - fp: 27.0000 - tn: 181921.0000 - fn: 116.0000 - accuracy: 0.9992 - precision: 0.8870 - recall: 0.6463 - auc: 0.9169 - val_loss: 0.0024 - val_tp: 64.0000 - val_fp: 9.0000 - val_tn: 45485.0000 - val_fn: 11.0000 - val_accuracy: 0.9996 - val_precision: 0.8767 - val_recall: 0.8533 - val_auc: 0.9531\n",
      "Epoch 16/100\n",
      "90/90 [==============================] - 1s 8ms/step - loss: 0.0039 - tp: 204.0000 - fp: 24.0000 - tn: 181924.0000 - fn: 124.0000 - accuracy: 0.9992 - precision: 0.8947 - recall: 0.6220 - auc: 0.9336 - val_loss: 0.0025 - val_tp: 64.0000 - val_fp: 9.0000 - val_tn: 45485.0000 - val_fn: 11.0000 - val_accuracy: 0.9996 - val_precision: 0.8767 - val_recall: 0.8533 - val_auc: 0.9531\n",
      "Epoch 17/100\n",
      "90/90 [==============================] - 1s 9ms/step - loss: 0.0040 - tp: 221.0000 - fp: 27.0000 - tn: 181921.0000 - fn: 107.0000 - accuracy: 0.9993 - precision: 0.8911 - recall: 0.6738 - auc: 0.9291 - val_loss: 0.0024 - val_tp: 64.0000 - val_fp: 9.0000 - val_tn: 45485.0000 - val_fn: 11.0000 - val_accuracy: 0.9996 - val_precision: 0.8767 - val_recall: 0.8533 - val_auc: 0.9531\n",
      "Epoch 18/100\n",
      "90/90 [==============================] - 1s 10ms/step - loss: 0.0038 - tp: 225.0000 - fp: 30.0000 - tn: 181918.0000 - fn: 103.0000 - accuracy: 0.9993 - precision: 0.8824 - recall: 0.6860 - auc: 0.9322 - val_loss: 0.0022 - val_tp: 64.0000 - val_fp: 9.0000 - val_tn: 45485.0000 - val_fn: 11.0000 - val_accuracy: 0.9996 - val_precision: 0.8767 - val_recall: 0.8533 - val_auc: 0.9531\n",
      "Epoch 19/100\n",
      "90/90 [==============================] - 1s 9ms/step - loss: 0.0039 - tp: 206.0000 - fp: 24.0000 - tn: 181924.0000 - fn: 122.0000 - accuracy: 0.9992 - precision: 0.8957 - recall: 0.6280 - auc: 0.9291 - val_loss: 0.0023 - val_tp: 64.0000 - val_fp: 9.0000 - val_tn: 45485.0000 - val_fn: 11.0000 - val_accuracy: 0.9996 - val_precision: 0.8767 - val_recall: 0.8533 - val_auc: 0.9531\n",
      "Epoch 20/100\n",
      "90/90 [==============================] - 1s 9ms/step - loss: 0.0038 - tp: 219.0000 - fp: 27.0000 - tn: 181921.0000 - fn: 109.0000 - accuracy: 0.9993 - precision: 0.8902 - recall: 0.6677 - auc: 0.9306 - val_loss: 0.0022 - val_tp: 64.0000 - val_fp: 9.0000 - val_tn: 45485.0000 - val_fn: 11.0000 - val_accuracy: 0.9996 - val_precision: 0.8767 - val_recall: 0.8533 - val_auc: 0.9531\n",
      "Epoch 21/100\n",
      "90/90 [==============================] - 1s 9ms/step - loss: 0.0039 - tp: 211.0000 - fp: 29.0000 - tn: 181919.0000 - fn: 117.0000 - accuracy: 0.9992 - precision: 0.8792 - recall: 0.6433 - auc: 0.9230 - val_loss: 0.0022 - val_tp: 64.0000 - val_fp: 9.0000 - val_tn: 45485.0000 - val_fn: 11.0000 - val_accuracy: 0.9996 - val_precision: 0.8767 - val_recall: 0.8533 - val_auc: 0.9532\n"
     ]
    },
    {
     "name": "stdout",
     "output_type": "stream",
     "text": [
      "Epoch 22/100\n",
      "90/90 [==============================] - 1s 10ms/step - loss: 0.0039 - tp: 212.0000 - fp: 25.0000 - tn: 181923.0000 - fn: 116.0000 - accuracy: 0.9992 - precision: 0.8945 - recall: 0.6463 - auc: 0.9291 - val_loss: 0.0022 - val_tp: 64.0000 - val_fp: 9.0000 - val_tn: 45485.0000 - val_fn: 11.0000 - val_accuracy: 0.9996 - val_precision: 0.8767 - val_recall: 0.8533 - val_auc: 0.9531\n",
      "Epoch 23/100\n",
      "90/90 [==============================] - 1s 10ms/step - loss: 0.0037 - tp: 215.0000 - fp: 27.0000 - tn: 181921.0000 - fn: 113.0000 - accuracy: 0.9992 - precision: 0.8884 - recall: 0.6555 - auc: 0.9458 - val_loss: 0.0021 - val_tp: 64.0000 - val_fp: 9.0000 - val_tn: 45485.0000 - val_fn: 11.0000 - val_accuracy: 0.9996 - val_precision: 0.8767 - val_recall: 0.8533 - val_auc: 0.9531\n",
      "Epoch 24/100\n",
      "84/90 [===========================>..] - ETA: 0s - loss: 0.0040 - tp: 203.0000 - fp: 27.0000 - tn: 171688.0000 - fn: 114.0000 - accuracy: 0.9992 - precision: 0.8826 - recall: 0.6404 - auc: 0.9314Restoring model weights from the end of the best epoch.\n",
      "90/90 [==============================] - 1s 9ms/step - loss: 0.0038 - tp: 213.0000 - fp: 29.0000 - tn: 181919.0000 - fn: 115.0000 - accuracy: 0.9992 - precision: 0.8802 - recall: 0.6494 - auc: 0.9337 - val_loss: 0.0021 - val_tp: 64.0000 - val_fp: 8.0000 - val_tn: 45486.0000 - val_fn: 11.0000 - val_accuracy: 0.9996 - val_precision: 0.8889 - val_recall: 0.8533 - val_auc: 0.9531\n",
      "Epoch 00024: early stopping\n"
     ]
    }
   ],
   "source": [
    "model = make_model()\n",
    "model.load_weights(initial_weights)\n",
    "baseline_history = model.fit(\n",
    "    train_features,\n",
    "    train_labels,\n",
    "    batch_size=BATCH_SIZE,\n",
    "    epochs=EPOCHS,\n",
    "    callbacks = [early_stopping],\n",
    "    validation_data=(val_features, val_labels))"
   ]
  },
  {
   "cell_type": "markdown",
   "metadata": {
    "colab_type": "text",
    "id": "iSaDBYU9xtP6"
   },
   "source": [
    "### Check training history\n",
    "In this section, you will produce plots of your model's accuracy and loss on the training and validation set. These are useful to check for overfitting, which you can learn more about in this [tutorial](https://www.tensorflow.org/tutorials/keras/overfit_and_underfit).\n",
    "\n",
    "Additionally, you can produce these plots for any of the metrics you created above. False negatives are included as an example."
   ]
  },
  {
   "cell_type": "code",
   "execution_count": 39,
   "metadata": {
    "colab": {},
    "colab_type": "code",
    "id": "WTSkhT1jyGu6"
   },
   "outputs": [],
   "source": [
    "def plot_metrics(history):\n",
    "  metrics =  ['loss', 'auc', 'precision', 'recall']\n",
    "  for n, metric in enumerate(metrics):\n",
    "    name = metric.replace(\"_\",\" \").capitalize()\n",
    "    plt.subplot(2,2,n+1)\n",
    "    plt.plot(history.epoch,  history.history[metric], color=colors[0], label='Train')\n",
    "    plt.plot(history.epoch, history.history['val_'+metric],\n",
    "             color=colors[0], linestyle=\"--\", label='Val')\n",
    "    plt.xlabel('Epoch')\n",
    "    plt.ylabel(name)\n",
    "    if metric == 'loss':\n",
    "      plt.ylim([0, plt.ylim()[1]])\n",
    "    elif metric == 'auc':\n",
    "      plt.ylim([0.8,1])\n",
    "    else:\n",
    "      plt.ylim([0,1])\n",
    "\n",
    "    plt.legend()"
   ]
  },
  {
   "cell_type": "code",
   "execution_count": 38,
   "metadata": {
    "colab": {},
    "colab_type": "code",
    "id": "u6LReDsqlZlk"
   },
   "outputs": [
    {
     "data": {
      "image/png": "[encoded data removed]",
      "text/plain": [
       "<Figure size 864x720 with 4 Axes>"
      ]
     },
     "metadata": {
      "needs_background": "light"
     },
     "output_type": "display_data"
    }
   ],
   "source": [
    "plot_metrics(baseline_history)"
   ]
  },
  {
   "cell_type": "markdown",
   "metadata": {
    "colab_type": "text",
    "id": "UCa4iWo6WDKR"
   },
   "source": [
    "Note: That the validation curve generally performs better than the training curve. This is mainly caused by the fact that the dropout layer is not active when evaluating the model."
   ]
  },
  {
   "cell_type": "markdown",
   "metadata": {
    "colab_type": "text",
    "id": "aJC1booryouo"
   },
   "source": [
    "### Evaluate metrics\n",
    "\n",
    "You can use a [confusion matrix](https://developers.google.com/machine-learning/glossary/#confusion_matrix) to summarize the actual vs. predicted labels where the X axis is the predicted label and the Y axis is the actual label."
   ]
  },
  {
   "cell_type": "code",
   "execution_count": 27,
   "metadata": {
    "colab": {},
    "colab_type": "code",
    "id": "aNS796IJKrev"
   },
   "outputs": [],
   "source": [
    "train_predictions_baseline = model.predict(train_features, batch_size=BATCH_SIZE)\n",
    "test_predictions_baseline = model.predict(test_features, batch_size=BATCH_SIZE)"
   ]
  },
  {
   "cell_type": "code",
   "execution_count": 44,
   "metadata": {
    "colab": {},
    "colab_type": "code",
    "id": "MVWBGfADwbWI"
   },
   "outputs": [],
   "source": [
    "def plot_cm(labels, predictions, p=0.5):\n",
    "  cm = confusion_matrix(labels, predictions > p)\n",
    "  plt.figure(figsize=(5,5))\n",
    "  sns.heatmap(cm, annot=True, fmt=\"d\")\n",
    "  plt.title('Confusion matrix @{:.2f}'.format(p))\n",
    "  plt.ylabel('Actual label')\n",
    "  plt.xlabel('Predicted label')\n",
    "\n",
    "  print('Legitimate Transactions Detected (True Negatives): ', cm[0][0])\n",
    "  print('Legitimate Transactions Incorrectly Detected (False Positives): ', cm[0][1])\n",
    "  print('Fraudulent Transactions Missed (False Negatives): ', cm[1][0])\n",
    "  print('Fraudulent Transactions Detected (True Positives): ', cm[1][1])\n",
    "  print('Total Fraudulent Transactions: ', np.sum(cm[1]))"
   ]
  },
  {
   "cell_type": "markdown",
   "metadata": {
    "colab_type": "text",
    "id": "nOTjD5Z5Wp1U"
   },
   "source": [
    "Evaluate your model on the test dataset and display the results for the metrics you created above."
   ]
  },
  {
   "cell_type": "code",
   "execution_count": 45,
   "metadata": {
    "colab": {},
    "colab_type": "code",
    "id": "poh_hZngt2_9"
   },
   "outputs": [
    {
     "name": "stdout",
     "output_type": "stream",
     "text": [
      "loss :  0.0038935174234211445\n",
      "tp :  65.0\n",
      "fp :  20.0\n",
      "tn :  56853.0\n",
      "fn :  24.0\n",
      "accuracy :  0.9992275834083557\n",
      "precision :  0.7647058963775635\n",
      "recall :  0.7303370833396912\n",
      "auc :  0.9153721332550049\n",
      "\n"
     ]
    },
    {
     "ename": "NameError",
     "evalue": "name 'test_predictions_baseline' is not defined",
     "output_type": "error",
     "traceback": [
      "\u001b[0;31m---------------------------------------------------------------------------\u001b[0m",
      "\u001b[0;31mNameError\u001b[0m                                 Traceback (most recent call last)",
      "\u001b[0;32m<ipython-input-45-4e14f13a3a07>\u001b[0m in \u001b[0;36m<module>\u001b[0;34m\u001b[0m\n\u001b[1;32m      5\u001b[0m \u001b[0mprint\u001b[0m\u001b[0;34m(\u001b[0m\u001b[0;34m)\u001b[0m\u001b[0;34m\u001b[0m\u001b[0;34m\u001b[0m\u001b[0m\n\u001b[1;32m      6\u001b[0m \u001b[0;34m\u001b[0m\u001b[0m\n\u001b[0;32m----> 7\u001b[0;31m \u001b[0mplot_cm\u001b[0m\u001b[0;34m(\u001b[0m\u001b[0mtest_labels\u001b[0m\u001b[0;34m,\u001b[0m \u001b[0mtest_predictions_baseline\u001b[0m\u001b[0;34m)\u001b[0m\u001b[0;34m\u001b[0m\u001b[0;34m\u001b[0m\u001b[0m\n\u001b[0m",
      "\u001b[0;31mNameError\u001b[0m: name 'test_predictions_baseline' is not defined"
     ]
    }
   ],
   "source": [
    "baseline_results = model.evaluate(test_features, test_labels,\n",
    "                                  batch_size=BATCH_SIZE, verbose=0)\n",
    "for name, value in zip(model.metrics_names, baseline_results):\n",
    "  print(name, ': ', value)\n",
    "print()\n",
    "\n",
    "plot_cm(test_labels, test_predictions_baseline)"
   ]
  },
  {
   "cell_type": "markdown",
   "metadata": {
    "colab_type": "text",
    "id": "PyZtSr1v6L4t"
   },
   "source": [
    "If the model had predicted everything perfectly, this would be a [diagonal matrix](https://en.wikipedia.org/wiki/Diagonal_matrix) where values off the main diagonal, indicating incorrect predictions, would be zero. In this case the matrix shows that you have relatively few false positives, meaning that there were relatively few legitimate transactions that were incorrectly flagged. However, you would likely want to have even fewer false negatives despite the cost of increasing the number of false positives. This trade off may be preferable because false negatives would allow fraudulent transactions to go through, whereas false positives may cause an email to be sent to a customer to ask them to verify their card activity."
   ]
  },
  {
   "cell_type": "markdown",
   "metadata": {
    "colab_type": "text",
    "id": "P-QpQsip_F2Q"
   },
   "source": [
    "### Plot the ROC\n",
    "\n",
    "Now plot the [ROC](https://developers.google.com/machine-learning/glossary#ROC). This plot is useful because it shows, at a glance, the range of performance the model can reach just by tuning the output threshold."
   ]
  },
  {
   "cell_type": "code",
   "execution_count": 30,
   "metadata": {
    "colab": {},
    "colab_type": "code",
    "id": "lhaxsLSvANF9"
   },
   "outputs": [],
   "source": [
    "def plot_roc(name, labels, predictions, **kwargs):\n",
    "  fp, tp, _ = sklearn.metrics.roc_curve(labels, predictions)\n",
    "\n",
    "  plt.plot(100*fp, 100*tp, label=name, linewidth=2, **kwargs)\n",
    "  plt.xlabel('False positives [%]')\n",
    "  plt.ylabel('True positives [%]')\n",
    "  plt.xlim([-0.5,20])\n",
    "  plt.ylim([80,100.5])\n",
    "  plt.grid(True)\n",
    "  ax = plt.gca()\n",
    "  ax.set_aspect('equal')"
   ]
  },
  {
   "cell_type": "code",
   "execution_count": 31,
   "metadata": {
    "colab": {},
    "colab_type": "code",
    "id": "DfHHspttKJE0"
   },
   "outputs": [
    {
     "data": {
      "text/plain": [
       "<matplotlib.legend.Legend at 0x7f17385418d0>"
      ]
     },
     "execution_count": 31,
     "metadata": {},
     "output_type": "execute_result"
    },
    {
     "data": {
      "image/png": "[encoded data removed]",
      "text/plain": [
       "<Figure size 864x720 with 1 Axes>"
      ]
     },
     "metadata": {
      "needs_background": "light"
     },
     "output_type": "display_data"
    }
   ],
   "source": [
    "plot_roc(\"Train Baseline\", train_labels, train_predictions_baseline, color=colors[0])\n",
    "plot_roc(\"Test Baseline\", test_labels, test_predictions_baseline, color=colors[0], linestyle='--')\n",
    "plt.legend(loc='lower right')"
   ]
  },
  {
   "cell_type": "markdown",
   "metadata": {
    "colab_type": "text",
    "id": "gpdsFyp64DhY"
   },
   "source": [
    "It looks like the precision is relatively high, but the recall and the area under the ROC curve (AUC) aren't as high as you might like. Classifiers often face challenges when trying to maximize both precision and recall, which is especially true when working with imbalanced datasets. It is important to consider the costs of different types of errors in the context of the problem you care about. In this example, a false negative (a fraudulent transaction is missed) may have a financial cost, while a false positive (a transaction is incorrectly flagged as fraudulent) may decrease user happiness."
   ]
  },
  {
   "cell_type": "markdown",
   "metadata": {
    "colab_type": "text",
    "id": "cveQoiMyGQCo"
   },
   "source": [
    "## Class weights"
   ]
  },
  {
   "cell_type": "markdown",
   "metadata": {
    "colab_type": "text",
    "id": "ePGp6GUE1WfH"
   },
   "source": [
    "### Calculate class weights\n",
    "\n",
    "The goal is to identify fradulent transactions, but you don't have very many of those positive samples to work with, so you would want to have the classifier heavily weight the few examples that are available. You can do this by passing Keras weights for each class through a parameter. These will cause the model to \"pay more attention\" to examples from an under-represented class."
   ]
  },
  {
   "cell_type": "code",
   "execution_count": 32,
   "metadata": {
    "colab": {},
    "colab_type": "code",
    "id": "qjGWErngGny7"
   },
   "outputs": [
    {
     "name": "stdout",
     "output_type": "stream",
     "text": [
      "Weight for class 0: 0.50\n",
      "Weight for class 1: 289.44\n"
     ]
    }
   ],
   "source": [
    "# Scaling by total/2 helps keep the loss to a similar magnitude.\n",
    "# The sum of the weights of all examples stays the same.\n",
    "weight_for_0 = (1 / neg)*(total)/2.0 \n",
    "weight_for_1 = (1 / pos)*(total)/2.0\n",
    "\n",
    "class_weight = {0: weight_for_0, 1: weight_for_1}\n",
    "\n",
    "print('Weight for class 0: {:.2f}'.format(weight_for_0))\n",
    "print('Weight for class 1: {:.2f}'.format(weight_for_1))"
   ]
  },
  {
   "cell_type": "markdown",
   "metadata": {
    "colab_type": "text",
    "id": "Mk1OOE2ZSHzy"
   },
   "source": [
    "### Train a model with class weights\n",
    "\n",
    "Now try re-training and evaluating the model with class weights to see how that affects the predictions.\n",
    "\n",
    "Note: Using `class_weights` changes the range of the loss. This may affect the stability of the training depending on the optimizer. Optimizers whose step size is dependent on the magnitude of the gradient, like `optimizers.SGD`, may fail. The optimizer used here, `optimizers.Adam`, is unaffected by the scaling change. Also note that because of the weighting, the total losses are not comparable between the two models."
   ]
  },
  {
   "cell_type": "code",
   "execution_count": 33,
   "metadata": {
    "colab": {},
    "colab_type": "code",
    "id": "UJ589fn8ST3x"
   },
   "outputs": [
    {
     "name": "stdout",
     "output_type": "stream",
     "text": [
      "WARNING:tensorflow:sample_weight modes were coerced from\n",
      "  ...\n",
      "    to  \n",
      "  ['...']\n",
      "WARNING:tensorflow:sample_weight modes were coerced from\n",
      "  ...\n",
      "    to  \n",
      "  ['...']\n",
      "Train on 182276 samples, validate on 45569 samples\n",
      "Epoch 1/100\n",
      "182276/182276 [==============================] - 2s 13us/sample - loss: 1.7409 - tp: 62.0000 - fp: 76.0000 - tn: 181895.0000 - fn: 243.0000 - accuracy: 0.9982 - precision: 0.4493 - recall: 0.2033 - auc: 0.8208 - val_loss: 0.6636 - val_tp: 40.0000 - val_fp: 7.0000 - val_tn: 45489.0000 - val_fn: 33.0000 - val_accuracy: 0.9991 - val_precision: 0.8511 - val_recall: 0.5479 - val_auc: 0.9364\n",
      "Epoch 2/100\n",
      "182276/182276 [==============================] - 1s 3us/sample - loss: 0.7414 - tp: 171.0000 - fp: 233.0000 - tn: 181738.0000 - fn: 134.0000 - accuracy: 0.9980 - precision: 0.4233 - recall: 0.5607 - auc: 0.9201 - val_loss: 0.3944 - val_tp: 59.0000 - val_fp: 26.0000 - val_tn: 45470.0000 - val_fn: 14.0000 - val_accuracy: 0.9991 - val_precision: 0.6941 - val_recall: 0.8082 - val_auc: 0.9567\n",
      "Epoch 3/100\n",
      "182276/182276 [==============================] - 1s 3us/sample - loss: 0.4927 - tp: 224.0000 - fp: 498.0000 - tn: 181473.0000 - fn: 81.0000 - accuracy: 0.9968 - precision: 0.3102 - recall: 0.7344 - auc: 0.9459 - val_loss: 0.3328 - val_tp: 61.0000 - val_fp: 33.0000 - val_tn: 45463.0000 - val_fn: 12.0000 - val_accuracy: 0.9990 - val_precision: 0.6489 - val_recall: 0.8356 - val_auc: 0.9797\n",
      "Epoch 4/100\n",
      "182276/182276 [==============================] - 1s 3us/sample - loss: 0.4474 - tp: 230.0000 - fp: 864.0000 - tn: 181107.0000 - fn: 75.0000 - accuracy: 0.9948 - precision: 0.2102 - recall: 0.7541 - auc: 0.9414 - val_loss: 0.2948 - val_tp: 61.0000 - val_fp: 64.0000 - val_tn: 45432.0000 - val_fn: 12.0000 - val_accuracy: 0.9983 - val_precision: 0.4880 - val_recall: 0.8356 - val_auc: 0.9800\n",
      "Epoch 5/100\n",
      "182276/182276 [==============================] - 1s 3us/sample - loss: 0.3567 - tp: 245.0000 - fp: 1281.0000 - tn: 180690.0000 - fn: 60.0000 - accuracy: 0.9926 - precision: 0.1606 - recall: 0.8033 - auc: 0.9508 - val_loss: 0.2651 - val_tp: 61.0000 - val_fp: 105.0000 - val_tn: 45391.0000 - val_fn: 12.0000 - val_accuracy: 0.9974 - val_precision: 0.3675 - val_recall: 0.8356 - val_auc: 0.9800\n",
      "Epoch 6/100\n",
      "182276/182276 [==============================] - 1s 3us/sample - loss: 0.3596 - tp: 246.0000 - fp: 1966.0000 - tn: 180005.0000 - fn: 59.0000 - accuracy: 0.9889 - precision: 0.1112 - recall: 0.8066 - auc: 0.9412 - val_loss: 0.2351 - val_tp: 61.0000 - val_fp: 158.0000 - val_tn: 45338.0000 - val_fn: 12.0000 - val_accuracy: 0.9963 - val_precision: 0.2785 - val_recall: 0.8356 - val_auc: 0.9838\n",
      "Epoch 7/100\n",
      "182276/182276 [==============================] - 1s 3us/sample - loss: 0.2756 - tp: 255.0000 - fp: 2799.0000 - tn: 179172.0000 - fn: 50.0000 - accuracy: 0.9844 - precision: 0.0835 - recall: 0.8361 - auc: 0.9643 - val_loss: 0.2123 - val_tp: 61.0000 - val_fp: 280.0000 - val_tn: 45216.0000 - val_fn: 12.0000 - val_accuracy: 0.9936 - val_precision: 0.1789 - val_recall: 0.8356 - val_auc: 0.9836\n",
      "Epoch 8/100\n",
      "182276/182276 [==============================] - 1s 3us/sample - loss: 0.2975 - tp: 257.0000 - fp: 3434.0000 - tn: 178537.0000 - fn: 48.0000 - accuracy: 0.9809 - precision: 0.0696 - recall: 0.8426 - auc: 0.9533 - val_loss: 0.1963 - val_tp: 62.0000 - val_fp: 420.0000 - val_tn: 45076.0000 - val_fn: 11.0000 - val_accuracy: 0.9905 - val_precision: 0.1286 - val_recall: 0.8493 - val_auc: 0.9845\n",
      "Epoch 9/100\n",
      "182276/182276 [==============================] - 1s 3us/sample - loss: 0.2456 - tp: 267.0000 - fp: 4354.0000 - tn: 177617.0000 - fn: 38.0000 - accuracy: 0.9759 - precision: 0.0578 - recall: 0.8754 - auc: 0.9614 - val_loss: 0.1850 - val_tp: 62.0000 - val_fp: 519.0000 - val_tn: 44977.0000 - val_fn: 11.0000 - val_accuracy: 0.9884 - val_precision: 0.1067 - val_recall: 0.8493 - val_auc: 0.9850\n",
      "Epoch 10/100\n",
      "182276/182276 [==============================] - 1s 3us/sample - loss: 0.2668 - tp: 266.0000 - fp: 4749.0000 - tn: 177222.0000 - fn: 39.0000 - accuracy: 0.9737 - precision: 0.0530 - recall: 0.8721 - auc: 0.9509 - val_loss: 0.1773 - val_tp: 62.0000 - val_fp: 592.0000 - val_tn: 44904.0000 - val_fn: 11.0000 - val_accuracy: 0.9868 - val_precision: 0.0948 - val_recall: 0.8493 - val_auc: 0.9856\n",
      "Epoch 11/100\n",
      "182276/182276 [==============================] - 1s 3us/sample - loss: 0.2523 - tp: 265.0000 - fp: 5201.0000 - tn: 176770.0000 - fn: 40.0000 - accuracy: 0.9712 - precision: 0.0485 - recall: 0.8689 - auc: 0.9597 - val_loss: 0.1699 - val_tp: 62.0000 - val_fp: 651.0000 - val_tn: 44845.0000 - val_fn: 11.0000 - val_accuracy: 0.9855 - val_precision: 0.0870 - val_recall: 0.8493 - val_auc: 0.9862\n",
      "Epoch 12/100\n",
      "182276/182276 [==============================] - 1s 3us/sample - loss: 0.2086 - tp: 273.0000 - fp: 5608.0000 - tn: 176363.0000 - fn: 32.0000 - accuracy: 0.9691 - precision: 0.0464 - recall: 0.8951 - auc: 0.9706 - val_loss: 0.1660 - val_tp: 62.0000 - val_fp: 671.0000 - val_tn: 44825.0000 - val_fn: 11.0000 - val_accuracy: 0.9850 - val_precision: 0.0846 - val_recall: 0.8493 - val_auc: 0.9863\n",
      "Epoch 13/100\n",
      "182276/182276 [==============================] - 1s 3us/sample - loss: 0.2537 - tp: 267.0000 - fp: 5826.0000 - tn: 176145.0000 - fn: 38.0000 - accuracy: 0.9678 - precision: 0.0438 - recall: 0.8754 - auc: 0.9583 - val_loss: 0.1581 - val_tp: 64.0000 - val_fp: 733.0000 - val_tn: 44763.0000 - val_fn: 9.0000 - val_accuracy: 0.9837 - val_precision: 0.0803 - val_recall: 0.8767 - val_auc: 0.9873\n",
      "Epoch 14/100\n",
      "182276/182276 [==============================] - 1s 3us/sample - loss: 0.2201 - tp: 263.0000 - fp: 6227.0000 - tn: 175744.0000 - fn: 42.0000 - accuracy: 0.9656 - precision: 0.0405 - recall: 0.8623 - auc: 0.9723 - val_loss: 0.1506 - val_tp: 66.0000 - val_fp: 843.0000 - val_tn: 44653.0000 - val_fn: 7.0000 - val_accuracy: 0.9813 - val_precision: 0.0726 - val_recall: 0.9041 - val_auc: 0.9875\n",
      "Epoch 15/100\n",
      "182276/182276 [==============================] - 1s 3us/sample - loss: 0.2653 - tp: 260.0000 - fp: 7057.0000 - tn: 174914.0000 - fn: 45.0000 - accuracy: 0.9610 - precision: 0.0355 - recall: 0.8525 - auc: 0.9584 - val_loss: 0.1442 - val_tp: 66.0000 - val_fp: 932.0000 - val_tn: 44564.0000 - val_fn: 7.0000 - val_accuracy: 0.9794 - val_precision: 0.0661 - val_recall: 0.9041 - val_auc: 0.9884\n",
      "Epoch 16/100\n",
      "182276/182276 [==============================] - 1s 3us/sample - loss: 0.2306 - tp: 271.0000 - fp: 7269.0000 - tn: 174702.0000 - fn: 34.0000 - accuracy: 0.9599 - precision: 0.0359 - recall: 0.8885 - auc: 0.9653 - val_loss: 0.1436 - val_tp: 66.0000 - val_fp: 915.0000 - val_tn: 44581.0000 - val_fn: 7.0000 - val_accuracy: 0.9798 - val_precision: 0.0673 - val_recall: 0.9041 - val_auc: 0.9887\n",
      "Epoch 17/100\n",
      "182276/182276 [==============================] - 1s 3us/sample - loss: 0.2008 - tp: 274.0000 - fp: 7158.0000 - tn: 174813.0000 - fn: 31.0000 - accuracy: 0.9606 - precision: 0.0369 - recall: 0.8984 - auc: 0.9746 - val_loss: 0.1424 - val_tp: 66.0000 - val_fp: 899.0000 - val_tn: 44597.0000 - val_fn: 7.0000 - val_accuracy: 0.9801 - val_precision: 0.0684 - val_recall: 0.9041 - val_auc: 0.9891\n",
      "Epoch 18/100\n",
      "182276/182276 [==============================] - 1s 3us/sample - loss: 0.1910 - tp: 274.0000 - fp: 6772.0000 - tn: 175199.0000 - fn: 31.0000 - accuracy: 0.9627 - precision: 0.0389 - recall: 0.8984 - auc: 0.9760 - val_loss: 0.1425 - val_tp: 66.0000 - val_fp: 836.0000 - val_tn: 44660.0000 - val_fn: 7.0000 - val_accuracy: 0.9815 - val_precision: 0.0732 - val_recall: 0.9041 - val_auc: 0.9892\n",
      "Epoch 19/100\n",
      "182276/182276 [==============================] - 1s 3us/sample - loss: 0.2406 - tp: 266.0000 - fp: 6759.0000 - tn: 175212.0000 - fn: 39.0000 - accuracy: 0.9627 - precision: 0.0379 - recall: 0.8721 - auc: 0.9634 - val_loss: 0.1405 - val_tp: 66.0000 - val_fp: 908.0000 - val_tn: 44588.0000 - val_fn: 7.0000 - val_accuracy: 0.9799 - val_precision: 0.0678 - val_recall: 0.9041 - val_auc: 0.9891\n",
      "Epoch 20/100\n",
      "182276/182276 [==============================] - 1s 3us/sample - loss: 0.2425 - tp: 268.0000 - fp: 6783.0000 - tn: 175188.0000 - fn: 37.0000 - accuracy: 0.9626 - precision: 0.0380 - recall: 0.8787 - auc: 0.9629 - val_loss: 0.1393 - val_tp: 66.0000 - val_fp: 893.0000 - val_tn: 44603.0000 - val_fn: 7.0000 - val_accuracy: 0.9802 - val_precision: 0.0688 - val_recall: 0.9041 - val_auc: 0.9895\n"
     ]
    },
    {
     "name": "stdout",
     "output_type": "stream",
     "text": [
      "Epoch 21/100\n",
      "182276/182276 [==============================] - 1s 3us/sample - loss: 0.1956 - tp: 277.0000 - fp: 6497.0000 - tn: 175474.0000 - fn: 28.0000 - accuracy: 0.9642 - precision: 0.0409 - recall: 0.9082 - auc: 0.9748 - val_loss: 0.1384 - val_tp: 66.0000 - val_fp: 865.0000 - val_tn: 44631.0000 - val_fn: 7.0000 - val_accuracy: 0.9809 - val_precision: 0.0709 - val_recall: 0.9041 - val_auc: 0.9898\n",
      "Epoch 22/100\n",
      "182276/182276 [==============================] - 1s 3us/sample - loss: 0.2113 - tp: 273.0000 - fp: 6761.0000 - tn: 175210.0000 - fn: 32.0000 - accuracy: 0.9627 - precision: 0.0388 - recall: 0.8951 - auc: 0.9703 - val_loss: 0.1354 - val_tp: 66.0000 - val_fp: 882.0000 - val_tn: 44614.0000 - val_fn: 7.0000 - val_accuracy: 0.9805 - val_precision: 0.0696 - val_recall: 0.9041 - val_auc: 0.9902\n",
      "Epoch 23/100\n",
      "182276/182276 [==============================] - 1s 3us/sample - loss: 0.2192 - tp: 272.0000 - fp: 6567.0000 - tn: 175404.0000 - fn: 33.0000 - accuracy: 0.9638 - precision: 0.0398 - recall: 0.8918 - auc: 0.9672 - val_loss: 0.1348 - val_tp: 66.0000 - val_fp: 834.0000 - val_tn: 44662.0000 - val_fn: 7.0000 - val_accuracy: 0.9815 - val_precision: 0.0733 - val_recall: 0.9041 - val_auc: 0.9900\n",
      "Epoch 24/100\n",
      "182276/182276 [==============================] - 1s 3us/sample - loss: 0.2194 - tp: 272.0000 - fp: 6236.0000 - tn: 175735.0000 - fn: 33.0000 - accuracy: 0.9656 - precision: 0.0418 - recall: 0.8918 - auc: 0.9676 - val_loss: 0.1348 - val_tp: 66.0000 - val_fp: 839.0000 - val_tn: 44657.0000 - val_fn: 7.0000 - val_accuracy: 0.9814 - val_precision: 0.0729 - val_recall: 0.9041 - val_auc: 0.9905\n",
      "Epoch 25/100\n",
      "182276/182276 [==============================] - 1s 3us/sample - loss: 0.2101 - tp: 272.0000 - fp: 6200.0000 - tn: 175771.0000 - fn: 33.0000 - accuracy: 0.9658 - precision: 0.0420 - recall: 0.8918 - auc: 0.9702 - val_loss: 0.1315 - val_tp: 66.0000 - val_fp: 845.0000 - val_tn: 44651.0000 - val_fn: 7.0000 - val_accuracy: 0.9813 - val_precision: 0.0724 - val_recall: 0.9041 - val_auc: 0.9908\n",
      "Epoch 26/100\n",
      "182276/182276 [==============================] - 1s 3us/sample - loss: 0.1965 - tp: 270.0000 - fp: 6627.0000 - tn: 175344.0000 - fn: 35.0000 - accuracy: 0.9635 - precision: 0.0391 - recall: 0.8852 - auc: 0.9772 - val_loss: 0.1285 - val_tp: 66.0000 - val_fp: 878.0000 - val_tn: 44618.0000 - val_fn: 7.0000 - val_accuracy: 0.9806 - val_precision: 0.0699 - val_recall: 0.9041 - val_auc: 0.9909\n",
      "Epoch 27/100\n",
      "182276/182276 [==============================] - 1s 3us/sample - loss: 0.1976 - tp: 274.0000 - fp: 6499.0000 - tn: 175472.0000 - fn: 31.0000 - accuracy: 0.9642 - precision: 0.0405 - recall: 0.8984 - auc: 0.9740 - val_loss: 0.1281 - val_tp: 67.0000 - val_fp: 900.0000 - val_tn: 44596.0000 - val_fn: 6.0000 - val_accuracy: 0.9801 - val_precision: 0.0693 - val_recall: 0.9178 - val_auc: 0.9908\n",
      "Epoch 28/100\n",
      "182276/182276 [==============================] - 1s 3us/sample - loss: 0.2300 - tp: 268.0000 - fp: 6566.0000 - tn: 175405.0000 - fn: 37.0000 - accuracy: 0.9638 - precision: 0.0392 - recall: 0.8787 - auc: 0.9662 - val_loss: 0.1264 - val_tp: 67.0000 - val_fp: 967.0000 - val_tn: 44529.0000 - val_fn: 6.0000 - val_accuracy: 0.9786 - val_precision: 0.0648 - val_recall: 0.9178 - val_auc: 0.9907\n",
      "Epoch 29/100\n",
      "182276/182276 [==============================] - 1s 3us/sample - loss: 0.2061 - tp: 271.0000 - fp: 7048.0000 - tn: 174923.0000 - fn: 34.0000 - accuracy: 0.9611 - precision: 0.0370 - recall: 0.8885 - auc: 0.9714 - val_loss: 0.1256 - val_tp: 67.0000 - val_fp: 924.0000 - val_tn: 44572.0000 - val_fn: 6.0000 - val_accuracy: 0.9796 - val_precision: 0.0676 - val_recall: 0.9178 - val_auc: 0.9908\n",
      "Epoch 30/100\n",
      "182276/182276 [==============================] - 1s 3us/sample - loss: 0.1821 - tp: 275.0000 - fp: 6588.0000 - tn: 175383.0000 - fn: 30.0000 - accuracy: 0.9637 - precision: 0.0401 - recall: 0.9016 - auc: 0.9802 - val_loss: 0.1248 - val_tp: 67.0000 - val_fp: 916.0000 - val_tn: 44580.0000 - val_fn: 6.0000 - val_accuracy: 0.9798 - val_precision: 0.0682 - val_recall: 0.9178 - val_auc: 0.9910\n",
      "Epoch 31/100\n",
      "182276/182276 [==============================] - 1s 3us/sample - loss: 0.1738 - tp: 277.0000 - fp: 6641.0000 - tn: 175330.0000 - fn: 28.0000 - accuracy: 0.9634 - precision: 0.0400 - recall: 0.9082 - auc: 0.9795 - val_loss: 0.1238 - val_tp: 67.0000 - val_fp: 850.0000 - val_tn: 44646.0000 - val_fn: 6.0000 - val_accuracy: 0.9812 - val_precision: 0.0731 - val_recall: 0.9178 - val_auc: 0.9914\n",
      "Epoch 32/100\n",
      "182276/182276 [==============================] - 1s 3us/sample - loss: 0.2013 - tp: 275.0000 - fp: 6187.0000 - tn: 175784.0000 - fn: 30.0000 - accuracy: 0.9659 - precision: 0.0426 - recall: 0.9016 - auc: 0.9691 - val_loss: 0.1249 - val_tp: 66.0000 - val_fp: 804.0000 - val_tn: 44692.0000 - val_fn: 7.0000 - val_accuracy: 0.9822 - val_precision: 0.0759 - val_recall: 0.9041 - val_auc: 0.9909\n",
      "Epoch 33/100\n",
      "182276/182276 [==============================] - 1s 3us/sample - loss: 0.1778 - tp: 276.0000 - fp: 6150.0000 - tn: 175821.0000 - fn: 29.0000 - accuracy: 0.9661 - precision: 0.0430 - recall: 0.9049 - auc: 0.9790 - val_loss: 0.1242 - val_tp: 67.0000 - val_fp: 818.0000 - val_tn: 44678.0000 - val_fn: 6.0000 - val_accuracy: 0.9819 - val_precision: 0.0757 - val_recall: 0.9178 - val_auc: 0.9909\n",
      "Epoch 34/100\n",
      "182276/182276 [==============================] - 1s 3us/sample - loss: 0.1740 - tp: 276.0000 - fp: 6042.0000 - tn: 175929.0000 - fn: 29.0000 - accuracy: 0.9667 - precision: 0.0437 - recall: 0.9049 - auc: 0.9791 - val_loss: 0.1250 - val_tp: 66.0000 - val_fp: 766.0000 - val_tn: 44730.0000 - val_fn: 7.0000 - val_accuracy: 0.9830 - val_precision: 0.0793 - val_recall: 0.9041 - val_auc: 0.9910\n",
      "Epoch 35/100\n",
      "182276/182276 [==============================] - 1s 3us/sample - loss: 0.1834 - tp: 276.0000 - fp: 5653.0000 - tn: 176318.0000 - fn: 29.0000 - accuracy: 0.9688 - precision: 0.0466 - recall: 0.9049 - auc: 0.9791 - val_loss: 0.1243 - val_tp: 66.0000 - val_fp: 783.0000 - val_tn: 44713.0000 - val_fn: 7.0000 - val_accuracy: 0.9827 - val_precision: 0.0777 - val_recall: 0.9041 - val_auc: 0.9911\n",
      "Epoch 36/100\n",
      "182276/182276 [==============================] - 1s 3us/sample - loss: 0.1725 - tp: 277.0000 - fp: 5903.0000 - tn: 176068.0000 - fn: 28.0000 - accuracy: 0.9675 - precision: 0.0448 - recall: 0.9082 - auc: 0.9793 - val_loss: 0.1230 - val_tp: 66.0000 - val_fp: 809.0000 - val_tn: 44687.0000 - val_fn: 7.0000 - val_accuracy: 0.9821 - val_precision: 0.0754 - val_recall: 0.9041 - val_auc: 0.9911\n",
      "Epoch 37/100\n",
      "182276/182276 [==============================] - 1s 3us/sample - loss: 0.1838 - tp: 279.0000 - fp: 5775.0000 - tn: 176196.0000 - fn: 26.0000 - accuracy: 0.9682 - precision: 0.0461 - recall: 0.9148 - auc: 0.9749 - val_loss: 0.1251 - val_tp: 66.0000 - val_fp: 771.0000 - val_tn: 44725.0000 - val_fn: 7.0000 - val_accuracy: 0.9829 - val_precision: 0.0789 - val_recall: 0.9041 - val_auc: 0.9911\n",
      "Epoch 38/100\n",
      "182276/182276 [==============================] - 1s 3us/sample - loss: 0.1704 - tp: 271.0000 - fp: 5722.0000 - tn: 176249.0000 - fn: 34.0000 - accuracy: 0.9684 - precision: 0.0452 - recall: 0.8885 - auc: 0.9815 - val_loss: 0.1238 - val_tp: 67.0000 - val_fp: 839.0000 - val_tn: 44657.0000 - val_fn: 6.0000 - val_accuracy: 0.9815 - val_precision: 0.0740 - val_recall: 0.9178 - val_auc: 0.9908\n",
      "Epoch 39/100\n",
      "182276/182276 [==============================] - 1s 3us/sample - loss: 0.1779 - tp: 274.0000 - fp: 5987.0000 - tn: 175984.0000 - fn: 31.0000 - accuracy: 0.9670 - precision: 0.0438 - recall: 0.8984 - auc: 0.9770 - val_loss: 0.1225 - val_tp: 67.0000 - val_fp: 874.0000 - val_tn: 44622.0000 - val_fn: 6.0000 - val_accuracy: 0.9807 - val_precision: 0.0712 - val_recall: 0.9178 - val_auc: 0.9907\n",
      "Epoch 40/100\n",
      "182276/182276 [==============================] - 1s 3us/sample - loss: 0.1449 - tp: 282.0000 - fp: 5934.0000 - tn: 176037.0000 - fn: 23.0000 - accuracy: 0.9673 - precision: 0.0454 - recall: 0.9246 - auc: 0.9862 - val_loss: 0.1240 - val_tp: 66.0000 - val_fp: 814.0000 - val_tn: 44682.0000 - val_fn: 7.0000 - val_accuracy: 0.9820 - val_precision: 0.0750 - val_recall: 0.9041 - val_auc: 0.9908\n",
      "Epoch 41/100\n",
      "161792/182276 [=========================>....] - ETA: 0s - loss: 0.1909 - tp: 249.0000 - fp: 5350.0000 - tn: 156163.0000 - fn: 30.0000 - accuracy: 0.9667 - precision: 0.0445 - recall: 0.8925 - auc: 0.9779Restoring model weights from the end of the best epoch.\n",
      "182276/182276 [==============================] - 1s 3us/sample - loss: 0.1876 - tp: 274.0000 - fp: 6048.0000 - tn: 175923.0000 - fn: 31.0000 - accuracy: 0.9666 - precision: 0.0433 - recall: 0.8984 - auc: 0.9764 - val_loss: 0.1217 - val_tp: 67.0000 - val_fp: 859.0000 - val_tn: 44637.0000 - val_fn: 6.0000 - val_accuracy: 0.9810 - val_precision: 0.0724 - val_recall: 0.9178 - val_auc: 0.9914\n",
      "Epoch 00041: early stopping\n"
     ]
    }
   ],
   "source": [
    "weighted_model = make_model()\n",
    "weighted_model.load_weights(initial_weights)\n",
    "\n",
    "weighted_history = weighted_model.fit(\n",
    "    train_features,\n",
    "    train_labels,\n",
    "    batch_size=BATCH_SIZE,\n",
    "    epochs=EPOCHS,\n",
    "    callbacks = [early_stopping],\n",
    "    validation_data=(val_features, val_labels),\n",
    "    # The class weights go here\n",
    "    class_weight=class_weight) "
   ]
  },
  {
   "cell_type": "markdown",
   "metadata": {
    "colab_type": "text",
    "id": "R0ynYRO0G3Lx"
   },
   "source": [
    "### Check training history"
   ]
  },
  {
   "cell_type": "code",
   "execution_count": 34,
   "metadata": {
    "colab": {},
    "colab_type": "code",
    "id": "BBe9FMO5ucTC"
   },
   "outputs": [
    {
     "data": {
      "image/png": "[encoded data removed]",
      "text/plain": [
       "<Figure size 864x720 with 4 Axes>"
      ]
     },
     "metadata": {
      "needs_background": "light"
     },
     "output_type": "display_data"
    }
   ],
   "source": [
    "plot_metrics(weighted_history)"
   ]
  },
  {
   "cell_type": "markdown",
   "metadata": {
    "colab_type": "text",
    "id": "REy6WClTZIwQ"
   },
   "source": [
    "### Evaluate metrics"
   ]
  },
  {
   "cell_type": "code",
   "execution_count": 35,
   "metadata": {
    "colab": {},
    "colab_type": "code",
    "id": "nifqscPGw-5w"
   },
   "outputs": [],
   "source": [
    "train_predictions_weighted = weighted_model.predict(train_features, batch_size=BATCH_SIZE)\n",
    "test_predictions_weighted = weighted_model.predict(test_features, batch_size=BATCH_SIZE)"
   ]
  },
  {
   "cell_type": "code",
   "execution_count": 36,
   "metadata": {
    "colab": {},
    "colab_type": "code",
    "id": "owKL2vdMBJr6"
   },
   "outputs": [
    {
     "name": "stdout",
     "output_type": "stream",
     "text": [
      "loss :  0.07716926628907056\n",
      "tp :  103.0\n",
      "fp :  1040.0\n",
      "tn :  55808.0\n",
      "fn :  11.0\n",
      "accuracy :  0.9815491\n",
      "precision :  0.09011374\n",
      "recall :  0.9035088\n",
      "auc :  0.9790242\n",
      "\n",
      "Legitimate Transactions Detected (True Negatives):  55808\n",
      "Legitimate Transactions Incorrectly Detected (False Positives):  1040\n",
      "Fraudulent Transactions Missed (False Negatives):  11\n",
      "Fraudulent Transactions Detected (True Positives):  103\n",
      "Total Fraudulent Transactions:  114\n"
     ]
    },
    {
     "data": {
      "image/png": "[encoded data removed]",
      "text/plain": [
       "<Figure size 360x360 with 2 Axes>"
      ]
     },
     "metadata": {
      "needs_background": "light"
     },
     "output_type": "display_data"
    }
   ],
   "source": [
    "weighted_results = weighted_model.evaluate(test_features, test_labels,\n",
    "                                           batch_size=BATCH_SIZE, verbose=0)\n",
    "for name, value in zip(weighted_model.metrics_names, weighted_results):\n",
    "  print(name, ': ', value)\n",
    "print()\n",
    "\n",
    "plot_cm(test_labels, test_predictions_weighted)"
   ]
  },
  {
   "cell_type": "markdown",
   "metadata": {
    "colab_type": "text",
    "id": "PTh1rtDn8r4-"
   },
   "source": [
    "Here you can see that with class weights the accuracy and precision are lower because there are more false positives, but conversely the recall and AUC are higher because the model also found more true positives. Despite having lower accuracy, this model has higher recall (and identifies more fraudulent transactions). Of course, there is a cost to both types of error (you wouldn't want to bug users by flagging too many legitimate transactions as fraudulent, either). Carefully consider the trade offs between these different types of errors for your application."
   ]
  },
  {
   "cell_type": "markdown",
   "metadata": {
    "colab_type": "text",
    "id": "hXDAwyr0HYdX"
   },
   "source": [
    "### Plot the ROC"
   ]
  },
  {
   "cell_type": "code",
   "execution_count": 37,
   "metadata": {
    "colab": {},
    "colab_type": "code",
    "id": "3hzScIVZS1Xm"
   },
   "outputs": [
    {
     "data": {
      "text/plain": [
       "<matplotlib.legend.Legend at 0x7f17042f8fd0>"
      ]
     },
     "execution_count": 37,
     "metadata": {},
     "output_type": "execute_result"
    },
    {
     "data": {
      "image/png": "[encoded data removed]",
      "text/plain": [
       "<Figure size 864x720 with 1 Axes>"
      ]
     },
     "metadata": {
      "needs_background": "light"
     },
     "output_type": "display_data"
    }
   ],
   "source": [
    "plot_roc(\"Train Baseline\", train_labels, train_predictions_baseline, color=colors[0])\n",
    "plot_roc(\"Test Baseline\", test_labels, test_predictions_baseline, color=colors[0], linestyle='--')\n",
    "\n",
    "plot_roc(\"Train Weighted\", train_labels, train_predictions_weighted, color=colors[1])\n",
    "plot_roc(\"Test Weighted\", test_labels, test_predictions_weighted, color=colors[1], linestyle='--')\n",
    "\n",
    "\n",
    "plt.legend(loc='lower right')"
   ]
  },
  {
   "cell_type": "markdown",
   "metadata": {
    "colab_type": "text",
    "id": "5ysRtr6xHnXP"
   },
   "source": [
    "## Oversampling (le Suréchantillonnage)"
   ]
  },
  {
   "cell_type": "markdown",
   "metadata": {
    "colab_type": "text",
    "id": "18VUHNc-UF5w"
   },
   "source": [
    "### Oversample the minority class\n",
    "\n",
    "A related approach would be to resample the dataset by oversampling the minority class."
   ]
  },
  {
   "cell_type": "code",
   "execution_count": 59,
   "metadata": {
    "colab": {},
    "colab_type": "code",
    "id": "sHirNp6u7OWp"
   },
   "outputs": [
    {
     "name": "stdout",
     "output_type": "stream",
     "text": [
      "The number of positive samples is : 328\n",
      "The number of negative samples is : 181948\n",
      "\n",
      "The number of positive samples is less or equal than the number of negative samples\n"
     ]
    }
   ],
   "source": [
    "pos_features = train_features[bool_train_labels]\n",
    "neg_features = train_features[~bool_train_labels]\n",
    "\n",
    "pos_labels = train_labels[bool_train_labels]\n",
    "neg_labels = train_labels[~bool_train_labels]\n",
    "\n",
    "print(f\"The number of positive samples is : {len(pos_labels)}\")\n",
    "print(f\"The number of negative samples is : {len(neg_labels)}\")\n",
    "print(\"\")\n",
    "print(\"The number of positive samples is less or equal than the number of negative samples\")"
   ]
  },
  {
   "cell_type": "markdown",
   "metadata": {
    "colab_type": "text",
    "id": "WgBVbX7P7QrL"
   },
   "source": [
    "#### Using NumPy\n",
    "\n",
    "You can balance the dataset manually by choosing the right number of random \n",
    "indices from the positive examples:"
   ]
  },
  {
   "cell_type": "code",
   "execution_count": 64,
   "metadata": {
    "colab": {},
    "colab_type": "code",
    "id": "BUzGjSkwqT88",
    "scrolled": true
   },
   "outputs": [
    {
     "name": "stdout",
     "output_type": "stream",
     "text": [
      "(328, 29)\n",
      "(181948, 29)\n",
      "[ 89 230  36 ...  14  23 110] 181948\n",
      "the number of features is : 328\n",
      "\n"
     ]
    },
    {
     "data": {
      "text/plain": [
       "(181948, 29)"
      ]
     },
     "execution_count": 64,
     "metadata": {},
     "output_type": "execute_result"
    }
   ],
   "source": [
    "print(pos_features.shape)\n",
    "print(neg_features.shape)\n",
    "ids = np.arange(len(pos_features))\n",
    "choices = np.random.choice(ids, len(neg_features))\n",
    "print(choices , len(choices))\n",
    "res_pos_features = pos_features[choices]\n",
    "res_pos_labels = pos_labels[choices]\n",
    "print(f\"the number of features is : {len(pos_features)}\")\n",
    "print()\n",
    "res_pos_features.shape"
   ]
  },
  {
   "cell_type": "code",
   "execution_count": 70,
   "metadata": {
    "colab": {},
    "colab_type": "code",
    "id": "7ie_FFet6cep"
   },
   "outputs": [
    {
     "name": "stdout",
     "output_type": "stream",
     "text": [
      "363896\n",
      "True\n",
      "[232932 166805 129233 ... 122389  31521 220483] 363896\n"
     ]
    },
    {
     "data": {
      "text/plain": [
       "(363896, 29)"
      ]
     },
     "execution_count": 70,
     "metadata": {},
     "output_type": "execute_result"
    }
   ],
   "source": [
    "resampled_features = np.concatenate([res_pos_features, neg_features], axis=0)\n",
    "resampled_labels = np.concatenate([res_pos_labels, neg_labels], axis=0)\n",
    "print(len(resampled_features))\n",
    "print(len(resampled_features)==181948*2)\n",
    "\n",
    "order = np.arange(len(resampled_labels))\n",
    "np.random.shuffle(order)\n",
    "print(order, len(order))\n",
    "resampled_features = resampled_features[order]\n",
    "resampled_labels = resampled_labels[order]\n",
    "\n",
    "resampled_features.shape"
   ]
  },
  {
   "cell_type": "markdown",
   "metadata": {
    "colab_type": "text",
    "id": "IYfJe2Kc-FAz"
   },
   "source": [
    "#### Using `tf.data`"
   ]
  },
  {
   "cell_type": "markdown",
   "metadata": {
    "colab_type": "text",
    "id": "usyixaST8v5P"
   },
   "source": [
    "If you're using `tf.data` the easiest way to produce balanced examples is to start with a `positive` and a `negative` dataset, and merge them. See [the tf.data guide](../../guide/data.ipynb) for more examples."
   ]
  },
  {
   "cell_type": "code",
   "execution_count": 72,
   "metadata": {
    "scrolled": true
   },
   "outputs": [
    {
     "name": "stdout",
     "output_type": "stream",
     "text": [
      "The number of positive samples is less or equal than the number of negative samples\n"
     ]
    }
   ],
   "source": [
    "print(\"The number of positive samples is less or equal than the number of negative samples\")"
   ]
  },
  {
   "cell_type": "code",
   "execution_count": 74,
   "metadata": {},
   "outputs": [
    {
     "ename": "NameError",
     "evalue": "name 'features' is not defined",
     "output_type": "error",
     "traceback": [
      "\u001b[0;31m---------------------------------------------------------------------------\u001b[0m",
      "\u001b[0;31mNameError\u001b[0m                                 Traceback (most recent call last)",
      "\u001b[0;32m<ipython-input-74-0a8e4f540a09>\u001b[0m in \u001b[0;36m<module>\u001b[0;34m\u001b[0m\n\u001b[0;32m----> 1\u001b[0;31m \u001b[0mprint\u001b[0m\u001b[0;34m(\u001b[0m\u001b[0mfeatures\u001b[0m\u001b[0;34m)\u001b[0m\u001b[0;34m\u001b[0m\u001b[0;34m\u001b[0m\u001b[0m\n\u001b[0m",
      "\u001b[0;31mNameError\u001b[0m: name 'features' is not defined"
     ]
    }
   ],
   "source": [
    "print(features)"
   ]
  },
  {
   "cell_type": "code",
   "execution_count": 93,
   "metadata": {
    "colab": {},
    "colab_type": "code",
    "id": "yF4OZ-rI6xb6"
   },
   "outputs": [],
   "source": [
    "BUFFER_SIZE = 100000\n",
    "\n",
    "def make_ds(features, labels):\n",
    "  ds = tf.data.Dataset.from_tensor_slices((features, labels))#.cache()\n",
    "  ds = ds.shuffle(BUFFER_SIZE).repeat()\n",
    "  return ds\n",
    "\n",
    "pos_ds = make_ds(pos_features, pos_labels)\n",
    "neg_ds = make_ds(neg_features, neg_labels)"
   ]
  },
  {
   "cell_type": "code",
   "execution_count": 92,
   "metadata": {},
   "outputs": [
    {
     "data": {
      "text/plain": [
       "<TakeDataset shapes: ((29,), ()), types: (tf.float64, tf.int64)>"
      ]
     },
     "execution_count": 92,
     "metadata": {},
     "output_type": "execute_result"
    }
   ],
   "source": [
    "pos_ds.take(0)"
   ]
  },
  {
   "cell_type": "markdown",
   "metadata": {
    "colab_type": "text",
    "id": "RNQUx-OA-oJc"
   },
   "source": [
    "Each dataset provides `(feature, label)` pairs:"
   ]
  },
  {
   "cell_type": "code",
   "execution_count": 96,
   "metadata": {
    "colab": {},
    "colab_type": "code",
    "id": "llXc9rNH7Fbz"
   },
   "outputs": [
    {
     "name": "stdout",
     "output_type": "stream",
     "text": [
      "Features:\n",
      " [ 0.43710632  2.46371712 -4.91697147  5.          0.71629931 -2.06375222\n",
      " -1.23726089  0.45389434 -2.14211952 -3.62208425  5.         -5.\n",
      "  0.7561791  -5.         -0.70971908 -1.22481894  1.80324194  2.18360889\n",
      " -0.10944514  0.62252978  0.51357874  0.20024924  0.38164267 -0.39037678\n",
      " -1.92714951  0.90413873  1.54608731  0.43886803 -1.45523726] 29\n",
      "\n",
      "Label:  1\n"
     ]
    }
   ],
   "source": [
    "for features, label in pos_ds.take(1):\n",
    "  print(\"Features:\\n\", features.numpy(), len(features))\n",
    "  print()\n",
    "  print(\"Label: \", label.numpy()) "
   ]
  },
  {
   "cell_type": "code",
   "execution_count": 101,
   "metadata": {},
   "outputs": [
    {
     "name": "stdout",
     "output_type": "stream",
     "text": [
      "Features:\n",
      " [ 0.65131022 -0.85048602  0.23559206 -0.99539883 -1.04079919 -0.09798227\n",
      " -0.84729462 -0.0241445  -1.55314061  1.2164968  -0.65537195 -0.98043582\n",
      "  0.5041362  -0.34573509  1.16806271 -0.35893883  0.62968324 -0.39767562\n",
      " -0.54585803 -0.15513562 -0.41707326 -1.04322433  0.07633653 -0.7997859\n",
      "  0.15187397 -0.74799071  0.09419775  0.11780987  0.93284418] 29\n",
      "\n",
      "Label:  0\n"
     ]
    }
   ],
   "source": [
    "for features, label in neg_ds.take(1):\n",
    "  print(\"Features:\\n\", features.numpy(), len(features))\n",
    "  print()\n",
    "  print(\"Label: \", label.numpy()) "
   ]
  },
  {
   "cell_type": "markdown",
   "metadata": {
    "colab_type": "text",
    "id": "sLEfjZO0-vbN"
   },
   "source": [
    "Merge the two together using `experimental.sample_from_datasets`:"
   ]
  },
  {
   "cell_type": "code",
   "execution_count": 78,
   "metadata": {
    "colab": {},
    "colab_type": "code",
    "id": "e7w9UQPT9wzE"
   },
   "outputs": [],
   "source": [
    "resampled_ds = tf.data.experimental.sample_from_datasets([pos_ds, neg_ds], weights=[0.5, 0.5])\n",
    "resampled_ds = resampled_ds.batch(BATCH_SIZE).prefetch(2)"
   ]
  },
  {
   "cell_type": "code",
   "execution_count": 83,
   "metadata": {},
   "outputs": [
    {
     "data": {
      "text/plain": [
       "<PrefetchDataset shapes: ((None, 29), (None,)), types: (tf.float64, tf.int64)>"
      ]
     },
     "execution_count": 83,
     "metadata": {},
     "output_type": "execute_result"
    }
   ],
   "source": [
    "resampled_ds"
   ]
  },
  {
   "cell_type": "code",
   "execution_count": 99,
   "metadata": {
    "colab": {},
    "colab_type": "code",
    "id": "EWXARdTdAuQK"
   },
   "outputs": [
    {
     "name": "stdout",
     "output_type": "stream",
     "text": [
      "0.4755859375 2048 2048\n",
      "tf.Tensor(\n",
      "[[-0.52992243  0.38285885  0.46491968 ... -0.34151433 -0.0539513\n",
      "   0.41744281]\n",
      " [ 0.65177905  0.27998748 -0.33227446 ... -0.11365879  0.09400976\n",
      "  -1.59078035]\n",
      " [ 0.70489307 -0.24883206 -0.05584429 ... -0.19814611 -0.03379516\n",
      "  -0.08723446]\n",
      " ...\n",
      " [ 0.61513044  0.24019013  0.41418129 ...  0.07149795  0.08928972\n",
      "  -0.550299  ]\n",
      " [ 0.05026361  0.68587759  0.23960992 ...  0.41222913  0.00521102\n",
      "  -0.77137303]\n",
      " [-1.24107409  1.94148983 -4.36898659 ...  1.05087405 -0.97779271\n",
      "   1.45822478]], shape=(2048, 29), dtype=float64)\n",
      "tf.Tensor([0 0 0 ... 0 0 1], shape=(2048,), dtype=int64)\n"
     ]
    }
   ],
   "source": [
    "for features, label in resampled_ds.take(1):\n",
    "    print(label.numpy().mean(), len(features), len(label))\n",
    "    print(features)\n",
    "    print(label)"
   ]
  },
  {
   "cell_type": "markdown",
   "metadata": {
    "colab_type": "text",
    "id": "irgqf3YxAyN0"
   },
   "source": [
    "To use this dataset, you'll need the number of steps per epoch.\n",
    "\n",
    "The definition of \"epoch\" in this case is less clear. Say it's the number of batches required to see each negative example once:"
   ]
  },
  {
   "cell_type": "code",
   "execution_count": 110,
   "metadata": {
    "colab": {},
    "colab_type": "code",
    "id": "xH-7K46AAxpq"
   },
   "outputs": [
    {
     "data": {
      "text/plain": [
       "278.0"
      ]
     },
     "execution_count": 110,
     "metadata": {},
     "output_type": "execute_result"
    }
   ],
   "source": [
    "resampled_steps_per_epoch = np.ceil(2.0*neg/BATCH_SIZE)\n",
    "resampled_steps_per_epoch"
   ]
  },
  {
   "cell_type": "markdown",
   "metadata": {
    "colab_type": "text",
    "id": "XZ1BvEpcBVHP"
   },
   "source": [
    "### Train on the oversampled data\n",
    "\n",
    "Now try training the model with the resampled data set instead of using class weights to see how these methods compare.\n",
    "\n",
    "Note: Because the data was balanced by replicating the positive examples, the total dataset size is larger, and each epoch runs for more training steps. "
   ]
  },
  {
   "cell_type": "code",
   "execution_count": 46,
   "metadata": {
    "colab": {},
    "colab_type": "code",
    "id": "soRQ89JYqd6b",
    "scrolled": true
   },
   "outputs": [
    {
     "name": "stdout",
     "output_type": "stream",
     "text": [
      "Train for 278.0 steps, validate for 23 steps\n",
      "Epoch 1/100\n",
      "278/278 [==============================] - 9s 32ms/step - loss: 0.3914 - tp: 251412.0000 - fp: 76514.0000 - tn: 208189.0000 - fn: 33229.0000 - accuracy: 0.8072 - precision: 0.7667 - recall: 0.8833 - auc: 0.9166 - val_loss: 0.2670 - val_tp: 64.0000 - val_fp: 953.0000 - val_tn: 44543.0000 - val_fn: 9.0000 - val_accuracy: 0.9789 - val_precision: 0.0629 - val_recall: 0.8767 - val_auc: 0.9691\n",
      "Epoch 2/100\n",
      "278/278 [==============================] - 7s 23ms/step - loss: 0.2172 - tp: 256995.0000 - fp: 15291.0000 - tn: 269297.0000 - fn: 27761.0000 - accuracy: 0.9244 - precision: 0.9438 - recall: 0.9025 - auc: 0.9687 - val_loss: 0.1323 - val_tp: 65.0000 - val_fp: 806.0000 - val_tn: 44690.0000 - val_fn: 8.0000 - val_accuracy: 0.9821 - val_precision: 0.0746 - val_recall: 0.8904 - val_auc: 0.9870\n",
      "Epoch 3/100\n",
      "278/278 [==============================] - 7s 24ms/step - loss: 0.1629 - tp: 260265.0000 - fp: 10518.0000 - tn: 274478.0000 - fn: 24083.0000 - accuracy: 0.9392 - precision: 0.9612 - recall: 0.9153 - auc: 0.9824 - val_loss: 0.0931 - val_tp: 65.0000 - val_fp: 822.0000 - val_tn: 44674.0000 - val_fn: 8.0000 - val_accuracy: 0.9818 - val_precision: 0.0733 - val_recall: 0.8904 - val_auc: 0.9902\n",
      "Epoch 4/100\n",
      "278/278 [==============================] - 7s 24ms/step - loss: 0.1398 - tp: 261926.0000 - fp: 9208.0000 - tn: 276399.0000 - fn: 21811.0000 - accuracy: 0.9455 - precision: 0.9660 - recall: 0.9231 - auc: 0.9876 - val_loss: 0.0768 - val_tp: 66.0000 - val_fp: 798.0000 - val_tn: 44698.0000 - val_fn: 7.0000 - val_accuracy: 0.9823 - val_precision: 0.0764 - val_recall: 0.9041 - val_auc: 0.9912\n",
      "Epoch 5/100\n",
      "278/278 [==============================] - 6s 23ms/step - loss: 0.1271 - tp: 263526.0000 - fp: 8663.0000 - tn: 276910.0000 - fn: 20245.0000 - accuracy: 0.9492 - precision: 0.9682 - recall: 0.9287 - auc: 0.9901 - val_loss: 0.0688 - val_tp: 66.0000 - val_fp: 773.0000 - val_tn: 44723.0000 - val_fn: 7.0000 - val_accuracy: 0.9829 - val_precision: 0.0787 - val_recall: 0.9041 - val_auc: 0.9913\n",
      "Epoch 6/100\n",
      "278/278 [==============================] - 7s 24ms/step - loss: 0.1186 - tp: 265693.0000 - fp: 8351.0000 - tn: 276358.0000 - fn: 18942.0000 - accuracy: 0.9521 - precision: 0.9695 - recall: 0.9335 - auc: 0.9916 - val_loss: 0.0629 - val_tp: 66.0000 - val_fp: 754.0000 - val_tn: 44742.0000 - val_fn: 7.0000 - val_accuracy: 0.9833 - val_precision: 0.0805 - val_recall: 0.9041 - val_auc: 0.9906\n",
      "Epoch 7/100\n",
      "278/278 [==============================] - 6s 23ms/step - loss: 0.1100 - tp: 266735.0000 - fp: 7980.0000 - tn: 276860.0000 - fn: 17769.0000 - accuracy: 0.9548 - precision: 0.9710 - recall: 0.9375 - auc: 0.9930 - val_loss: 0.0579 - val_tp: 65.0000 - val_fp: 709.0000 - val_tn: 44787.0000 - val_fn: 8.0000 - val_accuracy: 0.9843 - val_precision: 0.0840 - val_recall: 0.8904 - val_auc: 0.9898\n",
      "Epoch 8/100\n",
      "278/278 [==============================] - 7s 24ms/step - loss: 0.1030 - tp: 268489.0000 - fp: 7816.0000 - tn: 276436.0000 - fn: 16603.0000 - accuracy: 0.9571 - precision: 0.9717 - recall: 0.9418 - auc: 0.9941 - val_loss: 0.0522 - val_tp: 64.0000 - val_fp: 642.0000 - val_tn: 44854.0000 - val_fn: 9.0000 - val_accuracy: 0.9857 - val_precision: 0.0907 - val_recall: 0.8767 - val_auc: 0.9896\n",
      "Epoch 9/100\n",
      "278/278 [==============================] - 7s 23ms/step - loss: 0.0968 - tp: 269472.0000 - fp: 7607.0000 - tn: 276557.0000 - fn: 15708.0000 - accuracy: 0.9590 - precision: 0.9725 - recall: 0.9449 - auc: 0.9948 - val_loss: 0.0480 - val_tp: 64.0000 - val_fp: 614.0000 - val_tn: 44882.0000 - val_fn: 9.0000 - val_accuracy: 0.9863 - val_precision: 0.0944 - val_recall: 0.8767 - val_auc: 0.9892\n",
      "Epoch 10/100\n",
      "278/278 [==============================] - 7s 24ms/step - loss: 0.0916 - tp: 269944.0000 - fp: 7339.0000 - tn: 277458.0000 - fn: 14603.0000 - accuracy: 0.9615 - precision: 0.9735 - recall: 0.9487 - auc: 0.9954 - val_loss: 0.0438 - val_tp: 64.0000 - val_fp: 583.0000 - val_tn: 44913.0000 - val_fn: 9.0000 - val_accuracy: 0.9870 - val_precision: 0.0989 - val_recall: 0.8767 - val_auc: 0.9889\n",
      "Epoch 11/100\n",
      "278/278 [==============================] - 7s 24ms/step - loss: 0.0872 - tp: 271370.0000 - fp: 7147.0000 - tn: 276934.0000 - fn: 13893.0000 - accuracy: 0.9630 - precision: 0.9743 - recall: 0.9513 - auc: 0.9959 - val_loss: 0.0386 - val_tp: 64.0000 - val_fp: 525.0000 - val_tn: 44971.0000 - val_fn: 9.0000 - val_accuracy: 0.9883 - val_precision: 0.1087 - val_recall: 0.8767 - val_auc: 0.9892\n",
      "Epoch 12/100\n",
      "278/278 [==============================] - 7s 23ms/step - loss: 0.0835 - tp: 271908.0000 - fp: 7114.0000 - tn: 277329.0000 - fn: 12993.0000 - accuracy: 0.9647 - precision: 0.9745 - recall: 0.9544 - auc: 0.9962 - val_loss: 0.0361 - val_tp: 64.0000 - val_fp: 511.0000 - val_tn: 44985.0000 - val_fn: 9.0000 - val_accuracy: 0.9886 - val_precision: 0.1113 - val_recall: 0.8767 - val_auc: 0.9842\n",
      "Epoch 13/100\n",
      "278/278 [==============================] - 7s 24ms/step - loss: 0.0799 - tp: 272391.0000 - fp: 7089.0000 - tn: 277616.0000 - fn: 12248.0000 - accuracy: 0.9660 - precision: 0.9746 - recall: 0.9570 - auc: 0.9965 - val_loss: 0.0334 - val_tp: 64.0000 - val_fp: 474.0000 - val_tn: 45022.0000 - val_fn: 9.0000 - val_accuracy: 0.9894 - val_precision: 0.1190 - val_recall: 0.8767 - val_auc: 0.9788\n",
      "Epoch 14/100\n",
      "278/278 [==============================] - 6s 23ms/step - loss: 0.0777 - tp: 272838.0000 - fp: 6901.0000 - tn: 277848.0000 - fn: 11757.0000 - accuracy: 0.9672 - precision: 0.9753 - recall: 0.9587 - auc: 0.9967 - val_loss: 0.0322 - val_tp: 64.0000 - val_fp: 468.0000 - val_tn: 45028.0000 - val_fn: 9.0000 - val_accuracy: 0.9895 - val_precision: 0.1203 - val_recall: 0.8767 - val_auc: 0.9790\n",
      "Epoch 15/100\n",
      "275/278 [============================>.] - ETA: 0s - loss: 0.0754 - tp: 270826.0000 - fp: 6790.0000 - tn: 274629.0000 - fn: 10955.0000 - accuracy: 0.9685 - precision: 0.9755 - recall: 0.9611 - auc: 0.9968Restoring model weights from the end of the best epoch.\n",
      "278/278 [==============================] - 7s 24ms/step - loss: 0.0753 - tp: 273762.0000 - fp: 6846.0000 - tn: 277654.0000 - fn: 11082.0000 - accuracy: 0.9685 - precision: 0.9756 - recall: 0.9611 - auc: 0.9969 - val_loss: 0.0297 - val_tp: 64.0000 - val_fp: 445.0000 - val_tn: 45051.0000 - val_fn: 9.0000 - val_accuracy: 0.9900 - val_precision: 0.1257 - val_recall: 0.8767 - val_auc: 0.9791\n",
      "Epoch 00015: early stopping\n"
     ]
    }
   ],
   "source": [
    "resampled_model = make_model()\n",
    "resampled_model.load_weights(initial_weights)\n",
    "\n",
    "# Reset the bias to zero, since this dataset is balanced.\n",
    "output_layer = resampled_model.layers[-1] \n",
    "output_layer.bias.assign([0])\n",
    "\n",
    "val_ds = tf.data.Dataset.from_tensor_slices((val_features, val_labels)).cache()\n",
    "val_ds = val_ds.batch(BATCH_SIZE).prefetch(2) \n",
    "\n",
    "resampled_history = resampled_model.fit(\n",
    "    resampled_ds,\n",
    "    epochs=EPOCHS,\n",
    "    steps_per_epoch=resampled_steps_per_epoch,\n",
    "    callbacks = [early_stopping],\n",
    "    validation_data=val_ds)"
   ]
  },
  {
   "cell_type": "markdown",
   "metadata": {
    "colab_type": "text",
    "id": "avALvzUp3T_c"
   },
   "source": [
    "If the training process were considering the whole dataset on each gradient update, this oversampling would be basically identical to the class weighting.\n",
    "\n",
    "But when training the model batch-wise, as you did here, **the oversampled data provides a smoother gradient signal** : Instead of each positive example being shown in one batch with a large weight, they're shown in many different batches each time with a small weight. \n",
    "\n",
    "**This smoother gradient signal makes it easier to train the model**."
   ]
  },
  {
   "cell_type": "markdown",
   "metadata": {
    "colab_type": "text",
    "id": "klHZ0HV76VC5"
   },
   "source": [
    "### Check training history\n",
    "\n",
    "Note that the distributions of metrics will be different here, because the training data has a totally different distribution from the validation and test data. "
   ]
  },
  {
   "cell_type": "code",
   "execution_count": 47,
   "metadata": {
    "colab": {},
    "colab_type": "code",
    "id": "YoUGfr1vuivl"
   },
   "outputs": [
    {
     "data": {
      "image/png": "[encoded data removed]",
      "text/plain": [
       "<Figure size 864x720 with 4 Axes>"
      ]
     },
     "metadata": {
      "needs_background": "light"
     },
     "output_type": "display_data"
    }
   ],
   "source": [
    "plot_metrics(resampled_history )"
   ]
  },
  {
   "cell_type": "markdown",
   "metadata": {
    "colab_type": "text",
    "id": "1PuH3A2vnwrh"
   },
   "source": [
    "### Re-train\n"
   ]
  },
  {
   "cell_type": "markdown",
   "metadata": {
    "colab_type": "text",
    "id": "KFLxRL8eoDE5"
   },
   "source": [
    "Because training is easier on the balanced data, the above training procedure may overfit quickly. \n",
    "\n",
    "So break up the epochs to give the `callbacks.EarlyStopping` finer control over when to stop training."
   ]
  },
  {
   "cell_type": "code",
   "execution_count": 48,
   "metadata": {
    "colab": {},
    "colab_type": "code",
    "id": "e_yn9I26qAHU"
   },
   "outputs": [
    {
     "name": "stdout",
     "output_type": "stream",
     "text": [
      "Train for 20 steps, validate for 23 steps\n",
      "Epoch 1/1000\n",
      "20/20 [==============================] - 2s 125ms/step - loss: 0.7476 - tp: 14251.0000 - fp: 11410.0000 - tn: 9061.0000 - fn: 6238.0000 - accuracy: 0.5691 - precision: 0.5554 - recall: 0.6955 - auc: 0.6657 - val_loss: 0.7225 - val_tp: 68.0000 - val_fp: 23927.0000 - val_tn: 21569.0000 - val_fn: 5.0000 - val_accuracy: 0.4748 - val_precision: 0.0028 - val_recall: 0.9315 - val_auc: 0.9223\n",
      "Epoch 2/1000\n",
      "20/20 [==============================] - 0s 19ms/step - loss: 0.5403 - tp: 17819.0000 - fp: 10908.0000 - tn: 9601.0000 - fn: 2632.0000 - accuracy: 0.6694 - precision: 0.6203 - recall: 0.8713 - auc: 0.8479 - val_loss: 0.6741 - val_tp: 67.0000 - val_fp: 20133.0000 - val_tn: 25363.0000 - val_fn: 6.0000 - val_accuracy: 0.5581 - val_precision: 0.0033 - val_recall: 0.9178 - val_auc: 0.9309\n",
      "Epoch 3/1000\n",
      "20/20 [==============================] - 1s 26ms/step - loss: 0.4759 - tp: 18479.0000 - fp: 9616.0000 - tn: 10849.0000 - fn: 2016.0000 - accuracy: 0.7160 - precision: 0.6577 - recall: 0.9016 - auc: 0.8937 - val_loss: 0.6132 - val_tp: 67.0000 - val_fp: 15179.0000 - val_tn: 30317.0000 - val_fn: 6.0000 - val_accuracy: 0.6668 - val_precision: 0.0044 - val_recall: 0.9178 - val_auc: 0.9356\n",
      "Epoch 4/1000\n",
      "20/20 [==============================] - 1s 26ms/step - loss: 0.4382 - tp: 18545.0000 - fp: 8202.0000 - tn: 12249.0000 - fn: 1964.0000 - accuracy: 0.7518 - precision: 0.6933 - recall: 0.9042 - auc: 0.9097 - val_loss: 0.5578 - val_tp: 67.0000 - val_fp: 10852.0000 - val_tn: 34644.0000 - val_fn: 6.0000 - val_accuracy: 0.7617 - val_precision: 0.0061 - val_recall: 0.9178 - val_auc: 0.9393\n",
      "Epoch 5/1000\n",
      "20/20 [==============================] - 0s 23ms/step - loss: 0.4060 - tp: 18486.0000 - fp: 6915.0000 - tn: 13598.0000 - fn: 1961.0000 - accuracy: 0.7833 - precision: 0.7278 - recall: 0.9041 - auc: 0.9215 - val_loss: 0.5103 - val_tp: 66.0000 - val_fp: 7485.0000 - val_tn: 38011.0000 - val_fn: 7.0000 - val_accuracy: 0.8356 - val_precision: 0.0087 - val_recall: 0.9041 - val_auc: 0.9420\n",
      "Epoch 6/1000\n",
      "20/20 [==============================] - 0s 23ms/step - loss: 0.3808 - tp: 18602.0000 - fp: 5715.0000 - tn: 14678.0000 - fn: 1965.0000 - accuracy: 0.8125 - precision: 0.7650 - recall: 0.9045 - auc: 0.9297 - val_loss: 0.4698 - val_tp: 65.0000 - val_fp: 5110.0000 - val_tn: 40386.0000 - val_fn: 8.0000 - val_accuracy: 0.8877 - val_precision: 0.0126 - val_recall: 0.8904 - val_auc: 0.9449\n",
      "Epoch 7/1000\n",
      "20/20 [==============================] - 0s 22ms/step - loss: 0.3645 - tp: 18446.0000 - fp: 4827.0000 - tn: 15617.0000 - fn: 2070.0000 - accuracy: 0.8316 - precision: 0.7926 - recall: 0.8991 - auc: 0.9326 - val_loss: 0.4342 - val_tp: 65.0000 - val_fp: 3513.0000 - val_tn: 41983.0000 - val_fn: 8.0000 - val_accuracy: 0.9227 - val_precision: 0.0182 - val_recall: 0.8904 - val_auc: 0.9478\n",
      "Epoch 8/1000\n",
      "20/20 [==============================] - 0s 24ms/step - loss: 0.3425 - tp: 18376.0000 - fp: 3992.0000 - tn: 16522.0000 - fn: 2070.0000 - accuracy: 0.8520 - precision: 0.8215 - recall: 0.8988 - auc: 0.9392 - val_loss: 0.4025 - val_tp: 65.0000 - val_fp: 2476.0000 - val_tn: 43020.0000 - val_fn: 8.0000 - val_accuracy: 0.9455 - val_precision: 0.0256 - val_recall: 0.8904 - val_auc: 0.9506\n",
      "Epoch 9/1000\n",
      "20/20 [==============================] - 1s 30ms/step - loss: 0.3314 - tp: 18272.0000 - fp: 3413.0000 - tn: 17156.0000 - fn: 2119.0000 - accuracy: 0.8649 - precision: 0.8426 - recall: 0.8961 - auc: 0.9412 - val_loss: 0.3738 - val_tp: 65.0000 - val_fp: 1912.0000 - val_tn: 43584.0000 - val_fn: 8.0000 - val_accuracy: 0.9579 - val_precision: 0.0329 - val_recall: 0.8904 - val_auc: 0.9535\n",
      "Epoch 10/1000\n",
      "20/20 [==============================] - 1s 26ms/step - loss: 0.3146 - tp: 18308.0000 - fp: 2849.0000 - tn: 17668.0000 - fn: 2135.0000 - accuracy: 0.8783 - precision: 0.8653 - recall: 0.8956 - auc: 0.9452 - val_loss: 0.3481 - val_tp: 64.0000 - val_fp: 1577.0000 - val_tn: 43919.0000 - val_fn: 9.0000 - val_accuracy: 0.9652 - val_precision: 0.0390 - val_recall: 0.8767 - val_auc: 0.9566\n",
      "Epoch 11/1000\n",
      "20/20 [==============================] - 1s 26ms/step - loss: 0.2998 - tp: 18335.0000 - fp: 2536.0000 - tn: 17945.0000 - fn: 2144.0000 - accuracy: 0.8857 - precision: 0.8785 - recall: 0.8953 - auc: 0.9488 - val_loss: 0.3254 - val_tp: 64.0000 - val_fp: 1353.0000 - val_tn: 44143.0000 - val_fn: 9.0000 - val_accuracy: 0.9701 - val_precision: 0.0452 - val_recall: 0.8767 - val_auc: 0.9598\n",
      "Epoch 12/1000\n",
      "20/20 [==============================] - 1s 26ms/step - loss: 0.2903 - tp: 18377.0000 - fp: 2276.0000 - tn: 18178.0000 - fn: 2129.0000 - accuracy: 0.8925 - precision: 0.8898 - recall: 0.8962 - auc: 0.9509 - val_loss: 0.3036 - val_tp: 64.0000 - val_fp: 1181.0000 - val_tn: 44315.0000 - val_fn: 9.0000 - val_accuracy: 0.9739 - val_precision: 0.0514 - val_recall: 0.8767 - val_auc: 0.9637\n",
      "Epoch 13/1000\n",
      "20/20 [==============================] - 0s 25ms/step - loss: 0.2819 - tp: 18285.0000 - fp: 2011.0000 - tn: 18509.0000 - fn: 2155.0000 - accuracy: 0.8983 - precision: 0.9009 - recall: 0.8946 - auc: 0.9527 - val_loss: 0.2845 - val_tp: 64.0000 - val_fp: 1082.0000 - val_tn: 44414.0000 - val_fn: 9.0000 - val_accuracy: 0.9761 - val_precision: 0.0558 - val_recall: 0.8767 - val_auc: 0.9670\n",
      "Epoch 14/1000\n",
      "20/20 [==============================] - 0s 24ms/step - loss: 0.2699 - tp: 18326.0000 - fp: 1700.0000 - tn: 18753.0000 - fn: 2181.0000 - accuracy: 0.9052 - precision: 0.9151 - recall: 0.8936 - auc: 0.9549 - val_loss: 0.2673 - val_tp: 64.0000 - val_fp: 1008.0000 - val_tn: 44488.0000 - val_fn: 9.0000 - val_accuracy: 0.9777 - val_precision: 0.0597 - val_recall: 0.8767 - val_auc: 0.9709\n",
      "Epoch 15/1000\n",
      "20/20 [==============================] - 0s 22ms/step - loss: 0.2590 - tp: 18331.0000 - fp: 1605.0000 - tn: 18906.0000 - fn: 2118.0000 - accuracy: 0.9091 - precision: 0.9195 - recall: 0.8964 - auc: 0.9586 - val_loss: 0.2511 - val_tp: 64.0000 - val_fp: 955.0000 - val_tn: 44541.0000 - val_fn: 9.0000 - val_accuracy: 0.9788 - val_precision: 0.0628 - val_recall: 0.8767 - val_auc: 0.9742\n",
      "Epoch 16/1000\n",
      "20/20 [==============================] - 0s 24ms/step - loss: 0.2503 - tp: 18507.0000 - fp: 1409.0000 - tn: 18952.0000 - fn: 2092.0000 - accuracy: 0.9145 - precision: 0.9293 - recall: 0.8984 - auc: 0.9603 - val_loss: 0.2363 - val_tp: 65.0000 - val_fp: 906.0000 - val_tn: 44590.0000 - val_fn: 8.0000 - val_accuracy: 0.9799 - val_precision: 0.0669 - val_recall: 0.8904 - val_auc: 0.9770\n",
      "Epoch 17/1000\n",
      "20/20 [==============================] - 0s 23ms/step - loss: 0.2424 - tp: 18404.0000 - fp: 1323.0000 - tn: 19123.0000 - fn: 2110.0000 - accuracy: 0.9162 - precision: 0.9329 - recall: 0.8971 - auc: 0.9627 - val_loss: 0.2219 - val_tp: 65.0000 - val_fp: 867.0000 - val_tn: 44629.0000 - val_fn: 8.0000 - val_accuracy: 0.9808 - val_precision: 0.0697 - val_recall: 0.8904 - val_auc: 0.9795\n",
      "Epoch 18/1000\n",
      "20/20 [==============================] - 1s 29ms/step - loss: 0.2357 - tp: 18408.0000 - fp: 1240.0000 - tn: 19192.0000 - fn: 2120.0000 - accuracy: 0.9180 - precision: 0.9369 - recall: 0.8967 - auc: 0.9640 - val_loss: 0.2082 - val_tp: 65.0000 - val_fp: 826.0000 - val_tn: 44670.0000 - val_fn: 8.0000 - val_accuracy: 0.9817 - val_precision: 0.0730 - val_recall: 0.8904 - val_auc: 0.9812\n",
      "Epoch 19/1000\n",
      "20/20 [==============================] - 1s 25ms/step - loss: 0.2238 - tp: 18341.0000 - fp: 1058.0000 - tn: 19550.0000 - fn: 2011.0000 - accuracy: 0.9251 - precision: 0.9455 - recall: 0.9012 - auc: 0.9668 - val_loss: 0.1960 - val_tp: 65.0000 - val_fp: 812.0000 - val_tn: 44684.0000 - val_fn: 8.0000 - val_accuracy: 0.9820 - val_precision: 0.0741 - val_recall: 0.8904 - val_auc: 0.9829\n",
      "Epoch 20/1000\n",
      "20/20 [==============================] - 1s 25ms/step - loss: 0.2203 - tp: 18450.0000 - fp: 1100.0000 - tn: 19345.0000 - fn: 2065.0000 - accuracy: 0.9227 - precision: 0.9437 - recall: 0.8993 - auc: 0.9680 - val_loss: 0.1843 - val_tp: 64.0000 - val_fp: 798.0000 - val_tn: 44698.0000 - val_fn: 9.0000 - val_accuracy: 0.9823 - val_precision: 0.0742 - val_recall: 0.8767 - val_auc: 0.9837\n",
      "Epoch 21/1000\n",
      "20/20 [==============================] - 1s 25ms/step - loss: 0.2128 - tp: 18492.0000 - fp: 980.0000 - tn: 19467.0000 - fn: 2021.0000 - accuracy: 0.9267 - precision: 0.9497 - recall: 0.9015 - auc: 0.9698 - val_loss: 0.1737 - val_tp: 64.0000 - val_fp: 776.0000 - val_tn: 44720.0000 - val_fn: 9.0000 - val_accuracy: 0.9828 - val_precision: 0.0762 - val_recall: 0.8767 - val_auc: 0.9848\n",
      "Epoch 22/1000\n",
      "20/20 [==============================] - 0s 25ms/step - loss: 0.2048 - tp: 18601.0000 - fp: 925.0000 - tn: 19363.0000 - fn: 2071.0000 - accuracy: 0.9269 - precision: 0.9526 - recall: 0.8998 - auc: 0.9717 - val_loss: 0.1649 - val_tp: 64.0000 - val_fp: 776.0000 - val_tn: 44720.0000 - val_fn: 9.0000 - val_accuracy: 0.9828 - val_precision: 0.0762 - val_recall: 0.8767 - val_auc: 0.9858\n",
      "Epoch 23/1000\n",
      "20/20 [==============================] - 0s 22ms/step - loss: 0.1994 - tp: 18553.0000 - fp: 888.0000 - tn: 19572.0000 - fn: 1947.0000 - accuracy: 0.9308 - precision: 0.9543 - recall: 0.9050 - auc: 0.9729 - val_loss: 0.1567 - val_tp: 65.0000 - val_fp: 788.0000 - val_tn: 44708.0000 - val_fn: 8.0000 - val_accuracy: 0.9825 - val_precision: 0.0762 - val_recall: 0.8904 - val_auc: 0.9864\n",
      "Epoch 24/1000\n",
      "20/20 [==============================] - 0s 23ms/step - loss: 0.1953 - tp: 18398.0000 - fp: 824.0000 - tn: 19718.0000 - fn: 2020.0000 - accuracy: 0.9306 - precision: 0.9571 - recall: 0.9011 - auc: 0.9738 - val_loss: 0.1491 - val_tp: 65.0000 - val_fp: 784.0000 - val_tn: 44712.0000 - val_fn: 8.0000 - val_accuracy: 0.9826 - val_precision: 0.0766 - val_recall: 0.8904 - val_auc: 0.9871\n",
      "Epoch 25/1000\n",
      "20/20 [==============================] - 0s 22ms/step - loss: 0.1934 - tp: 18804.0000 - fp: 814.0000 - tn: 19294.0000 - fn: 2048.0000 - accuracy: 0.9301 - precision: 0.9585 - recall: 0.9018 - auc: 0.9742 - val_loss: 0.1428 - val_tp: 65.0000 - val_fp: 777.0000 - val_tn: 44719.0000 - val_fn: 8.0000 - val_accuracy: 0.9828 - val_precision: 0.0772 - val_recall: 0.8904 - val_auc: 0.9876\n",
      "Epoch 26/1000\n",
      "20/20 [==============================] - 0s 22ms/step - loss: 0.1902 - tp: 18263.0000 - fp: 917.0000 - tn: 19826.0000 - fn: 1954.0000 - accuracy: 0.9299 - precision: 0.9522 - recall: 0.9033 - auc: 0.9756 - val_loss: 0.1355 - val_tp: 65.0000 - val_fp: 755.0000 - val_tn: 44741.0000 - val_fn: 8.0000 - val_accuracy: 0.9833 - val_precision: 0.0793 - val_recall: 0.8904 - val_auc: 0.9884\n",
      "Epoch 27/1000\n",
      "20/20 [==============================] - 1s 29ms/step - loss: 0.1814 - tp: 18328.0000 - fp: 837.0000 - tn: 19917.0000 - fn: 1878.0000 - accuracy: 0.9337 - precision: 0.9563 - recall: 0.9071 - auc: 0.9779 - val_loss: 0.1278 - val_tp: 65.0000 - val_fp: 727.0000 - val_tn: 44769.0000 - val_fn: 8.0000 - val_accuracy: 0.9839 - val_precision: 0.0821 - val_recall: 0.8904 - val_auc: 0.9888\n",
      "Epoch 28/1000\n",
      "20/20 [==============================] - 0s 25ms/step - loss: 0.1781 - tp: 18549.0000 - fp: 790.0000 - tn: 19659.0000 - fn: 1962.0000 - accuracy: 0.9328 - precision: 0.9591 - recall: 0.9043 - auc: 0.9788 - val_loss: 0.1222 - val_tp: 65.0000 - val_fp: 720.0000 - val_tn: 44776.0000 - val_fn: 8.0000 - val_accuracy: 0.9840 - val_precision: 0.0828 - val_recall: 0.8904 - val_auc: 0.9891\n",
      "Epoch 29/1000\n",
      "20/20 [==============================] - 1s 25ms/step - loss: 0.1759 - tp: 18573.0000 - fp: 793.0000 - tn: 19679.0000 - fn: 1915.0000 - accuracy: 0.9339 - precision: 0.9591 - recall: 0.9065 - auc: 0.9795 - val_loss: 0.1175 - val_tp: 65.0000 - val_fp: 721.0000 - val_tn: 44775.0000 - val_fn: 8.0000 - val_accuracy: 0.9840 - val_precision: 0.0827 - val_recall: 0.8904 - val_auc: 0.9895\n",
      "Epoch 30/1000\n",
      "20/20 [==============================] - 1s 26ms/step - loss: 0.1727 - tp: 18525.0000 - fp: 766.0000 - tn: 19783.0000 - fn: 1886.0000 - accuracy: 0.9353 - precision: 0.9603 - recall: 0.9076 - auc: 0.9802 - val_loss: 0.1130 - val_tp: 65.0000 - val_fp: 714.0000 - val_tn: 44782.0000 - val_fn: 8.0000 - val_accuracy: 0.9842 - val_precision: 0.0834 - val_recall: 0.8904 - val_auc: 0.9898\n",
      "Epoch 31/1000\n",
      "20/20 [==============================] - 0s 25ms/step - loss: 0.1658 - tp: 18773.0000 - fp: 752.0000 - tn: 19585.0000 - fn: 1850.0000 - accuracy: 0.9365 - precision: 0.9615 - recall: 0.9103 - auc: 0.9818 - val_loss: 0.1092 - val_tp: 65.0000 - val_fp: 709.0000 - val_tn: 44787.0000 - val_fn: 8.0000 - val_accuracy: 0.9843 - val_precision: 0.0840 - val_recall: 0.8904 - val_auc: 0.9900\n",
      "Epoch 32/1000\n",
      "20/20 [==============================] - 0s 22ms/step - loss: 0.1645 - tp: 18553.0000 - fp: 713.0000 - tn: 19843.0000 - fn: 1851.0000 - accuracy: 0.9374 - precision: 0.9630 - recall: 0.9093 - auc: 0.9819 - val_loss: 0.1064 - val_tp: 65.0000 - val_fp: 713.0000 - val_tn: 44783.0000 - val_fn: 8.0000 - val_accuracy: 0.9842 - val_precision: 0.0835 - val_recall: 0.8904 - val_auc: 0.9902\n",
      "Epoch 33/1000\n",
      "20/20 [==============================] - 0s 22ms/step - loss: 0.1629 - tp: 18652.0000 - fp: 745.0000 - tn: 19769.0000 - fn: 1794.0000 - accuracy: 0.9380 - precision: 0.9616 - recall: 0.9123 - auc: 0.9826 - val_loss: 0.1037 - val_tp: 65.0000 - val_fp: 725.0000 - val_tn: 44771.0000 - val_fn: 8.0000 - val_accuracy: 0.9839 - val_precision: 0.0823 - val_recall: 0.8904 - val_auc: 0.9901\n",
      "Epoch 34/1000\n",
      "20/20 [==============================] - 0s 23ms/step - loss: 0.1583 - tp: 18664.0000 - fp: 698.0000 - tn: 19819.0000 - fn: 1779.0000 - accuracy: 0.9395 - precision: 0.9639 - recall: 0.9130 - auc: 0.9835 - val_loss: 0.1007 - val_tp: 65.0000 - val_fp: 720.0000 - val_tn: 44776.0000 - val_fn: 8.0000 - val_accuracy: 0.9840 - val_precision: 0.0828 - val_recall: 0.8904 - val_auc: 0.9904\n",
      "Epoch 35/1000\n",
      "20/20 [==============================] - 0s 22ms/step - loss: 0.1575 - tp: 18697.0000 - fp: 681.0000 - tn: 19797.0000 - fn: 1785.0000 - accuracy: 0.9398 - precision: 0.9649 - recall: 0.9129 - auc: 0.9836 - val_loss: 0.0979 - val_tp: 65.0000 - val_fp: 716.0000 - val_tn: 44780.0000 - val_fn: 8.0000 - val_accuracy: 0.9841 - val_precision: 0.0832 - val_recall: 0.8904 - val_auc: 0.9906\n",
      "Epoch 36/1000\n",
      "20/20 [==============================] - 1s 31ms/step - loss: 0.1533 - tp: 18731.0000 - fp: 689.0000 - tn: 19751.0000 - fn: 1789.0000 - accuracy: 0.9395 - precision: 0.9645 - recall: 0.9128 - auc: 0.9847 - val_loss: 0.0954 - val_tp: 66.0000 - val_fp: 713.0000 - val_tn: 44783.0000 - val_fn: 7.0000 - val_accuracy: 0.9842 - val_precision: 0.0847 - val_recall: 0.9041 - val_auc: 0.9905\n",
      "Epoch 37/1000\n",
      "20/20 [==============================] - 1s 25ms/step - loss: 0.1539 - tp: 18661.0000 - fp: 749.0000 - tn: 19818.0000 - fn: 1732.0000 - accuracy: 0.9394 - precision: 0.9614 - recall: 0.9151 - auc: 0.9847 - val_loss: 0.0932 - val_tp: 65.0000 - val_fp: 714.0000 - val_tn: 44782.0000 - val_fn: 8.0000 - val_accuracy: 0.9842 - val_precision: 0.0834 - val_recall: 0.8904 - val_auc: 0.9908\n",
      "Epoch 38/1000\n",
      "20/20 [==============================] - 1s 26ms/step - loss: 0.1540 - tp: 18592.0000 - fp: 699.0000 - tn: 19922.0000 - fn: 1747.0000 - accuracy: 0.9403 - precision: 0.9638 - recall: 0.9141 - auc: 0.9847 - val_loss: 0.0912 - val_tp: 65.0000 - val_fp: 717.0000 - val_tn: 44779.0000 - val_fn: 8.0000 - val_accuracy: 0.9841 - val_precision: 0.0831 - val_recall: 0.8904 - val_auc: 0.9908\n",
      "Epoch 39/1000\n",
      "20/20 [==============================] - 1s 26ms/step - loss: 0.1513 - tp: 18704.0000 - fp: 685.0000 - tn: 19838.0000 - fn: 1733.0000 - accuracy: 0.9410 - precision: 0.9647 - recall: 0.9152 - auc: 0.9850 - val_loss: 0.0893 - val_tp: 65.0000 - val_fp: 713.0000 - val_tn: 44783.0000 - val_fn: 8.0000 - val_accuracy: 0.9842 - val_precision: 0.0835 - val_recall: 0.8904 - val_auc: 0.9910\n",
      "Epoch 40/1000\n",
      "20/20 [==============================] - 0s 25ms/step - loss: 0.1470 - tp: 18764.0000 - fp: 637.0000 - tn: 19822.0000 - fn: 1737.0000 - accuracy: 0.9420 - precision: 0.9672 - recall: 0.9153 - auc: 0.9860 - val_loss: 0.0876 - val_tp: 65.0000 - val_fp: 721.0000 - val_tn: 44775.0000 - val_fn: 8.0000 - val_accuracy: 0.9840 - val_precision: 0.0827 - val_recall: 0.8904 - val_auc: 0.9909\n",
      "Epoch 41/1000\n",
      "20/20 [==============================] - 0s 23ms/step - loss: 0.1470 - tp: 18756.0000 - fp: 638.0000 - tn: 19867.0000 - fn: 1699.0000 - accuracy: 0.9429 - precision: 0.9671 - recall: 0.9169 - auc: 0.9860 - val_loss: 0.0872 - val_tp: 66.0000 - val_fp: 753.0000 - val_tn: 44743.0000 - val_fn: 7.0000 - val_accuracy: 0.9833 - val_precision: 0.0806 - val_recall: 0.9041 - val_auc: 0.9910\n"
     ]
    },
    {
     "name": "stdout",
     "output_type": "stream",
     "text": [
      "Epoch 42/1000\n",
      "20/20 [==============================] - 0s 23ms/step - loss: 0.1465 - tp: 18760.0000 - fp: 696.0000 - tn: 19801.0000 - fn: 1703.0000 - accuracy: 0.9414 - precision: 0.9642 - recall: 0.9168 - auc: 0.9864 - val_loss: 0.0859 - val_tp: 66.0000 - val_fp: 755.0000 - val_tn: 44741.0000 - val_fn: 7.0000 - val_accuracy: 0.9833 - val_precision: 0.0804 - val_recall: 0.9041 - val_auc: 0.9911\n",
      "Epoch 43/1000\n",
      "20/20 [==============================] - 0s 22ms/step - loss: 0.1425 - tp: 18653.0000 - fp: 652.0000 - tn: 20051.0000 - fn: 1604.0000 - accuracy: 0.9449 - precision: 0.9662 - recall: 0.9208 - auc: 0.9869 - val_loss: 0.0842 - val_tp: 66.0000 - val_fp: 752.0000 - val_tn: 44744.0000 - val_fn: 7.0000 - val_accuracy: 0.9833 - val_precision: 0.0807 - val_recall: 0.9041 - val_auc: 0.9911\n",
      "Epoch 44/1000\n",
      "20/20 [==============================] - 0s 23ms/step - loss: 0.1423 - tp: 18717.0000 - fp: 657.0000 - tn: 19926.0000 - fn: 1660.0000 - accuracy: 0.9434 - precision: 0.9661 - recall: 0.9185 - auc: 0.9871 - val_loss: 0.0828 - val_tp: 66.0000 - val_fp: 751.0000 - val_tn: 44745.0000 - val_fn: 7.0000 - val_accuracy: 0.9834 - val_precision: 0.0808 - val_recall: 0.9041 - val_auc: 0.9912\n",
      "Epoch 45/1000\n",
      "20/20 [==============================] - 1s 30ms/step - loss: 0.1412 - tp: 18664.0000 - fp: 646.0000 - tn: 20032.0000 - fn: 1618.0000 - accuracy: 0.9447 - precision: 0.9665 - recall: 0.9202 - auc: 0.9874 - val_loss: 0.0813 - val_tp: 66.0000 - val_fp: 745.0000 - val_tn: 44751.0000 - val_fn: 7.0000 - val_accuracy: 0.9835 - val_precision: 0.0814 - val_recall: 0.9041 - val_auc: 0.9913\n",
      "Epoch 46/1000\n",
      "20/20 [==============================] - 1s 25ms/step - loss: 0.1422 - tp: 18824.0000 - fp: 638.0000 - tn: 19882.0000 - fn: 1616.0000 - accuracy: 0.9450 - precision: 0.9672 - recall: 0.9209 - auc: 0.9871 - val_loss: 0.0804 - val_tp: 66.0000 - val_fp: 752.0000 - val_tn: 44744.0000 - val_fn: 7.0000 - val_accuracy: 0.9833 - val_precision: 0.0807 - val_recall: 0.9041 - val_auc: 0.9913\n",
      "Epoch 47/1000\n",
      "20/20 [==============================] - 1s 26ms/step - loss: 0.1397 - tp: 18751.0000 - fp: 660.0000 - tn: 19948.0000 - fn: 1601.0000 - accuracy: 0.9448 - precision: 0.9660 - recall: 0.9213 - auc: 0.9876 - val_loss: 0.0791 - val_tp: 66.0000 - val_fp: 743.0000 - val_tn: 44753.0000 - val_fn: 7.0000 - val_accuracy: 0.9835 - val_precision: 0.0816 - val_recall: 0.9041 - val_auc: 0.9914\n",
      "Epoch 48/1000\n",
      "20/20 [==============================] - 1s 26ms/step - loss: 0.1375 - tp: 18867.0000 - fp: 664.0000 - tn: 19840.0000 - fn: 1589.0000 - accuracy: 0.9450 - precision: 0.9660 - recall: 0.9223 - auc: 0.9882 - val_loss: 0.0782 - val_tp: 66.0000 - val_fp: 749.0000 - val_tn: 44747.0000 - val_fn: 7.0000 - val_accuracy: 0.9834 - val_precision: 0.0810 - val_recall: 0.9041 - val_auc: 0.9913\n",
      "Epoch 49/1000\n",
      "20/20 [==============================] - 0s 23ms/step - loss: 0.1369 - tp: 18801.0000 - fp: 638.0000 - tn: 19923.0000 - fn: 1598.0000 - accuracy: 0.9454 - precision: 0.9672 - recall: 0.9217 - auc: 0.9884 - val_loss: 0.0774 - val_tp: 66.0000 - val_fp: 754.0000 - val_tn: 44742.0000 - val_fn: 7.0000 - val_accuracy: 0.9833 - val_precision: 0.0805 - val_recall: 0.9041 - val_auc: 0.9913\n",
      "Epoch 50/1000\n",
      "20/20 [==============================] - 0s 23ms/step - loss: 0.1364 - tp: 18885.0000 - fp: 666.0000 - tn: 19773.0000 - fn: 1636.0000 - accuracy: 0.9438 - precision: 0.9659 - recall: 0.9203 - auc: 0.9882 - val_loss: 0.0768 - val_tp: 66.0000 - val_fp: 750.0000 - val_tn: 44746.0000 - val_fn: 7.0000 - val_accuracy: 0.9834 - val_precision: 0.0809 - val_recall: 0.9041 - val_auc: 0.9915\n",
      "Epoch 51/1000\n",
      "20/20 [==============================] - 0s 23ms/step - loss: 0.1367 - tp: 19032.0000 - fp: 627.0000 - tn: 19655.0000 - fn: 1646.0000 - accuracy: 0.9445 - precision: 0.9681 - recall: 0.9204 - auc: 0.9883 - val_loss: 0.0764 - val_tp: 65.0000 - val_fp: 755.0000 - val_tn: 44741.0000 - val_fn: 8.0000 - val_accuracy: 0.9833 - val_precision: 0.0793 - val_recall: 0.8904 - val_auc: 0.9915\n",
      "Epoch 52/1000\n",
      "20/20 [==============================] - 0s 22ms/step - loss: 0.1324 - tp: 18798.0000 - fp: 695.0000 - tn: 19900.0000 - fn: 1567.0000 - accuracy: 0.9448 - precision: 0.9643 - recall: 0.9231 - auc: 0.9890 - val_loss: 0.0755 - val_tp: 65.0000 - val_fp: 752.0000 - val_tn: 44744.0000 - val_fn: 8.0000 - val_accuracy: 0.9833 - val_precision: 0.0796 - val_recall: 0.8904 - val_auc: 0.9915\n",
      "Epoch 53/1000\n",
      "20/20 [==============================] - 0s 22ms/step - loss: 0.1313 - tp: 18876.0000 - fp: 607.0000 - tn: 19907.0000 - fn: 1570.0000 - accuracy: 0.9469 - precision: 0.9688 - recall: 0.9232 - auc: 0.9893 - val_loss: 0.0745 - val_tp: 65.0000 - val_fp: 748.0000 - val_tn: 44748.0000 - val_fn: 8.0000 - val_accuracy: 0.9834 - val_precision: 0.0800 - val_recall: 0.8904 - val_auc: 0.9915\n",
      "Epoch 54/1000\n",
      "20/20 [==============================] - 1s 30ms/step - loss: 0.1299 - tp: 18788.0000 - fp: 630.0000 - tn: 19997.0000 - fn: 1545.0000 - accuracy: 0.9469 - precision: 0.9676 - recall: 0.9240 - auc: 0.9897 - val_loss: 0.0739 - val_tp: 65.0000 - val_fp: 745.0000 - val_tn: 44751.0000 - val_fn: 8.0000 - val_accuracy: 0.9835 - val_precision: 0.0802 - val_recall: 0.8904 - val_auc: 0.9913\n",
      "Epoch 55/1000\n",
      "20/20 [==============================] - 1s 25ms/step - loss: 0.1341 - tp: 18823.0000 - fp: 670.0000 - tn: 19923.0000 - fn: 1544.0000 - accuracy: 0.9459 - precision: 0.9656 - recall: 0.9242 - auc: 0.9888 - val_loss: 0.0724 - val_tp: 65.0000 - val_fp: 732.0000 - val_tn: 44764.0000 - val_fn: 8.0000 - val_accuracy: 0.9838 - val_precision: 0.0816 - val_recall: 0.8904 - val_auc: 0.9914\n",
      "Epoch 56/1000\n",
      "20/20 [==============================] - 1s 26ms/step - loss: 0.1317 - tp: 18928.0000 - fp: 614.0000 - tn: 19875.0000 - fn: 1543.0000 - accuracy: 0.9473 - precision: 0.9686 - recall: 0.9246 - auc: 0.9893 - val_loss: 0.0719 - val_tp: 65.0000 - val_fp: 728.0000 - val_tn: 44768.0000 - val_fn: 8.0000 - val_accuracy: 0.9838 - val_precision: 0.0820 - val_recall: 0.8904 - val_auc: 0.9914\n",
      "Epoch 57/1000\n",
      "20/20 [==============================] - 1s 25ms/step - loss: 0.1283 - tp: 18833.0000 - fp: 656.0000 - tn: 19961.0000 - fn: 1510.0000 - accuracy: 0.9471 - precision: 0.9663 - recall: 0.9258 - auc: 0.9896 - val_loss: 0.0719 - val_tp: 65.0000 - val_fp: 738.0000 - val_tn: 44758.0000 - val_fn: 8.0000 - val_accuracy: 0.9836 - val_precision: 0.0809 - val_recall: 0.8904 - val_auc: 0.9913\n",
      "Epoch 58/1000\n",
      "20/20 [==============================] - 0s 23ms/step - loss: 0.1297 - tp: 18932.0000 - fp: 661.0000 - tn: 19832.0000 - fn: 1535.0000 - accuracy: 0.9464 - precision: 0.9663 - recall: 0.9250 - auc: 0.9897 - val_loss: 0.0709 - val_tp: 65.0000 - val_fp: 730.0000 - val_tn: 44766.0000 - val_fn: 8.0000 - val_accuracy: 0.9838 - val_precision: 0.0818 - val_recall: 0.8904 - val_auc: 0.9913\n",
      "Epoch 59/1000\n",
      "20/20 [==============================] - 0s 22ms/step - loss: 0.1270 - tp: 18896.0000 - fp: 581.0000 - tn: 19917.0000 - fn: 1566.0000 - accuracy: 0.9476 - precision: 0.9702 - recall: 0.9235 - auc: 0.9901 - val_loss: 0.0705 - val_tp: 65.0000 - val_fp: 737.0000 - val_tn: 44759.0000 - val_fn: 8.0000 - val_accuracy: 0.9837 - val_precision: 0.0810 - val_recall: 0.8904 - val_auc: 0.9913\n",
      "Epoch 60/1000\n",
      "19/20 [===========================>..] - ETA: 0s - loss: 0.1246 - tp: 17889.0000 - fp: 587.0000 - tn: 19043.0000 - fn: 1393.0000 - accuracy: 0.9491 - precision: 0.9682 - recall: 0.9278 - auc: 0.9905Restoring model weights from the end of the best epoch.\n",
      "20/20 [==============================] - 0s 22ms/step - loss: 0.1245 - tp: 18854.0000 - fp: 617.0000 - tn: 20031.0000 - fn: 1458.0000 - accuracy: 0.9493 - precision: 0.9683 - recall: 0.9282 - auc: 0.9905 - val_loss: 0.0701 - val_tp: 65.0000 - val_fp: 740.0000 - val_tn: 44756.0000 - val_fn: 8.0000 - val_accuracy: 0.9836 - val_precision: 0.0807 - val_recall: 0.8904 - val_auc: 0.9911\n",
      "Epoch 00060: early stopping\n"
     ]
    }
   ],
   "source": [
    "resampled_model = make_model()\n",
    "resampled_model.load_weights(initial_weights)\n",
    "\n",
    "# Reset the bias to zero, since this dataset is balanced.\n",
    "output_layer = resampled_model.layers[-1] \n",
    "output_layer.bias.assign([0])\n",
    "\n",
    "resampled_history = resampled_model.fit(\n",
    "    resampled_ds,\n",
    "    # These are not real epochs\n",
    "    steps_per_epoch = 20,\n",
    "    epochs=10*EPOCHS,\n",
    "    callbacks = [early_stopping],\n",
    "    validation_data=(val_ds))"
   ]
  },
  {
   "cell_type": "markdown",
   "metadata": {
    "colab_type": "text",
    "id": "UuJYKv0gpBK1"
   },
   "source": [
    "### Re-check training history"
   ]
  },
  {
   "cell_type": "code",
   "execution_count": 49,
   "metadata": {
    "colab": {},
    "colab_type": "code",
    "id": "FMycrpJwn39w"
   },
   "outputs": [
    {
     "data": {
      "image/png": "[encoded data removed]",
      "text/plain": [
       "<Figure size 864x720 with 4 Axes>"
      ]
     },
     "metadata": {
      "needs_background": "light"
     },
     "output_type": "display_data"
    }
   ],
   "source": [
    "plot_metrics(resampled_history)"
   ]
  },
  {
   "cell_type": "markdown",
   "metadata": {
    "colab_type": "text",
    "id": "bUuE5HOWZiwP"
   },
   "source": [
    "### Evaluate metrics"
   ]
  },
  {
   "cell_type": "code",
   "execution_count": 50,
   "metadata": {
    "colab": {},
    "colab_type": "code",
    "id": "C0fmHSgXxFdW"
   },
   "outputs": [],
   "source": [
    "train_predictions_resampled = resampled_model.predict(train_features, batch_size=BATCH_SIZE)\n",
    "test_predictions_resampled = resampled_model.predict(test_features, batch_size=BATCH_SIZE)"
   ]
  },
  {
   "cell_type": "code",
   "execution_count": 51,
   "metadata": {
    "colab": {},
    "colab_type": "code",
    "id": "FO0mMOYUDWFk"
   },
   "outputs": [
    {
     "name": "stdout",
     "output_type": "stream",
     "text": [
      "loss :  0.07649654533250634\n",
      "tp :  104.0\n",
      "fp :  946.0\n",
      "tn :  55902.0\n",
      "fn :  10.0\n",
      "accuracy :  0.9832169\n",
      "precision :  0.099047616\n",
      "recall :  0.9122807\n",
      "auc :  0.97800624\n",
      "\n",
      "Legitimate Transactions Detected (True Negatives):  55902\n",
      "Legitimate Transactions Incorrectly Detected (False Positives):  946\n",
      "Fraudulent Transactions Missed (False Negatives):  10\n",
      "Fraudulent Transactions Detected (True Positives):  104\n",
      "Total Fraudulent Transactions:  114\n"
     ]
    },
    {
     "data": {
      "image/png": "[encoded data removed]",
      "text/plain": [
       "<Figure size 360x360 with 2 Axes>"
      ]
     },
     "metadata": {
      "needs_background": "light"
     },
     "output_type": "display_data"
    }
   ],
   "source": [
    "resampled_results = resampled_model.evaluate(test_features, test_labels,\n",
    "                                             batch_size=BATCH_SIZE, verbose=0)\n",
    "for name, value in zip(resampled_model.metrics_names, resampled_results):\n",
    "  print(name, ': ', value)\n",
    "print()\n",
    "\n",
    "plot_cm(test_labels, test_predictions_resampled)"
   ]
  },
  {
   "cell_type": "markdown",
   "metadata": {
    "colab_type": "text",
    "id": "_xYozM1IIITq"
   },
   "source": [
    "### Plot the ROC"
   ]
  },
  {
   "cell_type": "code",
   "execution_count": 52,
   "metadata": {
    "colab": {},
    "colab_type": "code",
    "id": "fye_CiuYrZ1U"
   },
   "outputs": [
    {
     "data": {
      "text/plain": [
       "<matplotlib.legend.Legend at 0x7f16a8562b70>"
      ]
     },
     "execution_count": 52,
     "metadata": {},
     "output_type": "execute_result"
    },
    {
     "data": {
      "image/png": "[encoded data removed]",
      "text/plain": [
       "<Figure size 864x720 with 1 Axes>"
      ]
     },
     "metadata": {
      "needs_background": "light"
     },
     "output_type": "display_data"
    }
   ],
   "source": [
    "plot_roc(\"Train Baseline\", train_labels, train_predictions_baseline, color=colors[0])\n",
    "plot_roc(\"Test Baseline\", test_labels, test_predictions_baseline, color=colors[0], linestyle='--')\n",
    "\n",
    "plot_roc(\"Train Weighted\", train_labels, train_predictions_weighted, color=colors[1])\n",
    "plot_roc(\"Test Weighted\", test_labels, test_predictions_weighted, color=colors[1], linestyle='--')\n",
    "\n",
    "plot_roc(\"Train Resampled\", train_labels, train_predictions_resampled,  color=colors[2])\n",
    "plot_roc(\"Test Resampled\", test_labels, test_predictions_resampled,  color=colors[2], linestyle='--')\n",
    "plt.legend(loc='lower right')"
   ]
  },
  {
   "cell_type": "markdown",
   "metadata": {
    "colab_type": "text",
    "id": "3o3f0ywl8uqW"
   },
   "source": [
    "## Applying this tutorial to your problem\n",
    "\n",
    "Imbalanced data classification is an inherantly difficult task since there are so few samples to learn from. You should always start with the data first and do your best to collect as many samples as possible and give substantial thought to what features may be relevant so the model can get the most out of your minority class. At some point your model may struggle to improve and yield the results you want, so it is important to keep in mind the context of your problem and the trade offs between different types of errors."
   ]
  }
 ],
 "metadata": {
  "colab": {
   "collapsed_sections": [],
   "name": "imbalanced_data.ipynb",
   "private_outputs": true,
   "provenance": [],
   "toc_visible": true
  },
  "kernelspec": {
   "display_name": "Python 3",
   "language": "python",
   "name": "python3"
  },
  "language_info": {
   "codemirror_mode": {
    "name": "ipython",
    "version": 3
   },
   "file_extension": ".py",
   "mimetype": "text/x-python",
   "name": "python",
   "nbconvert_exporter": "python",
   "pygments_lexer": "ipython3",
   "version": "3.7.7"
  }
 },
 "nbformat": 4,
 "nbformat_minor": 1
}
